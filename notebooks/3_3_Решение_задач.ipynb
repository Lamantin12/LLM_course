{
  "cells": [
    {
      "cell_type": "code",
      "execution_count": 1,
      "metadata": {
        "id": "YfVGMp8AkODF"
      },
      "outputs": [
        {
          "name": "stdout",
          "output_type": "stream",
          "text": [
            "\n",
            "\u001b[1m[\u001b[0m\u001b[34;49mnotice\u001b[0m\u001b[1;39;49m]\u001b[0m\u001b[39;49m A new release of pip is available: \u001b[0m\u001b[31;49m23.2.1\u001b[0m\u001b[39;49m -> \u001b[0m\u001b[32;49m24.3.1\u001b[0m\n",
            "\u001b[1m[\u001b[0m\u001b[34;49mnotice\u001b[0m\u001b[1;39;49m]\u001b[0m\u001b[39;49m To update, run: \u001b[0m\u001b[32;49mpip install --upgrade pip\u001b[0m\n"
          ]
        }
      ],
      "source": [
        "!pip install langchain openai langchain-openai langchain-community -q"
      ]
    },
    {
      "cell_type": "code",
      "execution_count": 2,
      "metadata": {
        "id": "lBznbmZ9nOa-"
      },
      "outputs": [],
      "source": [
        "from getpass import getpass"
      ]
    },
    {
      "cell_type": "markdown",
      "metadata": {
        "id": "0dt0Sf3xnS3m"
      },
      "source": [
        "## Если используете ключ от OpenAI, запустите эту ячейку 👇"
      ]
    },
    {
      "cell_type": "code",
      "execution_count": 3,
      "metadata": {
        "id": "a2ZTWMEynSrk"
      },
      "outputs": [],
      "source": [
        "# import os\n",
        "# from langchain_openai import ChatOpenAI\n",
        "\n",
        "\n",
        "# # os.environ['OPENAI_API_KEY'] = \"Введите ваш OpenAI API ключ\"\n",
        "# os.environ['OPENAI_API_KEY'] = getpass(prompt='Введите ваш OpenAI API ключ')\n",
        "\n",
        "# # Инициализируем языковую модель\n",
        "# llm = ChatOpenAI(temperature=0.0)"
      ]
    },
    {
      "cell_type": "markdown",
      "metadata": {
        "id": "S6LFfoYSnfVO"
      },
      "source": [
        "## Если используете ключ из курса, запустите эти ячейки 👇"
      ]
    },
    {
      "cell_type": "code",
      "execution_count": 5,
      "metadata": {
        "id": "5dTISH0jne2z"
      },
      "outputs": [],
      "source": [
        "# !wget https://raw.githubusercontent.com/a-milenkin/LLM_practical_course/main/notebooks/utils.py"
      ]
    },
    {
      "cell_type": "code",
      "execution_count": 6,
      "metadata": {
        "id": "ATSJBycqnj9j"
      },
      "outputs": [],
      "source": [
        "from utils import ChatOpenAI\n",
        "from getpass import getpass\n",
        "\n",
        "#course_api_key= \"Введите ваш API ключ, полученный в боте курса\"\n",
        "course_api_key = getpass(prompt='Введите ваш API ключ, полученный в боте курса')\n",
        "\n",
        "# инициализируем языковую модель\n",
        "llm = ChatOpenAI(temperature=0.0, course_api_key=course_api_key)"
      ]
    },
    {
      "cell_type": "markdown",
      "metadata": {
        "id": "AX_cKZihoXnP"
      },
      "source": [
        "## Задание 3.3.7 🛠️ Кастомные инструменты 🧮\n",
        "\n"
      ]
    },
    {
      "cell_type": "code",
      "execution_count": 9,
      "metadata": {
        "id": "vI8mEuO-ofvp"
      },
      "outputs": [],
      "source": [
        "from math import pi\n",
        "from langchain.tools import tool\n",
        "# Импортируйте tool"
      ]
    },
    {
      "cell_type": "code",
      "execution_count": 10,
      "metadata": {
        "id": "SvYqtxs5ocrx"
      },
      "outputs": [],
      "source": [
        "# 2 реализованные функции, как пример\n",
        "@tool\n",
        "def compute_arc_length(radius, angle_in_degrees):\n",
        "    \"\"\"Вычисляет длину дуги по радиусу и углу в градусах\"\"\"\n",
        "    return (angle_in_degrees / 360) * 2 * math.pi * radius\n",
        "\n",
        "\n",
        "@tool\n",
        "def compute_triangle_area(a, b, c):\n",
        "    \"\"\"Вычисляет площадь треугольника по длинам его сторон\"\"\"\n",
        "    s = (a + b + c) / 2\n",
        "    return math.sqrt(s * (s - a) * (s - b) * (s - c))"
      ]
    },
    {
      "cell_type": "markdown",
      "metadata": {
        "id": "AvHLRwMloynN"
      },
      "source": [
        "Список функций, которые вам нужно реализовать:\n",
        "\n",
        "- `add_numbers(num1, num2)` - Складывает два числа\n",
        "- `convert_meters_to_cm(num)` - Переводит метры в сантиметры\n",
        "- `convert_cubic_cm_to_liters(num)` - Переводит кубические сантиметры в литры\n",
        "- `compute_rectangle_perimeter(a, b)` - Вычисляет периметр прямоугольника\n",
        "- `compute_circle_area(radius)` - Вычисляет площадь круга\n",
        "- `compute_cylinder_volume(radius, height)` - Вычисляет объем цилиндра\n",
        "- `compute_cube_volume(a)` - Вычисляет объем куба\n",
        "- `convert_binary_to_decimal(binary_number: str)` - Переводит число из двоичной системы счисления в десятичную систему счисления\n",
        "- `convert_decimal_to_binary(decimal_number)` - Переводит число из десятичной системы счисления в двоичную систему счисления.\n",
        "- `get_count_ones(number: str)` - Находит количество единиц в двоичном представлении числа."
      ]
    },
    {
      "cell_type": "code",
      "execution_count": 11,
      "metadata": {
        "id": "JKiMjkjiooX7"
      },
      "outputs": [],
      "source": [
        "# Реализуйте функции"
      ]
    },
    {
      "cell_type": "code",
      "execution_count": 12,
      "metadata": {
        "id": "1zACraIToqdb"
      },
      "outputs": [],
      "source": [
        "# Поместите все написанные функции в tools\n",
        "tools = [compute_arc_length, compute_triangle_area, ...]"
      ]
    },
    {
      "cell_type": "code",
      "execution_count": 13,
      "metadata": {
        "id": "As114MRqpWza"
      },
      "outputs": [
        {
          "ename": "NameError",
          "evalue": "name 'add_numbers' is not defined",
          "output_type": "error",
          "traceback": [
            "\u001b[0;31m---------------------------------------------------------------------------\u001b[0m",
            "\u001b[0;31mNameError\u001b[0m                                 Traceback (most recent call last)",
            "Cell \u001b[0;32mIn[13], line 3\u001b[0m\n\u001b[1;32m      1\u001b[0m \u001b[38;5;66;03m# Запустите эту ячейку с тестами для проверки написанных функций\u001b[39;00m\n\u001b[0;32m----> 3\u001b[0m \u001b[38;5;28;01massert\u001b[39;00m \u001b[43madd_numbers\u001b[49m(\u001b[38;5;241m-\u001b[39m\u001b[38;5;241m3\u001b[39m, \u001b[38;5;241m-\u001b[39m\u001b[38;5;241m5\u001b[39m) \u001b[38;5;241m==\u001b[39m \u001b[38;5;241m-\u001b[39m\u001b[38;5;241m8\u001b[39m, \u001b[38;5;124m\"\u001b[39m\u001b[38;5;124mОшибка в функции: add_numbers(-3, -5) должно быть -8\u001b[39m\u001b[38;5;124m\"\u001b[39m\n\u001b[1;32m      4\u001b[0m \u001b[38;5;28;01massert\u001b[39;00m convert_meters_to_cm(\u001b[38;5;241m2\u001b[39m) \u001b[38;5;241m==\u001b[39m \u001b[38;5;241m200\u001b[39m, \u001b[38;5;124m\"\u001b[39m\u001b[38;5;124mОшибка в функции: convert_meters_to_cm(2) должно быть 200\u001b[39m\u001b[38;5;124m\"\u001b[39m\n\u001b[1;32m      5\u001b[0m \u001b[38;5;28;01massert\u001b[39;00m convert_cubic_cm_to_liters(\u001b[38;5;241m500\u001b[39m) \u001b[38;5;241m==\u001b[39m \u001b[38;5;241m0.5\u001b[39m, \u001b[38;5;124m\"\u001b[39m\u001b[38;5;124mОшибка в функции: convert_cubic_cm_to_liters(500) должно быть 0.5\u001b[39m\u001b[38;5;124m\"\u001b[39m\n",
            "\u001b[0;31mNameError\u001b[0m: name 'add_numbers' is not defined"
          ]
        }
      ],
      "source": [
        "# Запустите эту ячейку с тестами для проверки написанных функций\n",
        "\n",
        "assert add_numbers(-3, -5) == -8, \"Ошибка в функции: add_numbers(-3, -5) должно быть -8\"\n",
        "assert convert_meters_to_cm(2) == 200, \"Ошибка в функции: convert_meters_to_cm(2) должно быть 200\"\n",
        "assert convert_cubic_cm_to_liters(500) == 0.5, \"Ошибка в функции: convert_cubic_cm_to_liters(500) должно быть 0.5\"\n",
        "assert compute_rectangle_perimeter(5, 5) == 20, \"Ошибка в функции: compute_rectangle_perimeter(5, 5) должно быть 20\"\n",
        "assert math.isclose(compute_circle_area(2), 4 * math.pi, rel_tol=1e-5), \"Ошибка в функции: compute_circle_area(2) должно быть близко к 4 * pi\"\n",
        "assert math.isclose(compute_triangle_area(3, 4, 5), 6, rel_tol=1e-5), \"Ошибка в функции: compute_triangle_area(3, 4, 5) должно быть 6\"\n",
        "assert math.isclose(compute_cylinder_volume(2, 3), 12 * math.pi, rel_tol=1e-5), \"Ошибка в функции: compute_cylinder_volume(2, 3) должно быть близко к 12 * pi\"\n",
        "assert compute_cube_volume(3) == 27, \"Ошибка в функции: compute_cube_volume(3) должно быть 27\"\n",
        "assert math.isclose(compute_arc_length(2, 90), math.pi, rel_tol=1e-5), \"Ошибка в функции: compute_arc_length(2, 90) должно быть близко к pi\"\n",
        "assert convert_binary_to_decimal(\"1101\") == 13, \"Ошибка в функции: convert_binary_to_decimal('1101') должно быть 13\"\n",
        "assert convert_decimal_to_binary(13) == \"1101\", \"Ошибка в функции: convert_decimal_to_binary(13) должно быть '1101'\"\n",
        "assert get_count_ones(\"1010\") == 2, \"Ошибка в функции: get_count_ones('1010') должно быть 2\""
      ]
    },
    {
      "cell_type": "markdown",
      "metadata": {
        "id": "-fmE6S1G27Z3"
      },
      "source": [
        "\n",
        "## Задание 3.3.8 🧑‍🎓 Грокаем с агентом школьные математические задачки\n"
      ]
    },
    {
      "cell_type": "markdown",
      "metadata": {
        "id": "ClDLKqax6Lxu"
      },
      "source": [
        "Создайте своего агента-математика, использовав `tools` с предыдущего степа. Решите с помощью него предоставленные примеры и запишите ответ в столбец `answer` (только ответ, во всех задачах это числа - целые или вещественные)."
      ]
    },
    {
      "cell_type": "code",
      "execution_count": null,
      "metadata": {
        "id": "V0XIehJlpx8n"
      },
      "outputs": [],
      "source": [
        "import pandas as pd\n",
        "from tqdm import tqdm\n",
        "from langchain.agents import initialize_agent, AgentType\n",
        "\n",
        "df = pd.read_csv(\"https://stepik.org/media/attachments/lesson/1110884/custom_math_tools.csv\")\n",
        "df.head()"
      ]
    },
    {
      "cell_type": "code",
      "execution_count": null,
      "metadata": {
        "id": "ieGFa-6W3WfP"
      },
      "outputs": [],
      "source": [
        "agent = initialize_agent(\n",
        "    agent=AgentType.STRUCTURED_CHAT_ZERO_SHOT_REACT_DESCRIPTION\n",
        ")"
      ]
    },
    {
      "cell_type": "code",
      "execution_count": null,
      "metadata": {
        "id": "wsSQKz6H3fhM"
      },
      "outputs": [],
      "source": [
        "for task in tqdm(df['task']):\n",
        "    # YOUR CODE HERE\n",
        "    break # Для отладки. Уберите, когда убедитесь, что на одном примере работает"
      ]
    },
    {
      "cell_type": "code",
      "execution_count": null,
      "metadata": {
        "id": "h0ZbN-Tl3kPc"
      },
      "outputs": [],
      "source": [
        "df[['task', 'answer']].to_csv(\"3.3.8_solution.csv\", index=False)"
      ]
    },
    {
      "cell_type": "markdown",
      "metadata": {
        "id": "Fb5elrFx56u6"
      },
      "source": [
        "## Задание 3.3.9 🕵️‍♂️ Агент - полиграф. 📠"
      ]
    },
    {
      "cell_type": "markdown",
      "metadata": {
        "id": "14_gmkF_6cZj"
      },
      "source": [
        "Создайте агента, который смог бы отвечать на вопросы из широкого спектра областей знаний от математических примеров до научных фактов. Отвечать надо в формате: правда или ложь. На некоторые вопросы, возможно, агент не сможет ответить без вашей помощи, например про преподавателей курса 🙈, поэтому надо будет использовать инструмент `human`, о котором упоминали в ноутбуке урока."
      ]
    },
    {
      "cell_type": "code",
      "execution_count": null,
      "metadata": {
        "id": "U8D9YINt6ED-"
      },
      "outputs": [],
      "source": [
        "import pandas as pd\n",
        "from tqdm import tqdm\n",
        "from langchain.agents import initialize_agent, AgentType\n",
        "\n",
        "df = pd.read_csv(\"https://stepik.org/media/attachments/lesson/1110884/questions.csv\")\n",
        "df.head()"
      ]
    },
    {
      "cell_type": "code",
      "execution_count": null,
      "metadata": {
        "id": "ukRFqqu16kFO"
      },
      "outputs": [],
      "source": [
        "tools = []"
      ]
    },
    {
      "cell_type": "code",
      "execution_count": null,
      "metadata": {
        "id": "KCwe8GpJ8UOe"
      },
      "outputs": [],
      "source": [
        "agent = initialize_agent(\n",
        "    agent=AgentType.STRUCTURED_CHAT_ZERO_SHOT_REACT_DESCRIPTION,\n",
        "\n",
        ")"
      ]
    },
    {
      "cell_type": "code",
      "execution_count": null,
      "metadata": {
        "id": "nyT3pUmA8WdI"
      },
      "outputs": [],
      "source": [
        "for text in tqdm(df['texts']):\n",
        "    # YOUR CODE HERE\n",
        "    break # Для отладки. Уберите, когда убедитесь, что на одном примере работает"
      ]
    },
    {
      "cell_type": "code",
      "execution_count": null,
      "metadata": {
        "id": "omLhHZzJ8zdF"
      },
      "outputs": [],
      "source": [
        "df[['texts', 'answers']].to_csv(\"3.3.9_solution.csv\", index=False)"
      ]
    }
  ],
  "metadata": {
    "colab": {
      "provenance": []
    },
    "kernelspec": {
      "display_name": "Python 3",
      "name": "python3"
    },
    "language_info": {
      "codemirror_mode": {
        "name": "ipython",
        "version": 3
      },
      "file_extension": ".py",
      "mimetype": "text/x-python",
      "name": "python",
      "nbconvert_exporter": "python",
      "pygments_lexer": "ipython3",
      "version": "3.11.5"
    }
  },
  "nbformat": 4,
  "nbformat_minor": 0
}
