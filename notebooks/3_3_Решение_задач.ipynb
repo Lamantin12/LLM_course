{
  "cells": [
    {
      "cell_type": "code",
      "execution_count": 4,
      "metadata": {
        "id": "YfVGMp8AkODF"
      },
      "outputs": [
        {
          "name": "stdout",
          "output_type": "stream",
          "text": [
            "\n",
            "\u001b[1m[\u001b[0m\u001b[34;49mnotice\u001b[0m\u001b[1;39;49m]\u001b[0m\u001b[39;49m A new release of pip is available: \u001b[0m\u001b[31;49m23.2.1\u001b[0m\u001b[39;49m -> \u001b[0m\u001b[32;49m24.3.1\u001b[0m\n",
            "\u001b[1m[\u001b[0m\u001b[34;49mnotice\u001b[0m\u001b[1;39;49m]\u001b[0m\u001b[39;49m To update, run: \u001b[0m\u001b[32;49mpip install --upgrade pip\u001b[0m\n"
          ]
        }
      ],
      "source": [
        "!pip install langchain openai langchain-openai langchain-community -q"
      ]
    },
    {
      "cell_type": "code",
      "execution_count": 5,
      "metadata": {
        "id": "lBznbmZ9nOa-"
      },
      "outputs": [],
      "source": [
        "from getpass import getpass"
      ]
    },
    {
      "cell_type": "markdown",
      "metadata": {
        "id": "0dt0Sf3xnS3m"
      },
      "source": [
        "## Если используете ключ от OpenAI, запустите эту ячейку 👇"
      ]
    },
    {
      "cell_type": "code",
      "execution_count": 6,
      "metadata": {
        "id": "a2ZTWMEynSrk"
      },
      "outputs": [],
      "source": [
        "# import os\n",
        "# from langchain_openai import ChatOpenAI\n",
        "\n",
        "\n",
        "# # os.environ['OPENAI_API_KEY'] = \"Введите ваш OpenAI API ключ\"\n",
        "# os.environ['OPENAI_API_KEY'] = getpass(prompt='Введите ваш OpenAI API ключ')\n",
        "\n",
        "# # Инициализируем языковую модель\n",
        "# llm = ChatOpenAI(temperature=0.0)"
      ]
    },
    {
      "cell_type": "markdown",
      "metadata": {
        "id": "S6LFfoYSnfVO"
      },
      "source": [
        "## Если используете ключ из курса, запустите эти ячейки 👇"
      ]
    },
    {
      "cell_type": "code",
      "execution_count": 7,
      "metadata": {
        "id": "5dTISH0jne2z"
      },
      "outputs": [],
      "source": [
        "# !wget https://raw.githubusercontent.com/a-milenkin/LLM_practical_course/main/notebooks/utils.py"
      ]
    },
    {
      "cell_type": "code",
      "execution_count": 26,
      "metadata": {
        "id": "ATSJBycqnj9j"
      },
      "outputs": [],
      "source": [
        "from utils import ChatOpenAI\n",
        "from getpass import getpass\n",
        "\n",
        "#course_api_key= \"Введите ваш API ключ, полученный в боте курса\"\n",
        "course_api_key = getpass(prompt='Введите ваш API ключ, полученный в боте курса')\n",
        "\n",
        "# инициализируем языковую модель\n",
        "llm = ChatOpenAI(temperature=0.0, course_api_key=course_api_key)"
      ]
    },
    {
      "cell_type": "markdown",
      "metadata": {
        "id": "AX_cKZihoXnP"
      },
      "source": [
        "## Задание 3.3.7 🛠️ Кастомные инструменты 🧮\n",
        "\n"
      ]
    },
    {
      "cell_type": "code",
      "execution_count": 27,
      "metadata": {
        "id": "vI8mEuO-ofvp"
      },
      "outputs": [],
      "source": [
        "from math import pi\n",
        "from langchain.tools import tool, StructuredTool\n",
        "# Импортируйте tool"
      ]
    },
    {
      "cell_type": "code",
      "execution_count": 10,
      "metadata": {
        "id": "SvYqtxs5ocrx"
      },
      "outputs": [],
      "source": [
        "# 2 реализованные функции, как пример\n",
        "@tool\n",
        "def compute_arc_length(radius, angle_in_degrees):\n",
        "    \"\"\"Вычисляет длину дуги по радиусу и углу в градусах\"\"\"\n",
        "    return (angle_in_degrees / 360) * 2 * math.pi * radius\n",
        "\n",
        "\n",
        "@tool\n",
        "def compute_triangle_area(a, b, c):\n",
        "    \"\"\"Вычисляет площадь треугольника по длинам его сторон\"\"\"\n",
        "    s = (a + b + c) / 2\n",
        "    return math.sqrt(s * (s - a) * (s - b) * (s - c))"
      ]
    },
    {
      "cell_type": "markdown",
      "metadata": {
        "id": "AvHLRwMloynN"
      },
      "source": [
        "Список функций, которые вам нужно реализовать:\n",
        "\n",
        "- `add_numbers(num1, num2)` - Складывает два числа\n",
        "- `convert_meters_to_cm(num)` - Переводит метры в сантиметры\n",
        "- `convert_cubic_cm_to_liters(num)` - Переводит кубические сантиметры в литры\n",
        "- `compute_rectangle_perimeter(a, b)` - Вычисляет периметр прямоугольника\n",
        "- `compute_circle_area(radius)` - Вычисляет площадь круга\n",
        "- `compute_cylinder_volume(radius, height)` - Вычисляет объем цилиндра\n",
        "- `compute_cube_volume(a)` - Вычисляет объем куба\n",
        "- `convert_binary_to_decimal(binary_number: str)` - Переводит число из двоичной системы счисления в десятичную систему счисления\n",
        "- `convert_decimal_to_binary(decimal_number)` - Переводит число из десятичной системы счисления в двоичную систему счисления.\n",
        "- `get_count_ones(number: str)` - Находит количество единиц в двоичном представлении числа."
      ]
    },
    {
      "cell_type": "code",
      "execution_count": 11,
      "metadata": {
        "id": "JKiMjkjiooX7"
      },
      "outputs": [],
      "source": [
        "# Реализуйте функции\n",
        "import math\n",
        "\n",
        "\n",
        "@tool\n",
        "def add_numbers(num1, num2):\n",
        "    \"\"\"computes sum of two numbers\"\"\"\n",
        "    return num1 + num2\n",
        "\n",
        "@tool\n",
        "def convert_meters_to_cm(num):\n",
        "    \"\"\"converts meters to centimeters\"\"\"\n",
        "    return num*100\n",
        "\n",
        "@tool\n",
        "def convert_cubic_cm_to_liters(num):\n",
        "    \"\"\"converts cubic centimeters to liters\"\"\"\n",
        "    return num*0.001\n",
        "\n",
        "@tool\n",
        "def compute_rectangle_perimeter(a, b):\n",
        "    \"\"\"computes perimeter of a rectangle\"\"\"\n",
        "    return 2*(a + b) \n",
        "\n",
        "@tool\n",
        "def compute_circle_area(radius):\n",
        "    \"\"\"computes area of a circle\"\"\"\n",
        "    return math.pi * radius**2 \n",
        "\n",
        "@tool\n",
        "def compute_cylinder_volume(radius, height):\n",
        "    \"\"\"computes volume of a cylinder\"\"\"\n",
        "    return math.pi * radius**2 * height\n",
        "\n",
        "@tool\n",
        "def compute_cube_volume(a):\n",
        "    \"\"\"computes volume of a cube\"\"\"\n",
        "    return a**3 \n",
        "\n",
        "@tool\n",
        "def convert_binary_to_decimal(binary_number: str):\n",
        "    \"\"\"converts a binary number to decimal\"\"\"\n",
        "    return int(binary_number, 2)\n",
        "\n",
        "@tool\n",
        "def convert_decimal_to_binary(decimal_number):\n",
        "    \"\"\"converts a decimal number to binary\"\"\"\n",
        "    return \"{0:b}\".format(decimal_number)\n",
        "\n",
        "@tool\n",
        "def get_count_ones(number: str):\n",
        "    \"\"\"find number of ones in binary representation of a number\"\"\"\n",
        "    return number.count('1')"
      ]
    },
    {
      "cell_type": "code",
      "execution_count": 12,
      "metadata": {
        "id": "1zACraIToqdb"
      },
      "outputs": [],
      "source": [
        "# Поместите все написанные функции в tools\n",
        "tools = [\n",
        "    compute_arc_length, compute_triangle_area, add_numbers, convert_meters_to_cm,\n",
        "    convert_cubic_cm_to_liters, compute_rectangle_perimeter, compute_circle_area, \n",
        "    compute_cylinder_volume, compute_cube_volume, convert_binary_to_decimal, \n",
        "    convert_decimal_to_binary, get_count_ones\n",
        "    ]"
      ]
    },
    {
      "cell_type": "code",
      "execution_count": 13,
      "metadata": {},
      "outputs": [
        {
          "name": "stderr",
          "output_type": "stream",
          "text": [
            "/var/folders/1v/2njvtrl903s020_gk0tw647c0000gn/T/ipykernel_31599/990272199.py:6: LangChainDeprecationWarning: The method `BaseTool.__call__` was deprecated in langchain-core 0.1.47 and will be removed in 1.0. Use :meth:`~invoke` instead.\n",
            "  multiply({\"a\": 1,\"b\": 2})\n"
          ]
        },
        {
          "data": {
            "text/plain": [
              "2"
            ]
          },
          "execution_count": 13,
          "metadata": {},
          "output_type": "execute_result"
        }
      ],
      "source": [
        "@tool\n",
        "def multiply(a: int, b: int) -> int:\n",
        "    \"\"\"Multiply two numbers.\"\"\"\n",
        "    return a * b\n",
        "    \n",
        "multiply({\"a\": 1,\"b\": 2})"
      ]
    },
    {
      "cell_type": "code",
      "execution_count": null,
      "metadata": {
        "id": "As114MRqpWza"
      },
      "outputs": [],
      "source": [
        "# Запустите эту ячейку с тестами для проверки написанных функций\n",
        "\n",
        "assert add_numbers(-3, -5) == -8, \"Ошибка в функции: add_numbers(-3, -5) должно быть -8\"\n",
        "assert convert_meters_to_cm(2) == 200, \"Ошибка в функции: convert_meters_to_cm(2) должно быть 200\"\n",
        "assert convert_cubic_cm_to_liters(500) == 0.5, \"Ошибка в функции: convert_cubic_cm_to_liters(500) должно быть 0.5\"\n",
        "assert compute_rectangle_perimeter(5, 5) == 20, \"Ошибка в функции: compute_rectangle_perimeter(5, 5) должно быть 20\"\n",
        "assert math.isclose(compute_circle_area(2), 4 * math.pi, rel_tol=1e-5), \"Ошибка в функции: compute_circle_area(2) должно быть близко к 4 * pi\"\n",
        "assert math.isclose(compute_triangle_area(3, 4, 5), 6, rel_tol=1e-5), \"Ошибка в функции: compute_triangle_area(3, 4, 5) должно быть 6\"\n",
        "assert math.isclose(compute_cylinder_volume(2, 3), 12 * math.pi, rel_tol=1e-5), \"Ошибка в функции: compute_cylinder_volume(2, 3) должно быть близко к 12 * pi\"\n",
        "assert compute_cube_volume(3) == 27, \"Ошибка в функции: compute_cube_volume(3) должно быть 27\"\n",
        "assert math.isclose(compute_arc_length(2, 90), math.pi, rel_tol=1e-5), \"Ошибка в функции: compute_arc_length(2, 90) должно быть близко к pi\"\n",
        "assert convert_binary_to_decimal(\"1101\") == 13, \"Ошибка в функции: convert_binary_to_decimal('1101') должно быть 13\"\n",
        "assert convert_decimal_to_binary(13) == \"1101\", \"Ошибка в функции: convert_decimal_to_binary(13) должно быть '1101'\"\n",
        "assert get_count_ones(\"1010\") == 2, \"Ошибка в функции: get_count_ones('1010') должно быть 2\""
      ]
    },
    {
      "cell_type": "markdown",
      "metadata": {
        "id": "-fmE6S1G27Z3"
      },
      "source": [
        "\n",
        "## Задание 3.3.8 🧑‍🎓 Грокаем с агентом школьные математические задачки\n"
      ]
    },
    {
      "cell_type": "markdown",
      "metadata": {
        "id": "ClDLKqax6Lxu"
      },
      "source": [
        "Создайте своего агента-математика, использовав `tools` с предыдущего степа. Решите с помощью него предоставленные примеры и запишите ответ в столбец `answer` (только ответ, во всех задачах это числа - целые или вещественные)."
      ]
    },
    {
      "cell_type": "code",
      "execution_count": null,
      "metadata": {
        "id": "V0XIehJlpx8n"
      },
      "outputs": [],
      "source": [
        "import pandas as pd\n",
        "from tqdm import tqdm\n",
        "from langchain.agents import initialize_agent, AgentType\n",
        "\n",
        "df = pd.read_csv(\"https://stepik.org/media/attachments/lesson/1110884/custom_math_tools.csv\")\n",
        "df.head()"
      ]
    },
    {
      "cell_type": "code",
      "execution_count": null,
      "metadata": {
        "id": "ieGFa-6W3WfP"
      },
      "outputs": [],
      "source": [
        "agent = initialize_agent(\n",
        "    agent=AgentType.STRUCTURED_CHAT_ZERO_SHOT_REACT_DESCRIPTION,\n",
        "    tools=tools,\n",
        "    llm=llm,\n",
        "    verbose=True\n",
        ")"
      ]
    },
    {
      "cell_type": "code",
      "execution_count": null,
      "metadata": {
        "id": "wsSQKz6H3fhM"
      },
      "outputs": [],
      "source": [
        "from langchain.prompts import PromptTemplate\n",
        "\n",
        "template = \"\"\"You are a math solving assistant.\n",
        "Read question and using tools answer with only one number.\n",
        "\n",
        "Question: {question}\n",
        "\n",
        "Answer:\n",
        "\"\"\"\n",
        "\n",
        "prompt = PromptTemplate(\n",
        "    input_variables=[\"question\"], template=template\n",
        ")\n",
        "\n",
        "result = []\n",
        "for task in tqdm(df['task']):\n",
        "    res = agent.invoke(prompt.format(question=task))\n",
        "    result.append(res[\"output\"])\n",
        "    # break # Для отладки. Уберите, когда убедитесь, что на одном примере работает"
      ]
    },
    {
      "cell_type": "code",
      "execution_count": null,
      "metadata": {},
      "outputs": [],
      "source": [
        "task"
      ]
    },
    {
      "cell_type": "code",
      "execution_count": null,
      "metadata": {},
      "outputs": [],
      "source": [
        "res"
      ]
    },
    {
      "cell_type": "code",
      "execution_count": null,
      "metadata": {},
      "outputs": [],
      "source": [
        "df.task.iloc[6]"
      ]
    },
    {
      "cell_type": "code",
      "execution_count": null,
      "metadata": {},
      "outputs": [],
      "source": [
        "compute_arc_length.description\n",
        "compute_arc_length({\"radius\": 20, \"angle_in_degrees\": 60})"
      ]
    },
    {
      "cell_type": "code",
      "execution_count": null,
      "metadata": {},
      "outputs": [],
      "source": [
        "result"
      ]
    },
    {
      "cell_type": "code",
      "execution_count": null,
      "metadata": {},
      "outputs": [],
      "source": [
        "result_ = [round(float(e), 3) for e in result]"
      ]
    },
    {
      "cell_type": "code",
      "execution_count": null,
      "metadata": {},
      "outputs": [],
      "source": [
        "result_"
      ]
    },
    {
      "cell_type": "code",
      "execution_count": null,
      "metadata": {},
      "outputs": [],
      "source": [
        "df[\"answer\"] = result_"
      ]
    },
    {
      "cell_type": "code",
      "execution_count": null,
      "metadata": {},
      "outputs": [],
      "source": [
        "df"
      ]
    },
    {
      "cell_type": "code",
      "execution_count": null,
      "metadata": {
        "id": "h0ZbN-Tl3kPc"
      },
      "outputs": [],
      "source": [
        "df[['task', 'answer']].to_csv(\"3.3.8_solution.csv\", index=False)"
      ]
    },
    {
      "cell_type": "markdown",
      "metadata": {
        "id": "Fb5elrFx56u6"
      },
      "source": [
        "## Задание 3.3.9 🕵️‍♂️ Агент - полиграф. 📠"
      ]
    },
    {
      "cell_type": "markdown",
      "metadata": {
        "id": "14_gmkF_6cZj"
      },
      "source": [
        "Создайте агента, который смог бы отвечать на вопросы из широкого спектра областей знаний от математических примеров до научных фактов. Отвечать надо в формате: правда или ложь. На некоторые вопросы, возможно, агент не сможет ответить без вашей помощи, например про преподавателей курса 🙈, поэтому надо будет использовать инструмент `human`, о котором упоминали в ноутбуке урока."
      ]
    },
    {
      "cell_type": "code",
      "execution_count": 14,
      "metadata": {
        "id": "U8D9YINt6ED-"
      },
      "outputs": [
        {
          "data": {
            "text/html": [
              "<div>\n",
              "<style scoped>\n",
              "    .dataframe tbody tr th:only-of-type {\n",
              "        vertical-align: middle;\n",
              "    }\n",
              "\n",
              "    .dataframe tbody tr th {\n",
              "        vertical-align: top;\n",
              "    }\n",
              "\n",
              "    .dataframe thead th {\n",
              "        text-align: right;\n",
              "    }\n",
              "</style>\n",
              "<table border=\"1\" class=\"dataframe\">\n",
              "  <thead>\n",
              "    <tr style=\"text-align: right;\">\n",
              "      <th></th>\n",
              "      <th>texts</th>\n",
              "      <th>answers</th>\n",
              "    </tr>\n",
              "  </thead>\n",
              "  <tbody>\n",
              "    <tr>\n",
              "      <th>0</th>\n",
              "      <td>Человек использует только 10% своего мозга.</td>\n",
              "      <td>?</td>\n",
              "    </tr>\n",
              "    <tr>\n",
              "      <th>1</th>\n",
              "      <td>Кошки и собаки видят мир в черно-белых тонах.</td>\n",
              "      <td>?</td>\n",
              "    </tr>\n",
              "    <tr>\n",
              "      <th>2</th>\n",
              "      <td>Дейтерий - это изотоп водорода.</td>\n",
              "      <td>?</td>\n",
              "    </tr>\n",
              "    <tr>\n",
              "      <th>3</th>\n",
              "      <td>Пчёлы не могут видеть красный цвет.</td>\n",
              "      <td>?</td>\n",
              "    </tr>\n",
              "    <tr>\n",
              "      <th>4</th>\n",
              "      <td>Нейтроны - это элементарные частицы с отрицате...</td>\n",
              "      <td>?</td>\n",
              "    </tr>\n",
              "  </tbody>\n",
              "</table>\n",
              "</div>"
            ],
            "text/plain": [
              "                                               texts answers\n",
              "0        Человек использует только 10% своего мозга.       ?\n",
              "1      Кошки и собаки видят мир в черно-белых тонах.       ?\n",
              "2                    Дейтерий - это изотоп водорода.       ?\n",
              "3                Пчёлы не могут видеть красный цвет.       ?\n",
              "4  Нейтроны - это элементарные частицы с отрицате...       ?"
            ]
          },
          "execution_count": 14,
          "metadata": {},
          "output_type": "execute_result"
        }
      ],
      "source": [
        "import pandas as pd\n",
        "from tqdm import tqdm\n",
        "from langchain.agents import initialize_agent, AgentType\n",
        "from \n",
        "\n",
        "df = pd.read_csv(\"https://stepik.org/media/attachments/lesson/1110884/questions.csv\")\n",
        "df.head()"
      ]
    },
    {
      "cell_type": "code",
      "execution_count": 35,
      "metadata": {},
      "outputs": [
        {
          "data": {
            "text/plain": [
              "'Курс который вы сейчас проходите размещён на Stepik.'"
            ]
          },
          "execution_count": 35,
          "metadata": {},
          "output_type": "execute_result"
        }
      ],
      "source": [
        "df.iloc[22].texts"
      ]
    },
    {
      "cell_type": "code",
      "execution_count": 58,
      "metadata": {},
      "outputs": [],
      "source": [
        "from langchain.agents import Tool, load_tools\n",
        "llm_tool = Tool(\n",
        "    name='Language Model',\n",
        "    func=llm.predict,\n",
        "    description='Answer to general questions'\n",
        ")"
      ]
    },
    {
      "cell_type": "code",
      "execution_count": 61,
      "metadata": {
        "id": "ukRFqqu16kFO"
      },
      "outputs": [],
      "source": [
        "tools = load_tools(\n",
        "    [\"human\", \"llm-math\", \"wikipedia\"],\n",
        "    llm=llm,\n",
        ")\n",
        "tools.append(llm_tool)"
      ]
    },
    {
      "cell_type": "code",
      "execution_count": 62,
      "metadata": {},
      "outputs": [
        {
          "data": {
            "text/plain": [
              "[HumanInputRun(prompt_func=<function _print_func at 0x16972fba0>, input_func=<bound method Kernel.raw_input of <ipykernel.ipkernel.IPythonKernel object at 0x1037e8d90>>),\n",
              " Tool(name='Calculator', description='Useful for when you need to answer questions about math.', func=<bound method Chain.run of LLMMathChain(verbose=False, llm_chain=LLMChain(verbose=False, prompt=PromptTemplate(input_variables=['question'], input_types={}, partial_variables={}, template='Translate a math problem into a expression that can be executed using Python\\'s numexpr library. Use the output of running this code to answer the question.\\n\\nQuestion: ${{Question with math problem.}}\\n```text\\n${{single line mathematical expression that solves the problem}}\\n```\\n...numexpr.evaluate(text)...\\n```output\\n${{Output of running the code}}\\n```\\nAnswer: ${{Answer}}\\n\\nBegin.\\n\\nQuestion: What is 37593 * 67?\\n```text\\n37593 * 67\\n```\\n...numexpr.evaluate(\"37593 * 67\")...\\n```output\\n2518731\\n```\\nAnswer: 2518731\\n\\nQuestion: 37593^(1/5)\\n```text\\n37593**(1/5)\\n```\\n...numexpr.evaluate(\"37593**(1/5)\")...\\n```output\\n8.222831614237718\\n```\\nAnswer: 8.222831614237718\\n\\nQuestion: {question}\\n'), llm=ChatOpenAI(client=<openai.resources.chat.completions.Completions object at 0x16b56b5d0>, async_client=<openai.resources.chat.completions.AsyncCompletions object at 0x16b594e90>, temperature=0.0, model_kwargs={}), output_parser=StrOutputParser(), llm_kwargs={}))>, coroutine=<bound method Chain.arun of LLMMathChain(verbose=False, llm_chain=LLMChain(verbose=False, prompt=PromptTemplate(input_variables=['question'], input_types={}, partial_variables={}, template='Translate a math problem into a expression that can be executed using Python\\'s numexpr library. Use the output of running this code to answer the question.\\n\\nQuestion: ${{Question with math problem.}}\\n```text\\n${{single line mathematical expression that solves the problem}}\\n```\\n...numexpr.evaluate(text)...\\n```output\\n${{Output of running the code}}\\n```\\nAnswer: ${{Answer}}\\n\\nBegin.\\n\\nQuestion: What is 37593 * 67?\\n```text\\n37593 * 67\\n```\\n...numexpr.evaluate(\"37593 * 67\")...\\n```output\\n2518731\\n```\\nAnswer: 2518731\\n\\nQuestion: 37593^(1/5)\\n```text\\n37593**(1/5)\\n```\\n...numexpr.evaluate(\"37593**(1/5)\")...\\n```output\\n8.222831614237718\\n```\\nAnswer: 8.222831614237718\\n\\nQuestion: {question}\\n'), llm=ChatOpenAI(client=<openai.resources.chat.completions.Completions object at 0x16b56b5d0>, async_client=<openai.resources.chat.completions.AsyncCompletions object at 0x16b594e90>, temperature=0.0, model_kwargs={}), output_parser=StrOutputParser(), llm_kwargs={}))>),\n",
              " WikipediaQueryRun(api_wrapper=WikipediaAPIWrapper(wiki_client=<module 'wikipedia' from '/Users/khodosevichleo/Desktop/fun/LLM/venv/lib/python3.11/site-packages/wikipedia/__init__.py'>, top_k_results=3, lang='en', load_all_available_meta=False, doc_content_chars_max=4000)),\n",
              " Tool(name='Language Model', description='Answer to general questions', func=<bound method BaseChatModel.predict of ChatOpenAI(client=<openai.resources.chat.completions.Completions object at 0x16b56b5d0>, async_client=<openai.resources.chat.completions.AsyncCompletions object at 0x16b594e90>, temperature=0.0, model_kwargs={})>)]"
            ]
          },
          "execution_count": 62,
          "metadata": {},
          "output_type": "execute_result"
        }
      ],
      "source": [
        "tools"
      ]
    },
    {
      "cell_type": "code",
      "execution_count": 64,
      "metadata": {
        "id": "KCwe8GpJ8UOe"
      },
      "outputs": [],
      "source": [
        "agent = initialize_agent(\n",
        "    agent=AgentType.ZERO_SHOT_REACT_DESCRIPTION,\n",
        "    tools=tools,\n",
        "    llm=llm,\n",
        "    verbose=True\n",
        ")"
      ]
    },
    {
      "cell_type": "code",
      "execution_count": 65,
      "metadata": {
        "id": "nyT3pUmA8WdI"
      },
      "outputs": [
        {
          "name": "stderr",
          "output_type": "stream",
          "text": [
            "  0%|          | 0/25 [00:00<?, ?it/s]"
          ]
        },
        {
          "name": "stdout",
          "output_type": "stream",
          "text": [
            "\n",
            "\n",
            "\u001b[1m> Entering new AgentExecutor chain...\u001b[0m\n",
            "\u001b[32;1m\u001b[1;3mThis statement is a common myth and has been debunked by neuroscientists. Brain imaging studies show that we use virtually all parts of our brain, and each region has a known function. \n",
            "\n",
            "Action: Language Model\n",
            "Action Input: \"Человек использует только 10% своего мозга. True or False?\"\u001b[0m\n",
            "Observation: \u001b[36;1m\u001b[1;3mЭто утверждение является мифом. Научные исследования показывают, что человек использует практически все части своего мозга, и каждая область выполняет свою функцию. Даже во время простых действий активируются различные участки мозга. Таким образом, утверждение о том, что мы используем только 10% своего мозга, является ложным.\u001b[0m\n",
            "Thought:"
          ]
        },
        {
          "name": "stderr",
          "output_type": "stream",
          "text": [
            "  4%|▍         | 1/25 [00:05<02:03,  5.17s/it]"
          ]
        },
        {
          "name": "stdout",
          "output_type": "stream",
          "text": [
            "\u001b[32;1m\u001b[1;3mI now know the final answer.  \n",
            "Final Answer: False\u001b[0m\n",
            "\n",
            "\u001b[1m> Finished chain.\u001b[0m\n",
            "\n",
            "\n",
            "\u001b[1m> Entering new AgentExecutor chain...\u001b[0m\n",
            "\u001b[32;1m\u001b[1;3mКошки и собаки не видят мир в черно-белых тонах, но их цветовое восприятие отличается от человеческого. Они могут видеть некоторые цвета, но не так ярко и разнообразно, как люди. \n",
            "\n",
            "Action: Language Model\n",
            "Action Input: \"Кошки и собаки видят мир в черно-белых тонах. Ответьте только 'True' или 'False'.\"\u001b[0m\n",
            "Observation: \u001b[36;1m\u001b[1;3mFalse.\u001b[0m\n",
            "Thought:"
          ]
        },
        {
          "name": "stderr",
          "output_type": "stream",
          "text": [
            "  8%|▊         | 2/25 [00:09<01:41,  4.42s/it]"
          ]
        },
        {
          "name": "stdout",
          "output_type": "stream",
          "text": [
            "\u001b[32;1m\u001b[1;3mI now know the final answer.  \n",
            "Final Answer: False\u001b[0m\n",
            "\n",
            "\u001b[1m> Finished chain.\u001b[0m\n",
            "\n",
            "\n",
            "\u001b[1m> Entering new AgentExecutor chain...\u001b[0m\n",
            "\u001b[32;1m\u001b[1;3mДейтерий действительно является изотопом водорода, так как он содержит один протон и один нейтрон, в отличие от обычного водорода, который содержит только один протон. \n",
            "\n",
            "Action: Language Model\n",
            "Action Input: \"Дейтерий - это изотоп водорода. True or False?\"\u001b[0m\n",
            "Observation: \u001b[36;1m\u001b[1;3mTrue. Дейтерий — это изотоп водорода, который содержит один протон и один нейтрон в своем ядре.\u001b[0m\n",
            "Thought:"
          ]
        },
        {
          "name": "stderr",
          "output_type": "stream",
          "text": [
            " 12%|█▏        | 3/25 [00:12<01:30,  4.13s/it]"
          ]
        },
        {
          "name": "stdout",
          "output_type": "stream",
          "text": [
            "\u001b[32;1m\u001b[1;3mI now know the final answer.  \n",
            "Final Answer: True\u001b[0m\n",
            "\n",
            "\u001b[1m> Finished chain.\u001b[0m\n",
            "\n",
            "\n",
            "\u001b[1m> Entering new AgentExecutor chain...\u001b[0m\n",
            "\u001b[32;1m\u001b[1;3mПчёлы действительно не могут видеть красный цвет, так как их зрительная система не воспринимает длинные волны света, соответствующие красному цвету. \n",
            "\n",
            "Action: Language Model\n",
            "Action Input: \"Пчёлы не могут видеть красный цвет. True or False?\"\u001b[0m\n",
            "Observation: \u001b[36;1m\u001b[1;3mTrue. Пчёлы не могут видеть красный цвет, так как их зрительная система настроена на восприятие ультрафиолетового, синего и зелёного спектров, но не включает красный.\u001b[0m\n",
            "Thought:"
          ]
        },
        {
          "name": "stderr",
          "output_type": "stream",
          "text": [
            " 16%|█▌        | 4/25 [00:17<01:31,  4.36s/it]"
          ]
        },
        {
          "name": "stdout",
          "output_type": "stream",
          "text": [
            "\u001b[32;1m\u001b[1;3mI now know the final answer.  \n",
            "Final Answer: True\u001b[0m\n",
            "\n",
            "\u001b[1m> Finished chain.\u001b[0m\n",
            "\n",
            "\n",
            "\u001b[1m> Entering new AgentExecutor chain...\u001b[0m\n",
            "\u001b[32;1m\u001b[1;3mНейтроны - это элементарные частицы, но они не имеют заряда, то есть являются нейтральными. \n",
            "\n",
            "Action: Language Model\n",
            "Action Input: \"Нейтроны - это элементарные частицы с отрицательным зарядом. Ответьте только 'True' или 'False'.\"\u001b[0m\n",
            "Observation: \u001b[36;1m\u001b[1;3mFalse\u001b[0m\n",
            "Thought:"
          ]
        },
        {
          "name": "stderr",
          "output_type": "stream",
          "text": [
            " 20%|██        | 5/25 [00:21<01:20,  4.05s/it]"
          ]
        },
        {
          "name": "stdout",
          "output_type": "stream",
          "text": [
            "\u001b[32;1m\u001b[1;3mI now know the final answer.  \n",
            "Final Answer: False\u001b[0m\n",
            "\n",
            "\u001b[1m> Finished chain.\u001b[0m\n",
            "\n",
            "\n",
            "\u001b[1m> Entering new AgentExecutor chain...\u001b[0m\n",
            "\u001b[32;1m\u001b[1;3mThe statement seems to contain a typo or error in wording. It likely intends to say \"Земля обращается вокруг Солнца по эллиптической орбите,\" which translates to \"The Earth revolves around the Sun in an elliptical orbit.\" This statement is scientifically accurate.\n",
            "\n",
            "Action: Language Model\n",
            "Action Input: \"Земля обращается вокруг Солнца по эллиптической орбите. True or False?\"\u001b[0m\n",
            "Observation: \u001b[36;1m\u001b[1;3mTrue. Земля действительно обращается вокруг Солнца по эллиптической орбите, что было установлено законами Кеплера.\u001b[0m\n",
            "Thought:"
          ]
        },
        {
          "name": "stderr",
          "output_type": "stream",
          "text": [
            " 24%|██▍       | 6/25 [00:25<01:21,  4.27s/it]"
          ]
        },
        {
          "name": "stdout",
          "output_type": "stream",
          "text": [
            "\u001b[32;1m\u001b[1;3mI now know the final answer.  \n",
            "Final Answer: True\u001b[0m\n",
            "\n",
            "\u001b[1m> Finished chain.\u001b[0m\n",
            "\n",
            "\n",
            "\u001b[1m> Entering new AgentExecutor chain...\u001b[0m\n",
            "\u001b[32;1m\u001b[1;3mThe statement is about the half-life of uranium-238, which is a well-known scientific fact. I can confirm this information.\n",
            "\n",
            "Action: Language Model\n",
            "Action Input: \"Период полураспада урана-238 составляет 4,5 миллиарда лет. True or False?\"\n",
            "\u001b[0m\n",
            "Observation: \u001b[36;1m\u001b[1;3mTrue. Период полураспада урана-238 составляет примерно 4,5 миллиарда лет.\u001b[0m\n",
            "Thought:"
          ]
        },
        {
          "name": "stderr",
          "output_type": "stream",
          "text": [
            " 28%|██▊       | 7/25 [00:29<01:11,  3.98s/it]"
          ]
        },
        {
          "name": "stdout",
          "output_type": "stream",
          "text": [
            "\u001b[32;1m\u001b[1;3mI now know the final answer.  \n",
            "Final Answer: True\u001b[0m\n",
            "\n",
            "\u001b[1m> Finished chain.\u001b[0m\n",
            "\n",
            "\n",
            "\u001b[1m> Entering new AgentExecutor chain...\u001b[0m\n",
            "\u001b[32;1m\u001b[1;3mThe question is asking whether \"Дельта\" (Delta) in science denotes a change in quantum state. In scientific terminology, \"Delta\" often represents a change in a quantity, including in quantum mechanics where it can refer to changes in quantum states.\n",
            "\n",
            "Action: Language Model\n",
            "Action Input: \"Дельта в науке обозначает изменение квантового состояния. True or False?\"\u001b[0m\n",
            "Observation: \u001b[36;1m\u001b[1;3mFalse. В науке дельта (Δ) обычно обозначает изменение какой-либо величины, например, изменение температуры, давления или других физических параметров. В контексте квантовой механики изменение квантового состояния может быть обозначено другими терминами, но не обязательно дельтой.\u001b[0m\n",
            "Thought:"
          ]
        },
        {
          "name": "stderr",
          "output_type": "stream",
          "text": [
            " 32%|███▏      | 8/25 [00:34<01:16,  4.50s/it]"
          ]
        },
        {
          "name": "stdout",
          "output_type": "stream",
          "text": [
            "\u001b[32;1m\u001b[1;3mI now know the final answer.  \n",
            "Final Answer: False\u001b[0m\n",
            "\n",
            "\u001b[1m> Finished chain.\u001b[0m\n",
            "\n",
            "\n",
            "\u001b[1m> Entering new AgentExecutor chain...\u001b[0m\n",
            "\u001b[32;1m\u001b[1;3mАнтибиотики неэффективны против вирусов, они предназначены для борьбы с бактериальными инфекциями. \n",
            "\n",
            "Action: Language Model\n",
            "Action Input: \"Антибиотики эффективны против вирусов. True or False?\"\u001b[0m\n",
            "Observation: \u001b[36;1m\u001b[1;3mFalse. Антибиотики неэффективны против вирусов; они предназначены для борьбы с бактериальными инфекциями. Вирусы требуют других методов лечения, таких как противовирусные препараты.\u001b[0m\n",
            "Thought:"
          ]
        },
        {
          "name": "stderr",
          "output_type": "stream",
          "text": [
            " 36%|███▌      | 9/25 [00:38<01:07,  4.22s/it]"
          ]
        },
        {
          "name": "stdout",
          "output_type": "stream",
          "text": [
            "\u001b[32;1m\u001b[1;3mI now know the final answer.  \n",
            "Final Answer: False\u001b[0m\n",
            "\n",
            "\u001b[1m> Finished chain.\u001b[0m\n",
            "\n",
            "\n",
            "\u001b[1m> Entering new AgentExecutor chain...\u001b[0m\n",
            "\u001b[32;1m\u001b[1;3mДиамагнетики - это материалы, которые не имеют магнитного поля и отталкиваются от магнитных полей. Суперпроводники - это особые материалы, которые могут проводить электрический ток без сопротивления при определенных условиях. Не все диамагнетики являются суперпроводниками, так как суперпроводимость - это специфическое свойство, которое не обязательно присутствует у всех диамагнетиков.\n",
            "\n",
            "Action: Language Model\n",
            "Action Input: \"Все диамагнетики являются суперпроводниками. True or False?\"\u001b[0m\n",
            "Observation: \u001b[36;1m\u001b[1;3mFalse. Не все диамагнетики являются суперпроводниками. Диамагнетизм и суперпроводимость — это разные физические явления. Диамагнетики — это материалы, которые слабо отталкиваются от магнитных полей, но не обладают свойствами, характерными для суперпроводников, такими как нулевое сопротивление и эффект Мейснера. Суперпроводники могут быть как диамагнитными, так и парамагнитными, но не все диамагнетики становятся суперпроводниками.\u001b[0m\n",
            "Thought:"
          ]
        },
        {
          "name": "stderr",
          "output_type": "stream",
          "text": [
            " 40%|████      | 10/25 [00:45<01:16,  5.09s/it]"
          ]
        },
        {
          "name": "stdout",
          "output_type": "stream",
          "text": [
            "\u001b[32;1m\u001b[1;3mI now know the final answer.  \n",
            "Final Answer: False\u001b[0m\n",
            "\n",
            "\u001b[1m> Finished chain.\u001b[0m\n",
            "\n",
            "\n",
            "\u001b[1m> Entering new AgentExecutor chain...\u001b[0m\n",
            "\u001b[32;1m\u001b[1;3mThe statement is about whether cows can go up and down stairs. Generally, cows can go up stairs but may have difficulty going down due to their body structure and weight distribution. \n",
            "\n",
            "Action: Language Model\n",
            "Action Input: \"Коровы могут подниматься вверх по лестнице, но не могут спускаться. True or False?\"\u001b[0m\n",
            "Observation: \u001b[36;1m\u001b[1;3mЭто утверждение является шуткой или игрой слов. Коровы действительно могут подниматься по лестнице, но на практике им это делать неудобно, и они не могут спуститься обратно из-за своей физической структуры и веса. Поэтому, если рассматривать это с точки зрения реальности, можно сказать, что утверждение \"правдиво\" в том смысле, что коровы могут подниматься, но не могут спуститься. Однако, в буквальном смысле, это не совсем верно, так как коровы не предназначены для передвижения по лестницам.\u001b[0m\n",
            "Thought:\u001b[32;1m\u001b[1;3mThe statement is a play on words and not entirely accurate in a literal sense. Cows can go up stairs but have difficulty going down. Therefore, the answer is more nuanced than a simple True or False.\n",
            "\n",
            "Action: Language Model\n",
            "Action Input: \"Коровы могут подниматься вверх по лестнице, но не могут спускаться. True or False?\"\u001b[0m\n",
            "Observation: \u001b[36;1m\u001b[1;3mЭто утверждение является шуткой или игрой слов. Коровы действительно могут подниматься по лестнице, но на практике они не могут спуститься, так как их физические особенности и строение тела делают это затруднительным. Таким образом, с точки зрения реальности, утверждение можно считать \"правдой\" в контексте шутки.\u001b[0m\n",
            "Thought:"
          ]
        },
        {
          "name": "stderr",
          "output_type": "stream",
          "text": [
            " 44%|████▍     | 11/25 [00:55<01:33,  6.67s/it]"
          ]
        },
        {
          "name": "stdout",
          "output_type": "stream",
          "text": [
            "\u001b[32;1m\u001b[1;3mThe statement is a play on words and can be interpreted as true in a humorous context, but it is not entirely accurate in a literal sense. Cows can go up stairs but have difficulty going down. \n",
            "\n",
            "Final Answer: True\u001b[0m\n",
            "\n",
            "\u001b[1m> Finished chain.\u001b[0m\n",
            "\n",
            "\n",
            "\u001b[1m> Entering new AgentExecutor chain...\u001b[0m\n",
            "\u001b[32;1m\u001b[1;3mГеллаград не является планетой в солнечной системе, и самой холодной планетой считается Нептун или Уран. \n",
            "\n",
            "Action: Language Model\n",
            "Action Input: \"Геллаград - самая холодная планета в солнечной системе. True or False?\"\u001b[0m\n",
            "Observation: \u001b[36;1m\u001b[1;3mFalse. Самой холодной планетой в Солнечной системе считается Нептун или, в некоторых случаях, Уран, в зависимости от того, как измеряются температуры. Геллаград — это вымышленная планета из научной фантастики, и она не существует в реальной солнечной системе.\u001b[0m\n",
            "Thought:"
          ]
        },
        {
          "name": "stderr",
          "output_type": "stream",
          "text": [
            " 48%|████▊     | 12/25 [01:00<01:18,  6.01s/it]"
          ]
        },
        {
          "name": "stdout",
          "output_type": "stream",
          "text": [
            "\u001b[32;1m\u001b[1;3mI now know the final answer.  \n",
            "Final Answer: False\u001b[0m\n",
            "\n",
            "\u001b[1m> Finished chain.\u001b[0m\n",
            "\n",
            "\n",
            "\u001b[1m> Entering new AgentExecutor chain...\u001b[0m\n",
            "\u001b[32;1m\u001b[1;3mЭволюция действительно является процессом, который объясняет биологическое разнообразие на различных уровнях, включая королевства, виды и внутривидовое разнообразие. \n",
            "\n",
            "Action: Language Model\n",
            "Action Input: \"Эволюция - это процесс, который отвечает за биологическое разнообразие на всех уровнях: от королевств до видов и даже внутривидового разнообразия. Ответьте только True или False.\"\u001b[0m\n",
            "Observation: \u001b[36;1m\u001b[1;3mTrue\u001b[0m\n",
            "Thought:"
          ]
        },
        {
          "name": "stderr",
          "output_type": "stream",
          "text": [
            " 52%|█████▏    | 13/25 [01:04<01:04,  5.38s/it]"
          ]
        },
        {
          "name": "stdout",
          "output_type": "stream",
          "text": [
            "\u001b[32;1m\u001b[1;3mI now know the final answer.  \n",
            "Final Answer: True\u001b[0m\n",
            "\n",
            "\u001b[1m> Finished chain.\u001b[0m\n",
            "\n",
            "\n",
            "\u001b[1m> Entering new AgentExecutor chain...\u001b[0m\n",
            "\u001b[32;1m\u001b[1;3mThe statement is about climate change and its effect on the average temperature of the planet. Based on scientific consensus, climate change does indeed lead to an increase in the average global temperature.\n",
            "\n",
            "Action: Language Model\n",
            "Action Input: \"Климатическое изменение вызывает увеличение средней температуры планеты. True or False?\"\u001b[0m\n",
            "Observation: \u001b[36;1m\u001b[1;3mTrue. Климатическое изменение действительно приводит к увеличению средней температуры планеты. Это связано с увеличением концентрации парниковых газов в атмосфере, что вызывает эффект парникового нагрева.\u001b[0m\n",
            "Thought:"
          ]
        },
        {
          "name": "stderr",
          "output_type": "stream",
          "text": [
            " 56%|█████▌    | 14/25 [01:08<00:54,  4.98s/it]"
          ]
        },
        {
          "name": "stdout",
          "output_type": "stream",
          "text": [
            "\u001b[32;1m\u001b[1;3mI now know the final answer.  \n",
            "Final Answer: True\u001b[0m\n",
            "\n",
            "\u001b[1m> Finished chain.\u001b[0m\n",
            "\n",
            "\n",
            "\u001b[1m> Entering new AgentExecutor chain...\u001b[0m\n",
            "\u001b[32;1m\u001b[1;3mThe question is asking whether the growth of a plant can be hindered by a lack of carbon dioxide. Since carbon dioxide is essential for photosynthesis, which is crucial for plant growth, a deficiency in carbon dioxide can indeed lead to stunted growth.\n",
            "\n",
            "Action: Language Model\n",
            "Action Input: \"Задержания в росте какого-либо растения могут быть вызваны недостатком углекислого газа. True or False?\"\u001b[0m\n",
            "Observation: \u001b[36;1m\u001b[1;3mTrue. Задержания в росте растений могут быть вызваны недостатком углекислого газа, так как он является важным компонентом для фотосинтеза, процесса, который обеспечивает растения энергией и способствует их росту. Недостаток углекислого газа может ограничивать фотосинтетическую активность и, соответственно, замедлять рост растения.\u001b[0m\n",
            "Thought:"
          ]
        },
        {
          "name": "stderr",
          "output_type": "stream",
          "text": [
            " 60%|██████    | 15/25 [01:13<00:50,  5.02s/it]"
          ]
        },
        {
          "name": "stdout",
          "output_type": "stream",
          "text": [
            "\u001b[32;1m\u001b[1;3mI now know the final answer.  \n",
            "Final Answer: True\u001b[0m\n",
            "\n",
            "\u001b[1m> Finished chain.\u001b[0m\n",
            "\n",
            "\n",
            "\u001b[1m> Entering new AgentExecutor chain...\u001b[0m\n",
            "\u001b[32;1m\u001b[1;3mThe question is asking whether viral elements are present in human genes. This is a scientific question that can be answered with a simple true or false. \n",
            "\n",
            "Action: wikipedia\n",
            "Action Input: \"viral elements in human genes\"\n",
            "\u001b[0m\n",
            "Observation: \u001b[38;5;200m\u001b[1;3mPage: Viral vector\n",
            "Summary: Viral vectors are  modified viruses designed to deliver genetic material into cells. This process can be performed inside an organism or in cell culture. Viral vectors have widespread applications in basic research, agriculture, and medicine.\n",
            "Viruses have evolved specialized molecular mechanisms to transport their genomes into infected hosts, a process termed transduction. This capability has been exploited for use as viral vectors, which may integrate their genetic cargo—the transgene—into the host genome, although non-integrative vectors are also commonly used. In addition to agriculture and laboratory research, viral vectors are widely applied in gene therapy: as of 2022, all approved gene therapies were viral vector-based. Further, compared to traditional vaccines, the intracellular antigen expression enabled by viral vector vaccines offers more robust immune activation.\n",
            "Many types of viruses have been developed into viral vector platforms, ranging from retroviruses to cytomegaloviruses. Different viral vector classes vary widely in strengths and limitations, suiting some to specific applications. For instance, relatively non-immunogenic and integrative vectors like lentiviral vectors are commonly employed for gene therapy. Chimeric viral vectors—such as hybrid vectors with qualities of both bacteriophages and eukaryotic viruses—have also been developed.\n",
            "Viral vectors were first created in 1972 by Paul Berg. Further development was temporarily halted by a recombinant DNA research moratorium following the Asilomar Conference and stringent National Institutes of Health regulations. Once lifted, the 1980s saw both the first recombinant viral vector gene therapy and the first viral vector vaccine. Although the 1990s saw significant advances in viral vectors, clinical trials had a number of setbacks, culminating in Jesse Gelsinger's death. However, in the 21st century, viral vectors experienced a resurgence and have been globally approved for the treatment of various diseases. They have been administered to billions of patients, notably during the COVID-19 pandemic.\n",
            "\n",
            "Page: Human genome\n",
            "Summary: The human genome is a complete set of nucleic acid sequences for humans, encoded as the DNA within each of the 24 distinct chromosomes in the cell nucleus. A small DNA molecule is found within individual mitochondria. These are usually treated separately as the nuclear genome and the mitochondrial genome. Human genomes include both protein-coding DNA sequences and various types of DNA that does not encode proteins. The latter is a diverse category that includes DNA coding for non-translated RNA, such as that for ribosomal RNA, transfer RNA, ribozymes, small nuclear RNAs, and several types of regulatory RNAs. It also includes promoters and their associated gene-regulatory elements, DNA playing structural and replicatory roles, such as scaffolding regions, telomeres, centromeres, and origins of replication, plus large numbers of transposable elements, inserted viral DNA, non-functional pseudogenes and simple, highly repetitive sequences. Introns make up a large percentage of non-coding DNA. Some of this non-coding DNA is non-functional junk DNA, such as pseudogenes, but there is no firm consensus on the total amount of junk DNA.\n",
            "Although the sequence of the human genome has been completely determined by DNA sequencing in 2022 (including methylome), it is not yet fully understood. Most, but not all, genes have been identified by a combination of high throughput experimental and bioinformatics approaches, yet much work still needs to be done to further elucidate the biological functions of their protein and RNA products.\n",
            "\n",
            "Page: Endogenous viral element\n",
            "Summary: An endogenous viral element (EVE) is a DNA sequence derived from a virus, and present within the germline of a non-viral organism. EVEs may be entire viral genomes (proviruses), or fragments of viral genomes. They arise when a viral DNA sequence becomes int\u001b[0m\n",
            "Thought:"
          ]
        },
        {
          "name": "stderr",
          "output_type": "stream",
          "text": [
            " 64%|██████▍   | 16/25 [01:18<00:45,  5.02s/it]"
          ]
        },
        {
          "name": "stdout",
          "output_type": "stream",
          "text": [
            "\u001b[32;1m\u001b[1;3mThe information gathered indicates that human genes do contain viral elements, specifically referred to as endogenous viral elements (EVEs). \n",
            "\n",
            "Final Answer: True\u001b[0m\n",
            "\n",
            "\u001b[1m> Finished chain.\u001b[0m\n",
            "\n",
            "\n",
            "\u001b[1m> Entering new AgentExecutor chain...\u001b[0m\n",
            "\u001b[32;1m\u001b[1;3mНе все птицы откладывают яйца, но все известные виды птиц являются яйцекладущими. Однако, если рассматривать вопрос в контексте, что \"все\" подразумевает все возможные виды, то это может быть неверно. \n",
            "\n",
            "Action: Language Model\n",
            "Action Input: \"Все птицы - яйцекладущие. True or False?\"\u001b[0m\n",
            "Observation: \u001b[36;1m\u001b[1;3mTrue. Все птицы являются яйцекладущими, то есть размножаются, откладывая яйца.\u001b[0m\n",
            "Thought:"
          ]
        },
        {
          "name": "stderr",
          "output_type": "stream",
          "text": [
            " 68%|██████▊   | 17/25 [01:22<00:37,  4.73s/it]"
          ]
        },
        {
          "name": "stdout",
          "output_type": "stream",
          "text": [
            "\u001b[32;1m\u001b[1;3mI now know the final answer.  \n",
            "Final Answer: True\u001b[0m\n",
            "\n",
            "\u001b[1m> Finished chain.\u001b[0m\n",
            "\n",
            "\n",
            "\u001b[1m> Entering new AgentExecutor chain...\u001b[0m\n",
            "\u001b[32;1m\u001b[1;3mThe question is asking whether pain in the clavicle (ключевой кости) is typically caused by Parkinson's disease. I need to determine if this statement is true or false based on medical knowledge.\n",
            "\n",
            "Action: Language Model\n",
            "Action Input: \"Is pain in the clavicle typically caused by Parkinson's disease? True or False.\" \u001b[0m\n",
            "Observation: \u001b[36;1m\u001b[1;3mFalse. Pain in the clavicle is not typically caused by Parkinson's disease. While Parkinson's disease can lead to various musculoskeletal issues due to changes in posture, movement, and muscle stiffness, clavicle pain is more commonly associated with injuries, arthritis, or other conditions affecting the shoulder or upper body. If someone is experiencing clavicle pain, it is important to consult a healthcare professional for an accurate diagnosis and appropriate treatment.\u001b[0m\n",
            "Thought:"
          ]
        },
        {
          "name": "stderr",
          "output_type": "stream",
          "text": [
            " 72%|███████▏  | 18/25 [01:29<00:38,  5.44s/it]"
          ]
        },
        {
          "name": "stdout",
          "output_type": "stream",
          "text": [
            "\u001b[32;1m\u001b[1;3mI now know the final answer.  \n",
            "Final Answer: False\u001b[0m\n",
            "\n",
            "\u001b[1m> Finished chain.\u001b[0m\n",
            "\n",
            "\n",
            "\u001b[1m> Entering new AgentExecutor chain...\u001b[0m\n",
            "\u001b[32;1m\u001b[1;3mThe question is asking whether indirect effects of ionizing radiation can cause genetic changes. Based on scientific understanding, ionizing radiation can indeed lead to genetic mutations, both directly and indirectly. \n",
            "\n",
            "Action: Language Model\n",
            "Action Input: \"Непрямые эффекты ионизирующей радиации могут вызвать генетические изменения. True or False?\"\n",
            "\u001b[0m\n",
            "Observation: \u001b[36;1m\u001b[1;3mTrue. Непрямые эффекты ионизирующей радиации могут вызывать генетические изменения. Ионизирующая радиация может повреждать ДНК как непосредственно, так и косвенно, через образование свободных радикалов, что может привести к мутациям и другим генетическим изменениям.\u001b[0m\n",
            "Thought:"
          ]
        },
        {
          "name": "stderr",
          "output_type": "stream",
          "text": [
            " 76%|███████▌  | 19/25 [01:34<00:31,  5.27s/it]"
          ]
        },
        {
          "name": "stdout",
          "output_type": "stream",
          "text": [
            "\u001b[32;1m\u001b[1;3mI now know the final answer.  \n",
            "Final Answer: True\u001b[0m\n",
            "\n",
            "\u001b[1m> Finished chain.\u001b[0m\n",
            "\n",
            "\n",
            "\u001b[1m> Entering new AgentExecutor chain...\u001b[0m\n",
            "\u001b[32;1m\u001b[1;3mThe statement is about the color of oranges and their ripeness. Generally, ripe oranges are indeed orange in color, but there are varieties that can be green when ripe. Therefore, the statement is not universally true.\n",
            "\n",
            "Action: Language Model\n",
            "Action Input: \"Are oranges required to be orange in color to be ripe?\"\u001b[0m\n",
            "Observation: \u001b[36;1m\u001b[1;3mNo, oranges are not required to be orange in color to be ripe. While many varieties of oranges turn orange when they are ripe, some varieties can be ripe and still have green or yellowish skin. Factors such as climate, temperature, and the specific variety of orange can affect the color of the fruit. For example, in warmer climates, oranges may remain green even when they are fully ripe. The best way to determine ripeness is to check for other indicators, such as firmness, size, and sweetness, rather than relying solely on color.\u001b[0m\n",
            "Thought:"
          ]
        },
        {
          "name": "stderr",
          "output_type": "stream",
          "text": [
            " 80%|████████  | 20/25 [01:39<00:26,  5.34s/it]"
          ]
        },
        {
          "name": "stdout",
          "output_type": "stream",
          "text": [
            "\u001b[32;1m\u001b[1;3mI now know the final answer. \n",
            "\n",
            "Final Answer: False\u001b[0m\n",
            "\n",
            "\u001b[1m> Finished chain.\u001b[0m\n",
            "\n",
            "\n",
            "\u001b[1m> Entering new AgentExecutor chain...\u001b[0m\n",
            "\u001b[32;1m\u001b[1;3mTo determine if the equation sin(90) − cos(90) = 1 is true or false, I need to evaluate the trigonometric functions involved.\n",
            "\n",
            "Action: Calculator(90)  \n",
            "Action Input: None  \u001b[0m\n",
            "Observation: Calculator(90) is not a valid tool, try one of [human, Calculator, wikipedia, Language Model].\n",
            "Thought:\u001b[32;1m\u001b[1;3mI need to calculate the values of sin(90) and cos(90) to evaluate the equation. \n",
            "\n",
            "Action: Calculator(90)  \n",
            "Action Input: None  \u001b[0m\n",
            "Observation: Calculator(90) is not a valid tool, try one of [human, Calculator, wikipedia, Language Model].\n",
            "Thought:\u001b[32;1m\u001b[1;3mI need to evaluate the trigonometric functions sin(90) and cos(90) to determine the truth of the equation. \n",
            "\n",
            "Action: Language Model(text=\"What is sin(90) and cos(90)?\")  \n",
            "Action Input: None  \u001b[0m\n",
            "Observation: Language Model(text=\"What is sin(90) and cos(90)?\") is not a valid tool, try one of [human, Calculator, wikipedia, Language Model].\n",
            "Thought:\u001b[32;1m\u001b[1;3mI need to evaluate the trigonometric functions sin(90) and cos(90) to determine the truth of the equation. \n",
            "\n",
            "Action: Language Model(text=\"What is the value of sin(90) and cos(90)?\")  \n",
            "Action Input: None  \u001b[0m\n",
            "Observation: Language Model(text=\"What is the value of sin(90) and cos(90)?\") is not a valid tool, try one of [human, Calculator, wikipedia, Language Model].\n",
            "Thought:\u001b[32;1m\u001b[1;3mI need to evaluate the trigonometric functions sin(90) and cos(90) to determine the truth of the equation. \n",
            "\n",
            "Action: Language Model(text=\"What are the values of sin(90) and cos(90)?\")  \n",
            "Action Input: None  \u001b[0m\n",
            "Observation: Language Model(text=\"What are the values of sin(90) and cos(90)?\") is not a valid tool, try one of [human, Calculator, wikipedia, Language Model].\n",
            "Thought:\u001b[32;1m\u001b[1;3mI need to evaluate the trigonometric functions sin(90) and cos(90) to determine the truth of the equation. \n",
            "\n",
            "Action: Language Model(text=\"What is sin(90) and cos(90)?\")  \n",
            "Action Input: None  \u001b[0m\n",
            "Observation: Language Model(text=\"What is sin(90) and cos(90)?\") is not a valid tool, try one of [human, Calculator, wikipedia, Language Model].\n",
            "Thought:\u001b[32;1m\u001b[1;3mI need to evaluate the trigonometric functions sin(90) and cos(90) to determine the truth of the equation. \n",
            "\n",
            "Action: Language Model(text=\"What are the values of sin(90) and cos(90)?\")  \n",
            "Action Input: None  \u001b[0m\n",
            "Observation: Language Model(text=\"What are the values of sin(90) and cos(90)?\") is not a valid tool, try one of [human, Calculator, wikipedia, Language Model].\n",
            "Thought:\u001b[32;1m\u001b[1;3mI need to evaluate the trigonometric functions sin(90) and cos(90) to determine the truth of the equation. \n",
            "\n",
            "Action: Language Model(text=\"What is the value of sin(90) and cos(90)?\")  \n",
            "Action Input: None  \u001b[0m\n",
            "Observation: Language Model(text=\"What is the value of sin(90) and cos(90)?\") is not a valid tool, try one of [human, Calculator, wikipedia, Language Model].\n",
            "Thought:\u001b[32;1m\u001b[1;3mI need to evaluate the trigonometric functions sin(90) and cos(90) to determine the truth of the equation. \n",
            "\n",
            "Action: Language Model(text=\"What is sin(90) and cos(90)?\")  \n",
            "Action Input: None  \u001b[0m\n",
            "Observation: Language Model(text=\"What is sin(90) and cos(90)?\") is not a valid tool, try one of [human, Calculator, wikipedia, Language Model].\n",
            "Thought:\u001b[32;1m\u001b[1;3mI need to evaluate the trigonometric functions sin(90) and cos(90) to determine the truth of the equation. \n",
            "\n",
            "Action: Language Model(text=\"What are the values of sin(90) and cos(90)?\")  \n",
            "Action Input: None  \u001b[0m\n",
            "Observation: Language Model(text=\"What are the values of sin(90) and cos(90)?\") is not a valid tool, try one of [human, Calculator, wikipedia, Language Model].\n",
            "Thought:\u001b[32;1m\u001b[1;3mI need to evaluate the trigonometric functions sin(90) and cos(90) to determine the truth of the equation. \n",
            "\n",
            "Action: Language Model(text=\"What is the value of sin(90) and cos(90)?\")  \n",
            "Action Input: None  \u001b[0m\n",
            "Observation: Language Model(text=\"What is the value of sin(90) and cos(90)?\") is not a valid tool, try one of [human, Calculator, wikipedia, Language Model].\n",
            "Thought:\u001b[32;1m\u001b[1;3mI need to evaluate the trigonometric functions sin(90) and cos(90) to determine the truth of the equation. \n",
            "\n",
            "Action: Language Model(text=\"What are the values of sin(90) and cos(90)?\")  \n",
            "Action Input: None  \u001b[0m\n",
            "Observation: Language Model(text=\"What are the values of sin(90) and cos(90)?\") is not a valid tool, try one of [human, Calculator, wikipedia, Language Model].\n",
            "Thought:\u001b[32;1m\u001b[1;3mI seem to be stuck in a loop trying to evaluate the trigonometric functions. I know that sin(90) = 1 and cos(90) = 0. Therefore, I can evaluate the expression sin(90) - cos(90).\n",
            "\n",
            "Action: Language Model(text=\"Evaluate sin(90) - cos(90) and determine if it equals 1.\")  \n",
            "Action Input: None  \u001b[0m\n",
            "Observation: Language Model(text=\"Evaluate sin(90) - cos(90) and determine if it equals 1.\") is not a valid tool, try one of [human, Calculator, wikipedia, Language Model].\n",
            "Thought:\u001b[32;1m\u001b[1;3mI know that sin(90) = 1 and cos(90) = 0. Therefore, I can evaluate the expression sin(90) - cos(90).\n",
            "\n",
            "Action: Language Model(text=\"What is 1 - 0?\")  \n",
            "Action Input: None  \u001b[0m\n",
            "Observation: Language Model(text=\"What is 1 - 0?\") is not a valid tool, try one of [human, Calculator, wikipedia, Language Model].\n",
            "Thought:"
          ]
        },
        {
          "name": "stderr",
          "output_type": "stream",
          "text": [
            " 84%|████████▍ | 21/25 [02:03<00:43, 10.85s/it]"
          ]
        },
        {
          "name": "stdout",
          "output_type": "stream",
          "text": [
            "\u001b[32;1m\u001b[1;3mI know that sin(90) = 1 and cos(90) = 0. Therefore, I can evaluate the expression sin(90) - cos(90).\n",
            "\n",
            "Action: Calculator(1, 0)  \n",
            "Action Input: None  \u001b[0m\n",
            "Observation: Calculator(1, 0) is not a valid tool, try one of [human, Calculator, wikipedia, Language Model].\n",
            "Thought:\u001b[32;1m\u001b[1;3m\u001b[0m\n",
            "\n",
            "\u001b[1m> Finished chain.\u001b[0m\n",
            "\n",
            "\n",
            "\u001b[1m> Entering new AgentExecutor chain...\u001b[0m\n",
            "\u001b[32;1m\u001b[1;3mTo determine if the equation \\(2500 * 5 - 5 = 0\\) is true or false, I need to perform the calculation.\n",
            "\n",
            "Action: Calculator(2500 * 5 - 5)  \n",
            "Action Input: None  \u001b[0m\n",
            "Observation: Calculator(2500 * 5 - 5) is not a valid tool, try one of [human, Calculator, wikipedia, Language Model].\n",
            "Thought:\u001b[32;1m\u001b[1;3mI need to perform the calculation \\(2500 * 5 - 5\\) to see if it equals 0. \n",
            "\n",
            "Action: Calculator(2500 * 5 - 5)  \n",
            "Action Input: None  \u001b[0m\n",
            "Observation: Calculator(2500 * 5 - 5) is not a valid tool, try one of [human, Calculator, wikipedia, Language Model].\n",
            "Thought:\u001b[32;1m\u001b[1;3mI need to perform the calculation \\(2500 * 5 - 5\\) to see if it equals 0. \n",
            "\n",
            "Action: Calculator(2500 * 5 - 5)  \n",
            "Action Input: None  \u001b[0m\n",
            "Observation: Calculator(2500 * 5 - 5) is not a valid tool, try one of [human, Calculator, wikipedia, Language Model].\n",
            "Thought:\u001b[32;1m\u001b[1;3mI need to perform the calculation \\(2500 * 5 - 5\\) to see if it equals 0. \n",
            "\n",
            "Action: Calculator(2500 * 5 - 5)  \n",
            "Action Input: None  \u001b[0m\n",
            "Observation: Calculator(2500 * 5 - 5) is not a valid tool, try one of [human, Calculator, wikipedia, Language Model].\n",
            "Thought:\u001b[32;1m\u001b[1;3mI need to perform the calculation \\(2500 * 5 - 5\\) to see if it equals 0. \n",
            "\n",
            "Action: Calculator(2500 * 5 - 5)  \n",
            "Action Input: None  \u001b[0m\n",
            "Observation: Calculator(2500 * 5 - 5) is not a valid tool, try one of [human, Calculator, wikipedia, Language Model].\n",
            "Thought:\u001b[32;1m\u001b[1;3mI need to perform the calculation \\(2500 * 5 - 5\\) to see if it equals 0. \n",
            "\n",
            "Action: Calculator(2500 * 5 - 5)  \n",
            "Action Input: None  \u001b[0m\n",
            "Observation: Calculator(2500 * 5 - 5) is not a valid tool, try one of [human, Calculator, wikipedia, Language Model].\n",
            "Thought:\u001b[32;1m\u001b[1;3mI need to perform the calculation \\(2500 * 5 - 5\\) to see if it equals 0. \n",
            "\n",
            "Action: Calculator(2500 * 5 - 5)  \n",
            "Action Input: None  \u001b[0m\n",
            "Observation: Calculator(2500 * 5 - 5) is not a valid tool, try one of [human, Calculator, wikipedia, Language Model].\n",
            "Thought:\u001b[32;1m\u001b[1;3mI need to perform the calculation \\(2500 * 5 - 5\\) to see if it equals 0. \n",
            "\n",
            "Action: Calculator(2500 * 5 - 5)  \n",
            "Action Input: None  \u001b[0m\n",
            "Observation: Calculator(2500 * 5 - 5) is not a valid tool, try one of [human, Calculator, wikipedia, Language Model].\n",
            "Thought:\u001b[32;1m\u001b[1;3mI need to perform the calculation \\(2500 * 5 - 5\\) to see if it equals 0. \n",
            "\n",
            "Action: Calculator(2500 * 5 - 5)  \n",
            "Action Input: None  \u001b[0m\n",
            "Observation: Calculator(2500 * 5 - 5) is not a valid tool, try one of [human, Calculator, wikipedia, Language Model].\n",
            "Thought:\u001b[32;1m\u001b[1;3mI need to perform the calculation \\(2500 * 5 - 5\\) to see if it equals 0. \n",
            "\n",
            "Action: Calculator(2500 * 5 - 5)  \n",
            "Action Input: None  \u001b[0m\n",
            "Observation: Calculator(2500 * 5 - 5) is not a valid tool, try one of [human, Calculator, wikipedia, Language Model].\n",
            "Thought:\u001b[32;1m\u001b[1;3mI need to perform the calculation \\(2500 * 5 - 5\\) to see if it equals 0. \n",
            "\n",
            "Action: Calculator(2500 * 5 - 5)  \n",
            "Action Input: None  \u001b[0m\n",
            "Observation: Calculator(2500 * 5 - 5) is not a valid tool, try one of [human, Calculator, wikipedia, Language Model].\n",
            "Thought:\u001b[32;1m\u001b[1;3mI need to perform the calculation \\(2500 * 5 - 5\\) to see if it equals 0. \n",
            "\n",
            "Action: Calculator(2500 * 5 - 5)  \n",
            "Action Input: None  \u001b[0m\n",
            "Observation: Calculator(2500 * 5 - 5) is not a valid tool, try one of [human, Calculator, wikipedia, Language Model].\n",
            "Thought:\u001b[32;1m\u001b[1;3mI need to perform the calculation \\(2500 * 5 - 5\\) to see if it equals 0. \n",
            "\n",
            "Action: Calculator(2500 * 5 - 5)  \n",
            "Action Input: None  \u001b[0m\n",
            "Observation: Calculator(2500 * 5 - 5) is not a valid tool, try one of [human, Calculator, wikipedia, Language Model].\n",
            "Thought:\u001b[32;1m\u001b[1;3mI need to perform the calculation \\(2500 * 5 - 5\\) to see if it equals 0. \n",
            "\n",
            "Action: Calculator(2500 * 5 - 5)  \n",
            "Action Input: None  \u001b[0m\n",
            "Observation: Calculator(2500 * 5 - 5) is not a valid tool, try one of [human, Calculator, wikipedia, Language Model].\n",
            "Thought:"
          ]
        },
        {
          "name": "stderr",
          "output_type": "stream",
          "text": [
            " 88%|████████▊ | 22/25 [02:24<00:41, 13.90s/it]"
          ]
        },
        {
          "name": "stdout",
          "output_type": "stream",
          "text": [
            "\u001b[32;1m\u001b[1;3mI need to perform the calculation \\(2500 * 5 - 5\\) to see if it equals 0. \n",
            "\n",
            "Action: Calculator(2500 * 5 - 5)  \n",
            "Action Input: None  \u001b[0m\n",
            "Observation: Calculator(2500 * 5 - 5) is not a valid tool, try one of [human, Calculator, wikipedia, Language Model].\n",
            "Thought:\u001b[32;1m\u001b[1;3m\u001b[0m\n",
            "\n",
            "\u001b[1m> Finished chain.\u001b[0m\n",
            "\n",
            "\n",
            "\u001b[1m> Entering new AgentExecutor chain...\u001b[0m\n",
            "\u001b[32;1m\u001b[1;3mI need to determine whether the course in question is hosted on Stepik. Since I don't have specific information about the course, I will need to ask a human for clarification.\n",
            "\n",
            "Action: human\n",
            "Action Input: Is the course currently being taken hosted on Stepik? \n",
            "\u001b[0m\n",
            "\n",
            "Is the course currently being taken hosted on Stepik? \n",
            "\n",
            "\n",
            "Observation: \u001b[36;1m\u001b[1;3mFalse\u001b[0m\n",
            "Thought:"
          ]
        },
        {
          "name": "stderr",
          "output_type": "stream",
          "text": [
            " 92%|█████████▏| 23/25 [02:44<00:31, 15.78s/it]"
          ]
        },
        {
          "name": "stdout",
          "output_type": "stream",
          "text": [
            "\u001b[32;1m\u001b[1;3mI now know the final answer.  \n",
            "Final Answer: False\u001b[0m\n",
            "\n",
            "\u001b[1m> Finished chain.\u001b[0m\n",
            "\n",
            "\n",
            "\u001b[1m> Entering new AgentExecutor chain...\u001b[0m\n",
            "\u001b[32;1m\u001b[1;3mI need to determine whether the statement about the instructor named Valera Babushkin is true or false. Since I don't have specific information about the course or its instructors, I will need to look up relevant information.\n",
            "\n",
            "Action: wikipedia  \n",
            "Action Input: \"Валера Бабушкин\"  \n",
            "\u001b[0m\n",
            "Observation: \u001b[38;5;200m\u001b[1;3mNo good Wikipedia Search Result was found\u001b[0m\n",
            "Thought:\u001b[32;1m\u001b[1;3mI couldn't find relevant information about Valera Babushkin from Wikipedia. I need to consider other options to verify the statement about the instructor. \n",
            "\n",
            "Action: human  \n",
            "Action Input: \"Can you provide information about an instructor named Valera Babushkin related to a specific course?\"  \n",
            "\u001b[0m\n",
            "\n",
            "Can you provide information about an instructor named Valera Babushkin related to a specific course?\"  \n",
            "\n",
            "\n",
            "Observation: \u001b[36;1m\u001b[1;3mTrue\u001b[0m\n",
            "Thought:"
          ]
        },
        {
          "name": "stderr",
          "output_type": "stream",
          "text": [
            " 96%|█████████▌| 24/25 [02:53<00:13, 13.72s/it]"
          ]
        },
        {
          "name": "stdout",
          "output_type": "stream",
          "text": [
            "\u001b[32;1m\u001b[1;3mI now know the final answer.  \n",
            "Final Answer: True\u001b[0m\n",
            "\n",
            "\u001b[1m> Finished chain.\u001b[0m\n",
            "\n",
            "\n",
            "\u001b[1m> Entering new AgentExecutor chain...\u001b[0m\n",
            "\u001b[32;1m\u001b[1;3mThe statement claims that Pushkin was born in 1837 in New York. However, Alexander Pushkin was actually born in 1799 in Moscow, Russia. \n",
            "\n",
            "Action: Language Model\n",
            "Action Input: \"Пушкин родился в 1837 году в Нью-Йорке. True or False?\"\n",
            "\u001b[0m\n",
            "Observation: \u001b[36;1m\u001b[1;3mFalse. Александр Пушкин родился 6 июня 1799 года в Москве, Россия.\u001b[0m\n",
            "Thought:"
          ]
        },
        {
          "name": "stderr",
          "output_type": "stream",
          "text": [
            "100%|██████████| 25/25 [02:56<00:00,  7.07s/it]"
          ]
        },
        {
          "name": "stdout",
          "output_type": "stream",
          "text": [
            "\u001b[32;1m\u001b[1;3mI now know the final answer.  \n",
            "Final Answer: False\u001b[0m\n",
            "\n",
            "\u001b[1m> Finished chain.\u001b[0m\n"
          ]
        },
        {
          "name": "stderr",
          "output_type": "stream",
          "text": [
            "\n"
          ]
        }
      ],
      "source": [
        "template = \"\"\"\"\n",
        "Answer the question with ONLY True or False.\n",
        "\n",
        "Question: {question}\n",
        "\n",
        "Answer: \n",
        "\"\"\"\n",
        "\n",
        "result = []\n",
        "for text in tqdm(df['texts']):\n",
        "    res = agent.invoke(template.format(question=text)) \n",
        "    result.append(res)\n",
        "    # break # Для отладки. Уберите, когда убедитесь, что на одном примере работает"
      ]
    },
    {
      "cell_type": "code",
      "execution_count": 45,
      "metadata": {},
      "outputs": [
        {
          "data": {
            "text/plain": [
              "{'input': '\"\\nAnswer the question with ONLY True or False.\\n\\nQuestion: Пушкин родился в 1837 году в Нью-Йорке.\\n\\nAnswer: \\n',\n",
              " 'output': 'False'}"
            ]
          },
          "execution_count": 45,
          "metadata": {},
          "output_type": "execute_result"
        }
      ],
      "source": [
        "res"
      ]
    },
    {
      "cell_type": "code",
      "execution_count": 66,
      "metadata": {},
      "outputs": [
        {
          "data": {
            "text/plain": [
              "[{'input': '\"\\nAnswer the question with ONLY True or False.\\n\\nQuestion: Человек использует только 10% своего мозга.\\n\\nAnswer: \\n',\n",
              "  'output': 'False'},\n",
              " {'input': '\"\\nAnswer the question with ONLY True or False.\\n\\nQuestion: Кошки и собаки видят мир в черно-белых тонах.\\n\\nAnswer: \\n',\n",
              "  'output': 'False'},\n",
              " {'input': '\"\\nAnswer the question with ONLY True or False.\\n\\nQuestion: Дейтерий - это изотоп водорода.\\n\\nAnswer: \\n',\n",
              "  'output': 'True'},\n",
              " {'input': '\"\\nAnswer the question with ONLY True or False.\\n\\nQuestion: Пчёлы не могут видеть красный цвет.\\n\\nAnswer: \\n',\n",
              "  'output': 'True'},\n",
              " {'input': '\"\\nAnswer the question with ONLY True or False.\\n\\nQuestion: Нейтроны - это элементарные частицы с отрицательным зарядом.\\n\\nAnswer: \\n',\n",
              "  'output': 'False'},\n",
              " {'input': '\"\\nAnswer the question with ONLY True or False.\\n\\nQuestion: Земля обращается вокруг Солнца по эллиптической битве.\\n\\nAnswer: \\n',\n",
              "  'output': 'True'},\n",
              " {'input': '\"\\nAnswer the question with ONLY True or False.\\n\\nQuestion: Период полураспада урана-238 составляет 4,5 миллиарда лет.\\n\\nAnswer: \\n',\n",
              "  'output': 'True'},\n",
              " {'input': '\"\\nAnswer the question with ONLY True or False.\\n\\nQuestion: \"Дельта\" в науке обозначает изменение квантового состояния.\\n\\nAnswer: \\n',\n",
              "  'output': 'False'},\n",
              " {'input': '\"\\nAnswer the question with ONLY True or False.\\n\\nQuestion: Антибиотики эффективны против вирусов.\\n\\nAnswer: \\n',\n",
              "  'output': 'False'},\n",
              " {'input': '\"\\nAnswer the question with ONLY True or False.\\n\\nQuestion: Все диамагнетики являются суперпроводниками.\\n\\nAnswer: \\n',\n",
              "  'output': 'False'},\n",
              " {'input': '\"\\nAnswer the question with ONLY True or False.\\n\\nQuestion: Коровы могут подниматься вверх по лестнице, но не могут спускаться.\\n\\nAnswer: \\n',\n",
              "  'output': 'True'},\n",
              " {'input': '\"\\nAnswer the question with ONLY True or False.\\n\\nQuestion: Геллаград - самая холодная планета в солнечной системе.\\n\\nAnswer: \\n',\n",
              "  'output': 'False'},\n",
              " {'input': '\"\\nAnswer the question with ONLY True or False.\\n\\nQuestion: Эволюция - это процесс, который отвечает за биологическое разнообразие на всех уровнях: от королевств до видов и даже внутривидового разнообразия.\\n\\nAnswer: \\n',\n",
              "  'output': 'True'},\n",
              " {'input': '\"\\nAnswer the question with ONLY True or False.\\n\\nQuestion: Климатическое изменение вызывает увеличение средней температуры планеты.\\n\\nAnswer: \\n',\n",
              "  'output': 'True'},\n",
              " {'input': '\"\\nAnswer the question with ONLY True or False.\\n\\nQuestion: Задержания в росте какого-либо растения могут быть вызваны недостатком углекислого газа.\\n\\nAnswer: \\n',\n",
              "  'output': 'True'},\n",
              " {'input': '\"\\nAnswer the question with ONLY True or False.\\n\\nQuestion: В людских генах содержатся вирусные элементы.\\n\\nAnswer: \\n',\n",
              "  'output': 'True'},\n",
              " {'input': '\"\\nAnswer the question with ONLY True or False.\\n\\nQuestion: Все птицы - яйцекладущие.\\n\\nAnswer: \\n',\n",
              "  'output': 'True'},\n",
              " {'input': '\"\\nAnswer the question with ONLY True or False.\\n\\nQuestion: Боль ключевой кости обычно вызывается болезнью Паркинсона.\\n\\nAnswer: \\n',\n",
              "  'output': 'False'},\n",
              " {'input': '\"\\nAnswer the question with ONLY True or False.\\n\\nQuestion: Непрямые эффекты ионизирующей радиации могут вызвать генетические изменения.\\n\\nAnswer: \\n',\n",
              "  'output': 'True'},\n",
              " {'input': '\"\\nAnswer the question with ONLY True or False.\\n\\nQuestion: Апельсины должны быть оранжевыми для созревания.\\n\\nAnswer: \\n',\n",
              "  'output': 'False'},\n",
              " {'input': '\"\\nAnswer the question with ONLY True or False.\\n\\nQuestion: sin(90) − cos(90) = 1\\n\\nAnswer: \\n',\n",
              "  'output': 'Agent stopped due to iteration limit or time limit.'},\n",
              " {'input': '\"\\nAnswer the question with ONLY True or False.\\n\\nQuestion: 2500 * 5 - 5 = 0\\n\\nAnswer: \\n',\n",
              "  'output': 'Agent stopped due to iteration limit or time limit.'},\n",
              " {'input': '\"\\nAnswer the question with ONLY True or False.\\n\\nQuestion: Курс который вы сейчас проходите размещён на Stepik.\\n\\nAnswer: \\n',\n",
              "  'output': 'False'},\n",
              " {'input': '\"\\nAnswer the question with ONLY True or False.\\n\\nQuestion: Одного из преподавателей этого курса зовут Валера Бабушкин.\\n\\nAnswer: \\n',\n",
              "  'output': 'True'},\n",
              " {'input': '\"\\nAnswer the question with ONLY True or False.\\n\\nQuestion: Пушкин родился в 1837 году в Нью-Йорке.\\n\\nAnswer: \\n',\n",
              "  'output': 'False'}]"
            ]
          },
          "execution_count": 66,
          "metadata": {},
          "output_type": "execute_result"
        }
      ],
      "source": [
        "result"
      ]
    },
    {
      "cell_type": "code",
      "execution_count": 67,
      "metadata": {},
      "outputs": [],
      "source": [
        "final = [True if r[\"output\"] == 'True' else False for r in result]"
      ]
    },
    {
      "cell_type": "code",
      "execution_count": 68,
      "metadata": {},
      "outputs": [
        {
          "data": {
            "text/plain": [
              "[False,\n",
              " False,\n",
              " True,\n",
              " True,\n",
              " False,\n",
              " True,\n",
              " True,\n",
              " False,\n",
              " False,\n",
              " False,\n",
              " True,\n",
              " False,\n",
              " True,\n",
              " True,\n",
              " True,\n",
              " True,\n",
              " True,\n",
              " False,\n",
              " True,\n",
              " False,\n",
              " False,\n",
              " False,\n",
              " False,\n",
              " True,\n",
              " False]"
            ]
          },
          "execution_count": 68,
          "metadata": {},
          "output_type": "execute_result"
        }
      ],
      "source": [
        "final"
      ]
    },
    {
      "cell_type": "code",
      "execution_count": 91,
      "metadata": {},
      "outputs": [],
      "source": [
        "df[\"answers\"] = final"
      ]
    },
    {
      "cell_type": "code",
      "execution_count": 92,
      "metadata": {},
      "outputs": [
        {
          "data": {
            "text/html": [
              "<div>\n",
              "<style scoped>\n",
              "    .dataframe tbody tr th:only-of-type {\n",
              "        vertical-align: middle;\n",
              "    }\n",
              "\n",
              "    .dataframe tbody tr th {\n",
              "        vertical-align: top;\n",
              "    }\n",
              "\n",
              "    .dataframe thead th {\n",
              "        text-align: right;\n",
              "    }\n",
              "</style>\n",
              "<table border=\"1\" class=\"dataframe\">\n",
              "  <thead>\n",
              "    <tr style=\"text-align: right;\">\n",
              "      <th></th>\n",
              "      <th>texts</th>\n",
              "      <th>answers</th>\n",
              "    </tr>\n",
              "  </thead>\n",
              "  <tbody>\n",
              "    <tr>\n",
              "      <th>0</th>\n",
              "      <td>Человек использует только 10% своего мозга.</td>\n",
              "      <td>False</td>\n",
              "    </tr>\n",
              "    <tr>\n",
              "      <th>1</th>\n",
              "      <td>Кошки и собаки видят мир в черно-белых тонах.</td>\n",
              "      <td>False</td>\n",
              "    </tr>\n",
              "    <tr>\n",
              "      <th>2</th>\n",
              "      <td>Дейтерий - это изотоп водорода.</td>\n",
              "      <td>True</td>\n",
              "    </tr>\n",
              "    <tr>\n",
              "      <th>3</th>\n",
              "      <td>Пчёлы не могут видеть красный цвет.</td>\n",
              "      <td>True</td>\n",
              "    </tr>\n",
              "    <tr>\n",
              "      <th>4</th>\n",
              "      <td>Нейтроны - это элементарные частицы с отрицате...</td>\n",
              "      <td>False</td>\n",
              "    </tr>\n",
              "    <tr>\n",
              "      <th>5</th>\n",
              "      <td>Земля обращается вокруг Солнца по эллиптическо...</td>\n",
              "      <td>True</td>\n",
              "    </tr>\n",
              "    <tr>\n",
              "      <th>6</th>\n",
              "      <td>Период полураспада урана-238 составляет 4,5 ми...</td>\n",
              "      <td>True</td>\n",
              "    </tr>\n",
              "    <tr>\n",
              "      <th>7</th>\n",
              "      <td>\"Дельта\" в науке обозначает изменение квантово...</td>\n",
              "      <td>False</td>\n",
              "    </tr>\n",
              "    <tr>\n",
              "      <th>8</th>\n",
              "      <td>Антибиотики эффективны против вирусов.</td>\n",
              "      <td>False</td>\n",
              "    </tr>\n",
              "    <tr>\n",
              "      <th>9</th>\n",
              "      <td>Все диамагнетики являются суперпроводниками.</td>\n",
              "      <td>False</td>\n",
              "    </tr>\n",
              "    <tr>\n",
              "      <th>10</th>\n",
              "      <td>Коровы могут подниматься вверх по лестнице, но...</td>\n",
              "      <td>True</td>\n",
              "    </tr>\n",
              "    <tr>\n",
              "      <th>11</th>\n",
              "      <td>Геллаград - самая холодная планета в солнечной...</td>\n",
              "      <td>False</td>\n",
              "    </tr>\n",
              "    <tr>\n",
              "      <th>12</th>\n",
              "      <td>Эволюция - это процесс, который отвечает за би...</td>\n",
              "      <td>True</td>\n",
              "    </tr>\n",
              "    <tr>\n",
              "      <th>13</th>\n",
              "      <td>Климатическое изменение вызывает увеличение ср...</td>\n",
              "      <td>True</td>\n",
              "    </tr>\n",
              "    <tr>\n",
              "      <th>14</th>\n",
              "      <td>Задержания в росте какого-либо растения могут ...</td>\n",
              "      <td>True</td>\n",
              "    </tr>\n",
              "    <tr>\n",
              "      <th>15</th>\n",
              "      <td>В людских генах содержатся вирусные элементы.</td>\n",
              "      <td>True</td>\n",
              "    </tr>\n",
              "    <tr>\n",
              "      <th>16</th>\n",
              "      <td>Все птицы - яйцекладущие.</td>\n",
              "      <td>True</td>\n",
              "    </tr>\n",
              "    <tr>\n",
              "      <th>17</th>\n",
              "      <td>Боль ключевой кости обычно вызывается болезнью...</td>\n",
              "      <td>False</td>\n",
              "    </tr>\n",
              "    <tr>\n",
              "      <th>18</th>\n",
              "      <td>Непрямые эффекты ионизирующей радиации могут в...</td>\n",
              "      <td>True</td>\n",
              "    </tr>\n",
              "    <tr>\n",
              "      <th>19</th>\n",
              "      <td>Апельсины должны быть оранжевыми для созревания.</td>\n",
              "      <td>False</td>\n",
              "    </tr>\n",
              "    <tr>\n",
              "      <th>20</th>\n",
              "      <td>sin(90) − cos(90) = 1</td>\n",
              "      <td>True</td>\n",
              "    </tr>\n",
              "    <tr>\n",
              "      <th>21</th>\n",
              "      <td>2500 * 5 - 5 = 0</td>\n",
              "      <td>False</td>\n",
              "    </tr>\n",
              "    <tr>\n",
              "      <th>22</th>\n",
              "      <td>Курс который вы сейчас проходите размещён на S...</td>\n",
              "      <td>True</td>\n",
              "    </tr>\n",
              "    <tr>\n",
              "      <th>23</th>\n",
              "      <td>Одного из преподавателей этого курса зовут Вал...</td>\n",
              "      <td>False</td>\n",
              "    </tr>\n",
              "    <tr>\n",
              "      <th>24</th>\n",
              "      <td>Пушкин родился в 1837 году в Нью-Йорке.</td>\n",
              "      <td>False</td>\n",
              "    </tr>\n",
              "  </tbody>\n",
              "</table>\n",
              "</div>"
            ],
            "text/plain": [
              "                                                texts  answers\n",
              "0         Человек использует только 10% своего мозга.    False\n",
              "1       Кошки и собаки видят мир в черно-белых тонах.    False\n",
              "2                     Дейтерий - это изотоп водорода.     True\n",
              "3                 Пчёлы не могут видеть красный цвет.     True\n",
              "4   Нейтроны - это элементарные частицы с отрицате...    False\n",
              "5   Земля обращается вокруг Солнца по эллиптическо...     True\n",
              "6   Период полураспада урана-238 составляет 4,5 ми...     True\n",
              "7   \"Дельта\" в науке обозначает изменение квантово...    False\n",
              "8              Антибиотики эффективны против вирусов.    False\n",
              "9        Все диамагнетики являются суперпроводниками.    False\n",
              "10  Коровы могут подниматься вверх по лестнице, но...     True\n",
              "11  Геллаград - самая холодная планета в солнечной...    False\n",
              "12  Эволюция - это процесс, который отвечает за би...     True\n",
              "13  Климатическое изменение вызывает увеличение ср...     True\n",
              "14  Задержания в росте какого-либо растения могут ...     True\n",
              "15      В людских генах содержатся вирусные элементы.     True\n",
              "16                          Все птицы - яйцекладущие.     True\n",
              "17  Боль ключевой кости обычно вызывается болезнью...    False\n",
              "18  Непрямые эффекты ионизирующей радиации могут в...     True\n",
              "19   Апельсины должны быть оранжевыми для созревания.    False\n",
              "20                              sin(90) − cos(90) = 1     True\n",
              "21                                   2500 * 5 - 5 = 0    False\n",
              "22  Курс который вы сейчас проходите размещён на S...     True\n",
              "23  Одного из преподавателей этого курса зовут Вал...    False\n",
              "24            Пушкин родился в 1837 году в Нью-Йорке.    False"
            ]
          },
          "execution_count": 92,
          "metadata": {},
          "output_type": "execute_result"
        }
      ],
      "source": [
        "df"
      ]
    },
    {
      "cell_type": "code",
      "execution_count": 93,
      "metadata": {
        "id": "omLhHZzJ8zdF"
      },
      "outputs": [],
      "source": [
        "df[['texts', 'answers']].to_csv(\"3.3.9_solution.csv\", index=False)"
      ]
    },
    {
      "cell_type": "code",
      "execution_count": null,
      "metadata": {},
      "outputs": [],
      "source": []
    }
  ],
  "metadata": {
    "colab": {
      "provenance": []
    },
    "kernelspec": {
      "display_name": "Python 3",
      "name": "python3"
    },
    "language_info": {
      "codemirror_mode": {
        "name": "ipython",
        "version": 3
      },
      "file_extension": ".py",
      "mimetype": "text/x-python",
      "name": "python",
      "nbconvert_exporter": "python",
      "pygments_lexer": "ipython3",
      "version": "3.11.5"
    }
  },
  "nbformat": 4,
  "nbformat_minor": 0
}
