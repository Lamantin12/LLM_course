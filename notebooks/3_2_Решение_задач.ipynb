{
  "cells": [
    {
      "cell_type": "code",
      "execution_count": 1,
      "metadata": {
        "id": "gEG2cGnXfVBM"
      },
      "outputs": [
        {
          "name": "stdout",
          "output_type": "stream",
          "text": [
            "\n",
            "\u001b[1m[\u001b[0m\u001b[34;49mnotice\u001b[0m\u001b[1;39;49m]\u001b[0m\u001b[39;49m A new release of pip is available: \u001b[0m\u001b[31;49m23.2.1\u001b[0m\u001b[39;49m -> \u001b[0m\u001b[32;49m24.3.1\u001b[0m\n",
            "\u001b[1m[\u001b[0m\u001b[34;49mnotice\u001b[0m\u001b[1;39;49m]\u001b[0m\u001b[39;49m To update, run: \u001b[0m\u001b[32;49mpip install --upgrade pip\u001b[0m\n"
          ]
        }
      ],
      "source": [
        "!pip install langchain openai langchain-openai langchain-community -q"
      ]
    },
    {
      "cell_type": "code",
      "execution_count": 35,
      "metadata": {
        "id": "ix68Au3nfW94"
      },
      "outputs": [],
      "source": [
        "import re\n",
        "import pandas as pd\n",
        "from tqdm import tqdm\n",
        "from getpass import getpass\n",
        "\n",
        "from langchain.prompts import PromptTemplate\n",
        "from langchain.chains import LLMChain, TransformChain\n",
        "from langchain.output_parsers import ResponseSchema, StructuredOutputParser \n",
        "from langchain.schema.output_parser import StrOutputParser"
      ]
    },
    {
      "cell_type": "markdown",
      "metadata": {
        "id": "C0K7awRZfciu"
      },
      "source": [
        "## Если используете ключ от OpenAI, запустите эту ячейку 👇"
      ]
    },
    {
      "cell_type": "code",
      "execution_count": null,
      "metadata": {
        "id": "oSaeU0STfbxu"
      },
      "outputs": [],
      "source": [
        "import os\n",
        "from langchain_openai import ChatOpenAI\n",
        "\n",
        "\n",
        "# os.environ['OPENAI_API_KEY'] = \"Введите ваш OpenAI API ключ\"\n",
        "os.environ['OPENAI_API_KEY'] = getpass(prompt='Введите ваш OpenAI API ключ')\n",
        "\n",
        "# Инициализируем языковую модель\n",
        "llm = ChatOpenAI(temperature=0.0)"
      ]
    },
    {
      "cell_type": "markdown",
      "metadata": {
        "id": "KfBKAJ0vfiCh"
      },
      "source": [
        "## Если используете ключ из курса, запустите эти ячейки 👇\n"
      ]
    },
    {
      "cell_type": "code",
      "execution_count": null,
      "metadata": {
        "id": "mOvzGTXyfgAw"
      },
      "outputs": [],
      "source": [
        "!wget https://raw.githubusercontent.com/a-milenkin/LLM_practical_course/main/notebooks/utils.py"
      ]
    },
    {
      "cell_type": "code",
      "execution_count": 3,
      "metadata": {
        "id": "_baYTEnSfex7"
      },
      "outputs": [],
      "source": [
        "from utils import ChatOpenAI\n",
        "from getpass import getpass\n",
        "\n",
        "#course_api_key= \"Введите ваш API ключ, полученный в боте курса\"\n",
        "course_api_key = getpass(prompt='Введите ваш API ключ, полученный в боте курса')\n",
        "\n",
        "# инициализируем языковую модель\n",
        "llm = ChatOpenAI(temperature=0.0, course_api_key=course_api_key)"
      ]
    },
    {
      "cell_type": "markdown",
      "metadata": {
        "id": "z2JH453Ufm4L"
      },
      "source": [
        "## Задание 3.2.9 🤔 Кажется, это что-то на LLM-ском? 🧐"
      ]
    },
    {
      "cell_type": "code",
      "execution_count": 4,
      "metadata": {
        "id": "HExe1XOeflIq"
      },
      "outputs": [
        {
          "data": {
            "text/html": [
              "<div>\n",
              "<style scoped>\n",
              "    .dataframe tbody tr th:only-of-type {\n",
              "        vertical-align: middle;\n",
              "    }\n",
              "\n",
              "    .dataframe tbody tr th {\n",
              "        vertical-align: top;\n",
              "    }\n",
              "\n",
              "    .dataframe thead th {\n",
              "        text-align: right;\n",
              "    }\n",
              "</style>\n",
              "<table border=\"1\" class=\"dataframe\">\n",
              "  <thead>\n",
              "    <tr style=\"text-align: right;\">\n",
              "      <th></th>\n",
              "      <th>raw_text</th>\n",
              "    </tr>\n",
              "  </thead>\n",
              "  <tbody>\n",
              "    <tr>\n",
              "      <th>0</th>\n",
              "      <td>The sun was setting, casting long shadows over...</td>\n",
              "    </tr>\n",
              "    <tr>\n",
              "      <th>1</th>\n",
              "      <td>Le soleil se couchait, jetant de longues ombre...</td>\n",
              "    </tr>\n",
              "    <tr>\n",
              "      <th>2</th>\n",
              "      <td>El sol se estaba poniendo, proyectando largas ...</td>\n",
              "    </tr>\n",
              "    <tr>\n",
              "      <th>3</th>\n",
              "      <td>La ciudad estaba llena de vida, sus calles lle...</td>\n",
              "    </tr>\n",
              "    <tr>\n",
              "      <th>4</th>\n",
              "      <td>La ville était pleine de vie, ses rues remplie...</td>\n",
              "    </tr>\n",
              "  </tbody>\n",
              "</table>\n",
              "</div>"
            ],
            "text/plain": [
              "                                            raw_text\n",
              "0  The sun was setting, casting long shadows over...\n",
              "1  Le soleil se couchait, jetant de longues ombre...\n",
              "2  El sol se estaba poniendo, proyectando largas ...\n",
              "3  La ciudad estaba llena de vida, sus calles lle...\n",
              "4  La ville était pleine de vie, ses rues remplie..."
            ]
          },
          "execution_count": 4,
          "metadata": {},
          "output_type": "execute_result"
        }
      ],
      "source": [
        "df = pd.read_csv(\"https://stepik.org/media/attachments/lesson/1110883/raw_texts.csv\")\n",
        "df.head()"
      ]
    },
    {
      "cell_type": "markdown",
      "metadata": {
        "id": "lECMhfEigA2x"
      },
      "source": [
        "Напишем функцию, которая очистит текст от ненужных символов: `¿, ¡, £`"
      ]
    },
    {
      "cell_type": "code",
      "execution_count": 5,
      "metadata": {
        "id": "kcQcCsnqgDo-"
      },
      "outputs": [],
      "source": [
        "def clean_text(inputs: dict) -> dict:\n",
        "    text = inputs[\"text\"]\n",
        "\n",
        "    text = re.sub(r'[¿¡£]', '', text)\n",
        "\n",
        "    return {\"text\": text}"
      ]
    },
    {
      "cell_type": "markdown",
      "metadata": {
        "id": "I5fppZD7gISy"
      },
      "source": [
        "Будем просить у модели определять язык и имя главного персонажа и выдавать ответ в виде словаря. Для этого создадим `Output parser`, с которым вы уже познакомились в прошлых уроках."
      ]
    },
    {
      "cell_type": "code",
      "execution_count": 9,
      "metadata": {
        "id": "sMwNyCdigKr3"
      },
      "outputs": [],
      "source": [
        "# Определим схемы ответа\n",
        "language_schema = ResponseSchema(\n",
        "    name=\"language\",\n",
        "    description=\"What language is the text in? Answer with the name of the language.\",\n",
        "    )\n",
        "\n",
        "person_schema = ResponseSchema(\n",
        "    name=\"main_character\",\n",
        "    description=\"\"\"Find the main character of the text. \n",
        "    Answer with the name of the character in language of the text.\n",
        "    \"\"\"\n",
        "    )\n",
        "\n",
        "response_schemas = [language_schema, person_schema]\n",
        "output_parser = StructuredOutputParser.from_response_schemas(response_schemas) # Создаём парсер и подаём в него список со схемами\n",
        "format_instructions = output_parser.get_format_instructions() # Получаем инструкции по форматированию ответа"
      ]
    },
    {
      "cell_type": "markdown",
      "metadata": {
        "id": "X4sjobt8gaeC"
      },
      "source": [
        "Напишем шаблон промпта со своим вопросом и инструкциями по форматированию ответа. Будем передавать в этот промпт сырой текст"
      ]
    },
    {
      "cell_type": "code",
      "execution_count": 18,
      "metadata": {
        "id": "YO0jk4_rgaCH"
      },
      "outputs": [],
      "source": [
        "# создайте цепочку диалога, в параметры передайте языковую модель и память\n",
        "template = \"\"\"You are a helpful assistant. \n",
        "You will do your best to extract the answers to the question from the text.\n",
        "You have to carefully read the text and find what language \n",
        "its written in and the main character of the text.\n",
        "\n",
        "text: {text}\n",
        "\n",
        "{format_instructions}\"\"\"\n",
        "\n",
        "prompt = PromptTemplate(\n",
        "    input_variables=[\"text\"], template=template,\n",
        "    partial_variables={\"format_instructions\": format_instructions},\n",
        ")\n"
      ]
    },
    {
      "cell_type": "markdown",
      "metadata": {
        "id": "Uf9zTeF4gi4H"
      },
      "source": [
        "Создадим цепочку с помощью `LCEL`"
      ]
    },
    {
      "cell_type": "code",
      "execution_count": 45,
      "metadata": {
        "id": "u3DdWjgQggEF"
      },
      "outputs": [],
      "source": [
        "chain = clean_text | prompt | llm | output_parser"
      ]
    },
    {
      "cell_type": "code",
      "execution_count": 61,
      "metadata": {},
      "outputs": [
        {
          "data": {
            "text/plain": [
              "dict"
            ]
          },
          "execution_count": 61,
          "metadata": {},
          "output_type": "execute_result"
        }
      ],
      "source": [
        "clean_text({\"text\": text})"
      ]
    },
    {
      "cell_type": "code",
      "execution_count": 64,
      "metadata": {
        "id": "ZrDjre54gpVs"
      },
      "outputs": [
        {
          "name": "stderr",
          "output_type": "stream",
          "text": [
            "100%|██████████| 13/13 [00:17<00:00,  1.34s/it]\n"
          ]
        }
      ],
      "source": [
        "result = []\n",
        "for text in tqdm(df['raw_text']):\n",
        "    # YOUR CODE HERE\n",
        "    result.append(clean_text({\"text\": text}))\n",
        "    result[-1].update(chain.invoke({\"text\": text}))\n",
        "    # break # Для отладки. Уберите, когда убедитесь, что на одном примере работает"
      ]
    },
    {
      "cell_type": "code",
      "execution_count": 67,
      "metadata": {},
      "outputs": [
        {
          "data": {
            "text/html": [
              "<div>\n",
              "<style scoped>\n",
              "    .dataframe tbody tr th:only-of-type {\n",
              "        vertical-align: middle;\n",
              "    }\n",
              "\n",
              "    .dataframe tbody tr th {\n",
              "        vertical-align: top;\n",
              "    }\n",
              "\n",
              "    .dataframe thead th {\n",
              "        text-align: right;\n",
              "    }\n",
              "</style>\n",
              "<table border=\"1\" class=\"dataframe\">\n",
              "  <thead>\n",
              "    <tr style=\"text-align: right;\">\n",
              "      <th></th>\n",
              "      <th>text</th>\n",
              "      <th>language</th>\n",
              "      <th>main_character</th>\n",
              "    </tr>\n",
              "  </thead>\n",
              "  <tbody>\n",
              "    <tr>\n",
              "      <th>0</th>\n",
              "      <td>The sun was setting, casting long shadows over...</td>\n",
              "      <td>English</td>\n",
              "      <td>John</td>\n",
              "    </tr>\n",
              "    <tr>\n",
              "      <th>1</th>\n",
              "      <td>Le soleil se couchait, jetant de longues ombre...</td>\n",
              "      <td>French</td>\n",
              "      <td>Pierre</td>\n",
              "    </tr>\n",
              "    <tr>\n",
              "      <th>2</th>\n",
              "      <td>El sol se estaba poniendo, proyectando largas ...</td>\n",
              "      <td>Spanish</td>\n",
              "      <td>Carlos</td>\n",
              "    </tr>\n",
              "    <tr>\n",
              "      <th>3</th>\n",
              "      <td>La ciudad estaba llena de vida, sus calles lle...</td>\n",
              "      <td>Spanish</td>\n",
              "      <td>Juan</td>\n",
              "    </tr>\n",
              "    <tr>\n",
              "      <th>4</th>\n",
              "      <td>La ville était pleine de vie, ses rues remplie...</td>\n",
              "      <td>French</td>\n",
              "      <td>Jean</td>\n",
              "    </tr>\n",
              "    <tr>\n",
              "      <th>5</th>\n",
              "      <td>Die Stadt war voller Leben, ihre Straßen gefül...</td>\n",
              "      <td>German</td>\n",
              "      <td>Johann</td>\n",
              "    </tr>\n",
              "    <tr>\n",
              "      <th>6</th>\n",
              "      <td>Die Sonne ging unter und warf lange Schatten ü...</td>\n",
              "      <td>German</td>\n",
              "      <td>Hans</td>\n",
              "    </tr>\n",
              "    <tr>\n",
              "      <th>7</th>\n",
              "      <td>В тихом уголке старого города, где узкие улочк...</td>\n",
              "      <td>Russian</td>\n",
              "      <td>Анна</td>\n",
              "    </tr>\n",
              "    <tr>\n",
              "      <th>8</th>\n",
              "      <td>In a small town nestled between the mountains ...</td>\n",
              "      <td>English</td>\n",
              "      <td>Laura</td>\n",
              "    </tr>\n",
              "    <tr>\n",
              "      <th>9</th>\n",
              "      <td>En un pequeño pueblo situado entre las montaña...</td>\n",
              "      <td>Spanish</td>\n",
              "      <td>Maria</td>\n",
              "    </tr>\n",
              "    <tr>\n",
              "      <th>10</th>\n",
              "      <td>Dans un petit village niché entre les montagne...</td>\n",
              "      <td>French</td>\n",
              "      <td>Sophie</td>\n",
              "    </tr>\n",
              "    <tr>\n",
              "      <th>11</th>\n",
              "      <td>В городе было множество людей, каждый из котор...</td>\n",
              "      <td>Russian</td>\n",
              "      <td>Иван</td>\n",
              "    </tr>\n",
              "    <tr>\n",
              "      <th>12</th>\n",
              "      <td>La città era piena di vita, le strade piene de...</td>\n",
              "      <td>Italian</td>\n",
              "      <td>Giovanni</td>\n",
              "    </tr>\n",
              "  </tbody>\n",
              "</table>\n",
              "</div>"
            ],
            "text/plain": [
              "                                                 text language main_character\n",
              "0   The sun was setting, casting long shadows over...  English           John\n",
              "1   Le soleil se couchait, jetant de longues ombre...   French         Pierre\n",
              "2   El sol se estaba poniendo, proyectando largas ...  Spanish         Carlos\n",
              "3   La ciudad estaba llena de vida, sus calles lle...  Spanish           Juan\n",
              "4   La ville était pleine de vie, ses rues remplie...   French           Jean\n",
              "5   Die Stadt war voller Leben, ihre Straßen gefül...   German         Johann\n",
              "6   Die Sonne ging unter und warf lange Schatten ü...   German           Hans\n",
              "7   В тихом уголке старого города, где узкие улочк...  Russian           Анна\n",
              "8   In a small town nestled between the mountains ...  English          Laura\n",
              "9   En un pequeño pueblo situado entre las montaña...  Spanish          Maria\n",
              "10  Dans un petit village niché entre les montagne...   French         Sophie\n",
              "11  В городе было множество людей, каждый из котор...  Russian           Иван\n",
              "12  La città era piena di vita, le strade piene de...  Italian       Giovanni"
            ]
          },
          "execution_count": 67,
          "metadata": {},
          "output_type": "execute_result"
        }
      ],
      "source": [
        "pd.DataFrame(result)[['text', 'language', 'main_character']]"
      ]
    },
    {
      "cell_type": "markdown",
      "metadata": {
        "id": "HsW9_cn6gy7-"
      },
      "source": [
        "Сохраним всё в итоговый файл. Убедитесь, что на этом этапе у вас в столбцах\n",
        "\n",
        "- `text` - очищенный текст (без символов ¿, ¡, £)\n",
        "- `language` - язык, на котором написан текст (название языка указать на английском языке)\n",
        "- `main_character` - имя главного персонажа в тексте (указать на том языке, на котором и написан сам текст)"
      ]
    },
    {
      "cell_type": "code",
      "execution_count": 68,
      "metadata": {
        "id": "p9CUjXZsgveh"
      },
      "outputs": [],
      "source": [
        "pd.DataFrame(result)[['text', 'language', 'main_character']].to_csv('3.2.9_solution.csv', index=False)"
      ]
    },
    {
      "cell_type": "code",
      "execution_count": null,
      "metadata": {},
      "outputs": [],
      "source": []
    }
  ],
  "metadata": {
    "colab": {
      "provenance": []
    },
    "kernelspec": {
      "display_name": "Python 3",
      "name": "python3"
    },
    "language_info": {
      "codemirror_mode": {
        "name": "ipython",
        "version": 3
      },
      "file_extension": ".py",
      "mimetype": "text/x-python",
      "name": "python",
      "nbconvert_exporter": "python",
      "pygments_lexer": "ipython3",
      "version": "3.11.5"
    }
  },
  "nbformat": 4,
  "nbformat_minor": 0
}
