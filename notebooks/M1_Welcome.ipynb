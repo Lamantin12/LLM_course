{
  "cells": [
    {
      "cell_type": "markdown",
      "id": "2a32b630-c884-40b1-abf0-2b0c1c0278df",
      "metadata": {
        "id": "2a32b630-c884-40b1-abf0-2b0c1c0278df"
      },
      "source": [
        "# <center>⚡️🏁 Welcome! Как запустить эти ваши ноутбуки с курса? 🤔📔 </center>\n",
        "\n",
        "<img src='https://github.com/a-milenkin/LLM_practical_course/blob/main/images/choice_api.jpeg?raw=1' align=\"right\" width=\"400\" height=\"400\" >\n",
        "\n",
        "## Оглавление ноутбука\n",
        "\n",
        " * [🚀 API от OpenAI.](#part1)\n",
        " * [🛠 API от OpenAI с __нашего сервера__.](#part2)\n",
        " * [🤐 Чат-модели и объект ChatOpenAI](#part3)\n",
        " * [🔧 Open Source LLM модели и API от HuggingFaceHub.](#part4)\n",
        " * [🔋 Локальный запуск LLM без интернета и API ключей.](#part5)\n",
        " * [🧸 Выводы и заключения.](#part6)"
      ]
    },
    {
      "cell_type": "code",
      "execution_count": 2,
      "id": "2da22ebe-7cbc-4612-99ca-d9f0a6586026",
      "metadata": {
        "id": "2da22ebe-7cbc-4612-99ca-d9f0a6586026",
        "tags": []
      },
      "outputs": [],
      "source": [
        "import os\n",
        "import warnings\n",
        "from getpass import getpass  # Для скрытого ввода API ключей\n",
        "\n",
        "warnings.filterwarnings(\"ignore\")"
      ]
    },
    {
      "cell_type": "markdown",
      "id": "83b52baf-54de-435b-a18f-c831927d20b3",
      "metadata": {
        "id": "83b52baf-54de-435b-a18f-c831927d20b3"
      },
      "source": [
        "#### Для любого варианта использования сначала обязательно установить необходимые библиотеки!"
      ]
    },
    {
      "cell_type": "code",
      "execution_count": 3,
      "id": "dd19488a-23da-41fd-93f8-82f3fe448e8e",
      "metadata": {
        "id": "dd19488a-23da-41fd-93f8-82f3fe448e8e",
        "tags": []
      },
      "outputs": [
        {
          "name": "stdout",
          "output_type": "stream",
          "text": [
            "\n",
            "\u001b[1m[\u001b[0m\u001b[34;49mnotice\u001b[0m\u001b[1;39;49m]\u001b[0m\u001b[39;49m A new release of pip is available: \u001b[0m\u001b[31;49m23.2.1\u001b[0m\u001b[39;49m -> \u001b[0m\u001b[32;49m24.3.1\u001b[0m\n",
            "\u001b[1m[\u001b[0m\u001b[34;49mnotice\u001b[0m\u001b[1;39;49m]\u001b[0m\u001b[39;49m To update, run: \u001b[0m\u001b[32;49mpip install --upgrade pip\u001b[0m\n"
          ]
        }
      ],
      "source": [
        "# Установим нужные библиотеки\n",
        "!pip install openai langchain huggingface_hub langchain-openai langchain-community transformers langchain-huggingface -q"
      ]
    },
    {
      "cell_type": "markdown",
      "id": "a6fe2415-cfc6-462f-843d-f7cfd44647ad",
      "metadata": {
        "id": "a6fe2415-cfc6-462f-843d-f7cfd44647ad",
        "tags": []
      },
      "source": [
        "# <center id=\"part1\">  🤖 Как использовать API от `OpenAI` напрямую?!"
      ]
    },
    {
      "cell_type": "markdown",
      "id": "6faf094d-1e16-4048-9b2d-7bfdce07b98f",
      "metadata": {
        "id": "6faf094d-1e16-4048-9b2d-7bfdce07b98f"
      },
      "source": [
        "<div class=\"alert alert-block alert-danger\"> Если хотите использовать официальное <code>API</code> от <code>OpenAI</code> в РФ, то используйте <code>VPN</code> или запускайте код через <code>Google Colab</code>."
      ]
    },
    {
      "cell_type": "markdown",
      "id": "c221dbe6-190e-42bc-8298-e7be64f9c734",
      "metadata": {
        "id": "c221dbe6-190e-42bc-8298-e7be64f9c734",
        "tags": []
      },
      "source": [
        "<div class=\"alert alert-info\">\n",
        "    \n",
        "**🔑 Получение ключа для использования `OpenAI API`**\n",
        "\n",
        "> При создании своего первого ключа, вы получите бесплатные 5$ для использования платформы.\n",
        "\n",
        "0. Если вы из РФ, то используйте __VPN__ при заходе на сайт.\n",
        "1. Если нет аккаунта от OpenAI, то для регистрации потребуется __зарубежная симкарта__ (можно приобрести в интернете, либо купить доступ к уже зарегистрированному аккаунту, ~100 руб.\n",
        "2. Перейдите по [ссылке](https://platform.openai.com/account/api-keys) и авторизуйтесь на сайте `OpenAI`.\n",
        "3. После успешной авторизации на сайте, нажмите на кнопку `+ Create new secret key` и введите любое название для ключа.\n",
        "4. Скопируйте полученный ключ и поместите его в переменную среды `OPENAI_API_KEY`\n",
        "5. Для оплаты новых нокенов из РФ, потребуется __иностранная карта__!"
      ]
    },
    {
      "cell_type": "markdown",
      "id": "bb9d067b-908c-4fd8-a369-d08281777fe7",
      "metadata": {
        "id": "bb9d067b-908c-4fd8-a369-d08281777fe7"
      },
      "source": [
        "* ⚙️ Начнем с прямых вызовов к API от OpenAI.\n",
        "* 🗂 [Документация](https://platform.openai.com/docs/api-reference/making-requests) по использованию API\n",
        "* 👨‍🍳 Полезный [Cookbook](https://cookbook.openai.com/)"
      ]
    },
    {
      "cell_type": "markdown",
      "id": "86e6569f-371f-47d1-9448-6acf579ff647",
      "metadata": {
        "id": "86e6569f-371f-47d1-9448-6acf579ff647"
      },
      "source": [
        "### Куда вводить ключи: <br>\n",
        "**1 вариант** - В появившемся окне после выполнения ячейки с `getpass` - более безопасно, но придется вводить ключ при каждом перезапуске ноутбука.\n",
        "\n",
        "<img src='https://github.com/a-milenkin/LLM_practical_course/blob/main/images/wind.png?raw=1' width=\"600\" height=\"300\" >\n",
        "\n",
        "**2 вариант** - Если ноутбуком будете пользоваться только вы, и точно уверены, что ноутбук с ключом не будет доступен третьим лицам. Можно постоянно не вводить ключ.\n",
        "\n",
        "<img src='https://github.com/a-milenkin/LLM_practical_course/blob/main/images/wind2.png?raw=1' width=\"600\" height=\"300\" >"
      ]
    },
    {
      "cell_type": "code",
      "execution_count": 5,
      "id": "a3acbd8d-41dd-4c8a-b20a-2cb0b8573f2a",
      "metadata": {
        "id": "a3acbd8d-41dd-4c8a-b20a-2cb0b8573f2a",
        "outputId": "6f2ab84c-d449-4c7d-a421-e48b772c14f3",
        "tags": []
      },
      "outputs": [],
      "source": [
        "# Ключ следует вводить в появившемся окне после запуска ячейки и нажать Enter\n",
        "# Либо раскомментировать строку ниже и записать ключ в переменную (менее безопасно)\n",
        "\n",
        "# openai_api_key = \"Введите ваш OpenAI API-ключ\"\n",
        "openai_api_key = getpass(prompt=\"Введите ваш OpenAI API-ключ\")\n",
        "os.environ[\"OPENAI_API_KEY\"] = openai_api_key"
      ]
    },
    {
      "cell_type": "markdown",
      "id": "b34e683f-bd75-4a3b-b972-d84e6b3ca2e0",
      "metadata": {
        "id": "b34e683f-bd75-4a3b-b972-d84e6b3ca2e0"
      },
      "source": [
        "Рассмотрим некоторые параметры функции `.chat.completions.create()`\n",
        "\n",
        "О всех параметрах можно узнать на [странице](https://platform.openai.com/docs/api-reference/chat/create)"
      ]
    },
    {
      "cell_type": "code",
      "execution_count": 6,
      "id": "4ecb4191-eb0c-41ec-91d4-f3f62b887aea",
      "metadata": {
        "id": "4ecb4191-eb0c-41ec-91d4-f3f62b887aea",
        "tags": []
      },
      "outputs": [],
      "source": [
        "import openai\n",
        "from openai import OpenAI\n",
        "\n",
        "openai.api_key = openai_api_key\n",
        "\n",
        "client = OpenAI(\n",
        "    # defaults to os.environ.get(\"OPENAI_API_KEY\")\n",
        "    api_key=openai_api_key,\n",
        ")\n",
        "\n",
        "#print(client.models.list()) # Выведет все возможные модели от OpenAI, которые можно указать в параметре model"
      ]
    },
    {
      "cell_type": "code",
      "execution_count": 7,
      "id": "8f4745c2-19ce-4f44-9cc2-990c56d5a411",
      "metadata": {
        "id": "8f4745c2-19ce-4f44-9cc2-990c56d5a411",
        "tags": []
      },
      "outputs": [
        {
          "ename": "RateLimitError",
          "evalue": "Error code: 429 - {'error': {'message': 'You exceeded your current quota, please check your plan and billing details. For more information on this error, read the docs: https://platform.openai.com/docs/guides/error-codes/api-errors.', 'type': 'insufficient_quota', 'param': None, 'code': 'insufficient_quota'}}",
          "output_type": "error",
          "traceback": [
            "\u001b[0;31m---------------------------------------------------------------------------\u001b[0m",
            "\u001b[0;31mRateLimitError\u001b[0m                            Traceback (most recent call last)",
            "Cell \u001b[0;32mIn[7], line 14\u001b[0m\n\u001b[1;32m      3\u001b[0m client \u001b[38;5;241m=\u001b[39m OpenAI(\n\u001b[1;32m      4\u001b[0m     \u001b[38;5;66;03m# defaults to os.environ.get(\"OPENAI_API_KEY\")\u001b[39;00m\n\u001b[1;32m      5\u001b[0m     api_key\u001b[38;5;241m=\u001b[39mopenai_api_key,\n\u001b[1;32m      6\u001b[0m )\n\u001b[1;32m      7\u001b[0m messages \u001b[38;5;241m=\u001b[39m [\n\u001b[1;32m      8\u001b[0m     {\n\u001b[1;32m      9\u001b[0m         \u001b[38;5;124m\"\u001b[39m\u001b[38;5;124mrole\u001b[39m\u001b[38;5;124m\"\u001b[39m: \u001b[38;5;124m\"\u001b[39m\u001b[38;5;124muser\u001b[39m\u001b[38;5;124m\"\u001b[39m,  \u001b[38;5;66;03m# Роль - ассистент или юзер\u001b[39;00m\n\u001b[1;32m     10\u001b[0m         \u001b[38;5;124m\"\u001b[39m\u001b[38;5;124mcontent\u001b[39m\u001b[38;5;124m\"\u001b[39m: \u001b[38;5;124m\"\u001b[39m\u001b[38;5;124m1+1\u001b[39m\u001b[38;5;124m\"\u001b[39m,  \u001b[38;5;66;03m# Сам промпт для подачи в chatGPT\u001b[39;00m\n\u001b[1;32m     11\u001b[0m     }\n\u001b[1;32m     12\u001b[0m ]\n\u001b[0;32m---> 14\u001b[0m chat_completion \u001b[38;5;241m=\u001b[39m \u001b[43mclient\u001b[49m\u001b[38;5;241;43m.\u001b[39;49m\u001b[43mchat\u001b[49m\u001b[38;5;241;43m.\u001b[39;49m\u001b[43mcompletions\u001b[49m\u001b[38;5;241;43m.\u001b[39;49m\u001b[43mcreate\u001b[49m\u001b[43m(\u001b[49m\n\u001b[1;32m     15\u001b[0m \u001b[43m    \u001b[49m\u001b[43mmax_tokens\u001b[49m\u001b[38;5;241;43m=\u001b[39;49m\u001b[38;5;241;43m100\u001b[39;49m\u001b[43m,\u001b[49m\n\u001b[1;32m     16\u001b[0m \u001b[43m    \u001b[49m\u001b[43mmodel\u001b[49m\u001b[38;5;241;43m=\u001b[39;49m\u001b[38;5;124;43m\"\u001b[39;49m\u001b[38;5;124;43mgpt-3.5-turbo\u001b[39;49m\u001b[38;5;124;43m\"\u001b[39;49m\u001b[43m,\u001b[49m\u001b[43m  \u001b[49m\u001b[38;5;66;43;03m# модель для выбора\u001b[39;49;00m\n\u001b[1;32m     17\u001b[0m \u001b[43m    \u001b[49m\u001b[43mmessages\u001b[49m\u001b[38;5;241;43m=\u001b[39;49m\u001b[43mmessages\u001b[49m\u001b[43m,\u001b[49m\u001b[43m  \u001b[49m\u001b[38;5;66;43;03m# сообщение\u001b[39;49;00m\n\u001b[1;32m     18\u001b[0m \u001b[43m    \u001b[49m\u001b[43mtemperature\u001b[49m\u001b[38;5;241;43m=\u001b[39;49m\u001b[38;5;241;43m0\u001b[39;49m\u001b[43m,\u001b[49m\u001b[43m  \u001b[49m\u001b[38;5;66;43;03m# степень креативности ответа\u001b[39;49;00m\n\u001b[1;32m     19\u001b[0m \u001b[43m)\u001b[49m\n\u001b[1;32m     21\u001b[0m \u001b[38;5;28mprint\u001b[39m(chat_completion\u001b[38;5;241m.\u001b[39mchoices[\u001b[38;5;241m0\u001b[39m]\u001b[38;5;241m.\u001b[39mmessage\u001b[38;5;241m.\u001b[39mcontent)\n",
            "File \u001b[0;32m~/Desktop/fun/LLM/venv/lib/python3.11/site-packages/openai/_utils/_utils.py:275\u001b[0m, in \u001b[0;36mrequired_args.<locals>.inner.<locals>.wrapper\u001b[0;34m(*args, **kwargs)\u001b[0m\n\u001b[1;32m    273\u001b[0m             msg \u001b[38;5;241m=\u001b[39m \u001b[38;5;124mf\u001b[39m\u001b[38;5;124m\"\u001b[39m\u001b[38;5;124mMissing required argument: \u001b[39m\u001b[38;5;132;01m{\u001b[39;00mquote(missing[\u001b[38;5;241m0\u001b[39m])\u001b[38;5;132;01m}\u001b[39;00m\u001b[38;5;124m\"\u001b[39m\n\u001b[1;32m    274\u001b[0m     \u001b[38;5;28;01mraise\u001b[39;00m \u001b[38;5;167;01mTypeError\u001b[39;00m(msg)\n\u001b[0;32m--> 275\u001b[0m \u001b[38;5;28;01mreturn\u001b[39;00m \u001b[43mfunc\u001b[49m\u001b[43m(\u001b[49m\u001b[38;5;241;43m*\u001b[39;49m\u001b[43margs\u001b[49m\u001b[43m,\u001b[49m\u001b[43m \u001b[49m\u001b[38;5;241;43m*\u001b[39;49m\u001b[38;5;241;43m*\u001b[39;49m\u001b[43mkwargs\u001b[49m\u001b[43m)\u001b[49m\n",
            "File \u001b[0;32m~/Desktop/fun/LLM/venv/lib/python3.11/site-packages/openai/resources/chat/completions.py:859\u001b[0m, in \u001b[0;36mCompletions.create\u001b[0;34m(self, messages, model, audio, frequency_penalty, function_call, functions, logit_bias, logprobs, max_completion_tokens, max_tokens, metadata, modalities, n, parallel_tool_calls, prediction, presence_penalty, reasoning_effort, response_format, seed, service_tier, stop, store, stream, stream_options, temperature, tool_choice, tools, top_logprobs, top_p, user, extra_headers, extra_query, extra_body, timeout)\u001b[0m\n\u001b[1;32m    817\u001b[0m \u001b[38;5;129m@required_args\u001b[39m([\u001b[38;5;124m\"\u001b[39m\u001b[38;5;124mmessages\u001b[39m\u001b[38;5;124m\"\u001b[39m, \u001b[38;5;124m\"\u001b[39m\u001b[38;5;124mmodel\u001b[39m\u001b[38;5;124m\"\u001b[39m], [\u001b[38;5;124m\"\u001b[39m\u001b[38;5;124mmessages\u001b[39m\u001b[38;5;124m\"\u001b[39m, \u001b[38;5;124m\"\u001b[39m\u001b[38;5;124mmodel\u001b[39m\u001b[38;5;124m\"\u001b[39m, \u001b[38;5;124m\"\u001b[39m\u001b[38;5;124mstream\u001b[39m\u001b[38;5;124m\"\u001b[39m])\n\u001b[1;32m    818\u001b[0m \u001b[38;5;28;01mdef\u001b[39;00m \u001b[38;5;21mcreate\u001b[39m(\n\u001b[1;32m    819\u001b[0m     \u001b[38;5;28mself\u001b[39m,\n\u001b[0;32m   (...)\u001b[0m\n\u001b[1;32m    856\u001b[0m     timeout: \u001b[38;5;28mfloat\u001b[39m \u001b[38;5;241m|\u001b[39m httpx\u001b[38;5;241m.\u001b[39mTimeout \u001b[38;5;241m|\u001b[39m \u001b[38;5;28;01mNone\u001b[39;00m \u001b[38;5;241m|\u001b[39m NotGiven \u001b[38;5;241m=\u001b[39m NOT_GIVEN,\n\u001b[1;32m    857\u001b[0m ) \u001b[38;5;241m-\u001b[39m\u001b[38;5;241m>\u001b[39m ChatCompletion \u001b[38;5;241m|\u001b[39m Stream[ChatCompletionChunk]:\n\u001b[1;32m    858\u001b[0m     validate_response_format(response_format)\n\u001b[0;32m--> 859\u001b[0m     \u001b[38;5;28;01mreturn\u001b[39;00m \u001b[38;5;28;43mself\u001b[39;49m\u001b[38;5;241;43m.\u001b[39;49m\u001b[43m_post\u001b[49m\u001b[43m(\u001b[49m\n\u001b[1;32m    860\u001b[0m \u001b[43m        \u001b[49m\u001b[38;5;124;43m\"\u001b[39;49m\u001b[38;5;124;43m/chat/completions\u001b[39;49m\u001b[38;5;124;43m\"\u001b[39;49m\u001b[43m,\u001b[49m\n\u001b[1;32m    861\u001b[0m \u001b[43m        \u001b[49m\u001b[43mbody\u001b[49m\u001b[38;5;241;43m=\u001b[39;49m\u001b[43mmaybe_transform\u001b[49m\u001b[43m(\u001b[49m\n\u001b[1;32m    862\u001b[0m \u001b[43m            \u001b[49m\u001b[43m{\u001b[49m\n\u001b[1;32m    863\u001b[0m \u001b[43m                \u001b[49m\u001b[38;5;124;43m\"\u001b[39;49m\u001b[38;5;124;43mmessages\u001b[39;49m\u001b[38;5;124;43m\"\u001b[39;49m\u001b[43m:\u001b[49m\u001b[43m \u001b[49m\u001b[43mmessages\u001b[49m\u001b[43m,\u001b[49m\n\u001b[1;32m    864\u001b[0m \u001b[43m                \u001b[49m\u001b[38;5;124;43m\"\u001b[39;49m\u001b[38;5;124;43mmodel\u001b[39;49m\u001b[38;5;124;43m\"\u001b[39;49m\u001b[43m:\u001b[49m\u001b[43m \u001b[49m\u001b[43mmodel\u001b[49m\u001b[43m,\u001b[49m\n\u001b[1;32m    865\u001b[0m \u001b[43m                \u001b[49m\u001b[38;5;124;43m\"\u001b[39;49m\u001b[38;5;124;43maudio\u001b[39;49m\u001b[38;5;124;43m\"\u001b[39;49m\u001b[43m:\u001b[49m\u001b[43m \u001b[49m\u001b[43maudio\u001b[49m\u001b[43m,\u001b[49m\n\u001b[1;32m    866\u001b[0m \u001b[43m                \u001b[49m\u001b[38;5;124;43m\"\u001b[39;49m\u001b[38;5;124;43mfrequency_penalty\u001b[39;49m\u001b[38;5;124;43m\"\u001b[39;49m\u001b[43m:\u001b[49m\u001b[43m \u001b[49m\u001b[43mfrequency_penalty\u001b[49m\u001b[43m,\u001b[49m\n\u001b[1;32m    867\u001b[0m \u001b[43m                \u001b[49m\u001b[38;5;124;43m\"\u001b[39;49m\u001b[38;5;124;43mfunction_call\u001b[39;49m\u001b[38;5;124;43m\"\u001b[39;49m\u001b[43m:\u001b[49m\u001b[43m \u001b[49m\u001b[43mfunction_call\u001b[49m\u001b[43m,\u001b[49m\n\u001b[1;32m    868\u001b[0m \u001b[43m                \u001b[49m\u001b[38;5;124;43m\"\u001b[39;49m\u001b[38;5;124;43mfunctions\u001b[39;49m\u001b[38;5;124;43m\"\u001b[39;49m\u001b[43m:\u001b[49m\u001b[43m \u001b[49m\u001b[43mfunctions\u001b[49m\u001b[43m,\u001b[49m\n\u001b[1;32m    869\u001b[0m \u001b[43m                \u001b[49m\u001b[38;5;124;43m\"\u001b[39;49m\u001b[38;5;124;43mlogit_bias\u001b[39;49m\u001b[38;5;124;43m\"\u001b[39;49m\u001b[43m:\u001b[49m\u001b[43m \u001b[49m\u001b[43mlogit_bias\u001b[49m\u001b[43m,\u001b[49m\n\u001b[1;32m    870\u001b[0m \u001b[43m                \u001b[49m\u001b[38;5;124;43m\"\u001b[39;49m\u001b[38;5;124;43mlogprobs\u001b[39;49m\u001b[38;5;124;43m\"\u001b[39;49m\u001b[43m:\u001b[49m\u001b[43m \u001b[49m\u001b[43mlogprobs\u001b[49m\u001b[43m,\u001b[49m\n\u001b[1;32m    871\u001b[0m \u001b[43m                \u001b[49m\u001b[38;5;124;43m\"\u001b[39;49m\u001b[38;5;124;43mmax_completion_tokens\u001b[39;49m\u001b[38;5;124;43m\"\u001b[39;49m\u001b[43m:\u001b[49m\u001b[43m \u001b[49m\u001b[43mmax_completion_tokens\u001b[49m\u001b[43m,\u001b[49m\n\u001b[1;32m    872\u001b[0m \u001b[43m                \u001b[49m\u001b[38;5;124;43m\"\u001b[39;49m\u001b[38;5;124;43mmax_tokens\u001b[39;49m\u001b[38;5;124;43m\"\u001b[39;49m\u001b[43m:\u001b[49m\u001b[43m \u001b[49m\u001b[43mmax_tokens\u001b[49m\u001b[43m,\u001b[49m\n\u001b[1;32m    873\u001b[0m \u001b[43m                \u001b[49m\u001b[38;5;124;43m\"\u001b[39;49m\u001b[38;5;124;43mmetadata\u001b[39;49m\u001b[38;5;124;43m\"\u001b[39;49m\u001b[43m:\u001b[49m\u001b[43m \u001b[49m\u001b[43mmetadata\u001b[49m\u001b[43m,\u001b[49m\n\u001b[1;32m    874\u001b[0m \u001b[43m                \u001b[49m\u001b[38;5;124;43m\"\u001b[39;49m\u001b[38;5;124;43mmodalities\u001b[39;49m\u001b[38;5;124;43m\"\u001b[39;49m\u001b[43m:\u001b[49m\u001b[43m \u001b[49m\u001b[43mmodalities\u001b[49m\u001b[43m,\u001b[49m\n\u001b[1;32m    875\u001b[0m \u001b[43m                \u001b[49m\u001b[38;5;124;43m\"\u001b[39;49m\u001b[38;5;124;43mn\u001b[39;49m\u001b[38;5;124;43m\"\u001b[39;49m\u001b[43m:\u001b[49m\u001b[43m \u001b[49m\u001b[43mn\u001b[49m\u001b[43m,\u001b[49m\n\u001b[1;32m    876\u001b[0m \u001b[43m                \u001b[49m\u001b[38;5;124;43m\"\u001b[39;49m\u001b[38;5;124;43mparallel_tool_calls\u001b[39;49m\u001b[38;5;124;43m\"\u001b[39;49m\u001b[43m:\u001b[49m\u001b[43m \u001b[49m\u001b[43mparallel_tool_calls\u001b[49m\u001b[43m,\u001b[49m\n\u001b[1;32m    877\u001b[0m \u001b[43m                \u001b[49m\u001b[38;5;124;43m\"\u001b[39;49m\u001b[38;5;124;43mprediction\u001b[39;49m\u001b[38;5;124;43m\"\u001b[39;49m\u001b[43m:\u001b[49m\u001b[43m \u001b[49m\u001b[43mprediction\u001b[49m\u001b[43m,\u001b[49m\n\u001b[1;32m    878\u001b[0m \u001b[43m                \u001b[49m\u001b[38;5;124;43m\"\u001b[39;49m\u001b[38;5;124;43mpresence_penalty\u001b[39;49m\u001b[38;5;124;43m\"\u001b[39;49m\u001b[43m:\u001b[49m\u001b[43m \u001b[49m\u001b[43mpresence_penalty\u001b[49m\u001b[43m,\u001b[49m\n\u001b[1;32m    879\u001b[0m \u001b[43m                \u001b[49m\u001b[38;5;124;43m\"\u001b[39;49m\u001b[38;5;124;43mreasoning_effort\u001b[39;49m\u001b[38;5;124;43m\"\u001b[39;49m\u001b[43m:\u001b[49m\u001b[43m \u001b[49m\u001b[43mreasoning_effort\u001b[49m\u001b[43m,\u001b[49m\n\u001b[1;32m    880\u001b[0m \u001b[43m                \u001b[49m\u001b[38;5;124;43m\"\u001b[39;49m\u001b[38;5;124;43mresponse_format\u001b[39;49m\u001b[38;5;124;43m\"\u001b[39;49m\u001b[43m:\u001b[49m\u001b[43m \u001b[49m\u001b[43mresponse_format\u001b[49m\u001b[43m,\u001b[49m\n\u001b[1;32m    881\u001b[0m \u001b[43m                \u001b[49m\u001b[38;5;124;43m\"\u001b[39;49m\u001b[38;5;124;43mseed\u001b[39;49m\u001b[38;5;124;43m\"\u001b[39;49m\u001b[43m:\u001b[49m\u001b[43m \u001b[49m\u001b[43mseed\u001b[49m\u001b[43m,\u001b[49m\n\u001b[1;32m    882\u001b[0m \u001b[43m                \u001b[49m\u001b[38;5;124;43m\"\u001b[39;49m\u001b[38;5;124;43mservice_tier\u001b[39;49m\u001b[38;5;124;43m\"\u001b[39;49m\u001b[43m:\u001b[49m\u001b[43m \u001b[49m\u001b[43mservice_tier\u001b[49m\u001b[43m,\u001b[49m\n\u001b[1;32m    883\u001b[0m \u001b[43m                \u001b[49m\u001b[38;5;124;43m\"\u001b[39;49m\u001b[38;5;124;43mstop\u001b[39;49m\u001b[38;5;124;43m\"\u001b[39;49m\u001b[43m:\u001b[49m\u001b[43m \u001b[49m\u001b[43mstop\u001b[49m\u001b[43m,\u001b[49m\n\u001b[1;32m    884\u001b[0m \u001b[43m                \u001b[49m\u001b[38;5;124;43m\"\u001b[39;49m\u001b[38;5;124;43mstore\u001b[39;49m\u001b[38;5;124;43m\"\u001b[39;49m\u001b[43m:\u001b[49m\u001b[43m \u001b[49m\u001b[43mstore\u001b[49m\u001b[43m,\u001b[49m\n\u001b[1;32m    885\u001b[0m \u001b[43m                \u001b[49m\u001b[38;5;124;43m\"\u001b[39;49m\u001b[38;5;124;43mstream\u001b[39;49m\u001b[38;5;124;43m\"\u001b[39;49m\u001b[43m:\u001b[49m\u001b[43m \u001b[49m\u001b[43mstream\u001b[49m\u001b[43m,\u001b[49m\n\u001b[1;32m    886\u001b[0m \u001b[43m                \u001b[49m\u001b[38;5;124;43m\"\u001b[39;49m\u001b[38;5;124;43mstream_options\u001b[39;49m\u001b[38;5;124;43m\"\u001b[39;49m\u001b[43m:\u001b[49m\u001b[43m \u001b[49m\u001b[43mstream_options\u001b[49m\u001b[43m,\u001b[49m\n\u001b[1;32m    887\u001b[0m \u001b[43m                \u001b[49m\u001b[38;5;124;43m\"\u001b[39;49m\u001b[38;5;124;43mtemperature\u001b[39;49m\u001b[38;5;124;43m\"\u001b[39;49m\u001b[43m:\u001b[49m\u001b[43m \u001b[49m\u001b[43mtemperature\u001b[49m\u001b[43m,\u001b[49m\n\u001b[1;32m    888\u001b[0m \u001b[43m                \u001b[49m\u001b[38;5;124;43m\"\u001b[39;49m\u001b[38;5;124;43mtool_choice\u001b[39;49m\u001b[38;5;124;43m\"\u001b[39;49m\u001b[43m:\u001b[49m\u001b[43m \u001b[49m\u001b[43mtool_choice\u001b[49m\u001b[43m,\u001b[49m\n\u001b[1;32m    889\u001b[0m \u001b[43m                \u001b[49m\u001b[38;5;124;43m\"\u001b[39;49m\u001b[38;5;124;43mtools\u001b[39;49m\u001b[38;5;124;43m\"\u001b[39;49m\u001b[43m:\u001b[49m\u001b[43m \u001b[49m\u001b[43mtools\u001b[49m\u001b[43m,\u001b[49m\n\u001b[1;32m    890\u001b[0m \u001b[43m                \u001b[49m\u001b[38;5;124;43m\"\u001b[39;49m\u001b[38;5;124;43mtop_logprobs\u001b[39;49m\u001b[38;5;124;43m\"\u001b[39;49m\u001b[43m:\u001b[49m\u001b[43m \u001b[49m\u001b[43mtop_logprobs\u001b[49m\u001b[43m,\u001b[49m\n\u001b[1;32m    891\u001b[0m \u001b[43m                \u001b[49m\u001b[38;5;124;43m\"\u001b[39;49m\u001b[38;5;124;43mtop_p\u001b[39;49m\u001b[38;5;124;43m\"\u001b[39;49m\u001b[43m:\u001b[49m\u001b[43m \u001b[49m\u001b[43mtop_p\u001b[49m\u001b[43m,\u001b[49m\n\u001b[1;32m    892\u001b[0m \u001b[43m                \u001b[49m\u001b[38;5;124;43m\"\u001b[39;49m\u001b[38;5;124;43muser\u001b[39;49m\u001b[38;5;124;43m\"\u001b[39;49m\u001b[43m:\u001b[49m\u001b[43m \u001b[49m\u001b[43muser\u001b[49m\u001b[43m,\u001b[49m\n\u001b[1;32m    893\u001b[0m \u001b[43m            \u001b[49m\u001b[43m}\u001b[49m\u001b[43m,\u001b[49m\n\u001b[1;32m    894\u001b[0m \u001b[43m            \u001b[49m\u001b[43mcompletion_create_params\u001b[49m\u001b[38;5;241;43m.\u001b[39;49m\u001b[43mCompletionCreateParams\u001b[49m\u001b[43m,\u001b[49m\n\u001b[1;32m    895\u001b[0m \u001b[43m        \u001b[49m\u001b[43m)\u001b[49m\u001b[43m,\u001b[49m\n\u001b[1;32m    896\u001b[0m \u001b[43m        \u001b[49m\u001b[43moptions\u001b[49m\u001b[38;5;241;43m=\u001b[39;49m\u001b[43mmake_request_options\u001b[49m\u001b[43m(\u001b[49m\n\u001b[1;32m    897\u001b[0m \u001b[43m            \u001b[49m\u001b[43mextra_headers\u001b[49m\u001b[38;5;241;43m=\u001b[39;49m\u001b[43mextra_headers\u001b[49m\u001b[43m,\u001b[49m\u001b[43m \u001b[49m\u001b[43mextra_query\u001b[49m\u001b[38;5;241;43m=\u001b[39;49m\u001b[43mextra_query\u001b[49m\u001b[43m,\u001b[49m\u001b[43m \u001b[49m\u001b[43mextra_body\u001b[49m\u001b[38;5;241;43m=\u001b[39;49m\u001b[43mextra_body\u001b[49m\u001b[43m,\u001b[49m\u001b[43m \u001b[49m\u001b[43mtimeout\u001b[49m\u001b[38;5;241;43m=\u001b[39;49m\u001b[43mtimeout\u001b[49m\n\u001b[1;32m    898\u001b[0m \u001b[43m        \u001b[49m\u001b[43m)\u001b[49m\u001b[43m,\u001b[49m\n\u001b[1;32m    899\u001b[0m \u001b[43m        \u001b[49m\u001b[43mcast_to\u001b[49m\u001b[38;5;241;43m=\u001b[39;49m\u001b[43mChatCompletion\u001b[49m\u001b[43m,\u001b[49m\n\u001b[1;32m    900\u001b[0m \u001b[43m        \u001b[49m\u001b[43mstream\u001b[49m\u001b[38;5;241;43m=\u001b[39;49m\u001b[43mstream\u001b[49m\u001b[43m \u001b[49m\u001b[38;5;129;43;01mor\u001b[39;49;00m\u001b[43m \u001b[49m\u001b[38;5;28;43;01mFalse\u001b[39;49;00m\u001b[43m,\u001b[49m\n\u001b[1;32m    901\u001b[0m \u001b[43m        \u001b[49m\u001b[43mstream_cls\u001b[49m\u001b[38;5;241;43m=\u001b[39;49m\u001b[43mStream\u001b[49m\u001b[43m[\u001b[49m\u001b[43mChatCompletionChunk\u001b[49m\u001b[43m]\u001b[49m\u001b[43m,\u001b[49m\n\u001b[1;32m    902\u001b[0m \u001b[43m    \u001b[49m\u001b[43m)\u001b[49m\n",
            "File \u001b[0;32m~/Desktop/fun/LLM/venv/lib/python3.11/site-packages/openai/_base_client.py:1280\u001b[0m, in \u001b[0;36mSyncAPIClient.post\u001b[0;34m(self, path, cast_to, body, options, files, stream, stream_cls)\u001b[0m\n\u001b[1;32m   1266\u001b[0m \u001b[38;5;28;01mdef\u001b[39;00m \u001b[38;5;21mpost\u001b[39m(\n\u001b[1;32m   1267\u001b[0m     \u001b[38;5;28mself\u001b[39m,\n\u001b[1;32m   1268\u001b[0m     path: \u001b[38;5;28mstr\u001b[39m,\n\u001b[0;32m   (...)\u001b[0m\n\u001b[1;32m   1275\u001b[0m     stream_cls: \u001b[38;5;28mtype\u001b[39m[_StreamT] \u001b[38;5;241m|\u001b[39m \u001b[38;5;28;01mNone\u001b[39;00m \u001b[38;5;241m=\u001b[39m \u001b[38;5;28;01mNone\u001b[39;00m,\n\u001b[1;32m   1276\u001b[0m ) \u001b[38;5;241m-\u001b[39m\u001b[38;5;241m>\u001b[39m ResponseT \u001b[38;5;241m|\u001b[39m _StreamT:\n\u001b[1;32m   1277\u001b[0m     opts \u001b[38;5;241m=\u001b[39m FinalRequestOptions\u001b[38;5;241m.\u001b[39mconstruct(\n\u001b[1;32m   1278\u001b[0m         method\u001b[38;5;241m=\u001b[39m\u001b[38;5;124m\"\u001b[39m\u001b[38;5;124mpost\u001b[39m\u001b[38;5;124m\"\u001b[39m, url\u001b[38;5;241m=\u001b[39mpath, json_data\u001b[38;5;241m=\u001b[39mbody, files\u001b[38;5;241m=\u001b[39mto_httpx_files(files), \u001b[38;5;241m*\u001b[39m\u001b[38;5;241m*\u001b[39moptions\n\u001b[1;32m   1279\u001b[0m     )\n\u001b[0;32m-> 1280\u001b[0m     \u001b[38;5;28;01mreturn\u001b[39;00m cast(ResponseT, \u001b[38;5;28;43mself\u001b[39;49m\u001b[38;5;241;43m.\u001b[39;49m\u001b[43mrequest\u001b[49m\u001b[43m(\u001b[49m\u001b[43mcast_to\u001b[49m\u001b[43m,\u001b[49m\u001b[43m \u001b[49m\u001b[43mopts\u001b[49m\u001b[43m,\u001b[49m\u001b[43m \u001b[49m\u001b[43mstream\u001b[49m\u001b[38;5;241;43m=\u001b[39;49m\u001b[43mstream\u001b[49m\u001b[43m,\u001b[49m\u001b[43m \u001b[49m\u001b[43mstream_cls\u001b[49m\u001b[38;5;241;43m=\u001b[39;49m\u001b[43mstream_cls\u001b[49m\u001b[43m)\u001b[49m)\n",
            "File \u001b[0;32m~/Desktop/fun/LLM/venv/lib/python3.11/site-packages/openai/_base_client.py:957\u001b[0m, in \u001b[0;36mSyncAPIClient.request\u001b[0;34m(self, cast_to, options, remaining_retries, stream, stream_cls)\u001b[0m\n\u001b[1;32m    954\u001b[0m \u001b[38;5;28;01melse\u001b[39;00m:\n\u001b[1;32m    955\u001b[0m     retries_taken \u001b[38;5;241m=\u001b[39m \u001b[38;5;241m0\u001b[39m\n\u001b[0;32m--> 957\u001b[0m \u001b[38;5;28;01mreturn\u001b[39;00m \u001b[38;5;28;43mself\u001b[39;49m\u001b[38;5;241;43m.\u001b[39;49m\u001b[43m_request\u001b[49m\u001b[43m(\u001b[49m\n\u001b[1;32m    958\u001b[0m \u001b[43m    \u001b[49m\u001b[43mcast_to\u001b[49m\u001b[38;5;241;43m=\u001b[39;49m\u001b[43mcast_to\u001b[49m\u001b[43m,\u001b[49m\n\u001b[1;32m    959\u001b[0m \u001b[43m    \u001b[49m\u001b[43moptions\u001b[49m\u001b[38;5;241;43m=\u001b[39;49m\u001b[43moptions\u001b[49m\u001b[43m,\u001b[49m\n\u001b[1;32m    960\u001b[0m \u001b[43m    \u001b[49m\u001b[43mstream\u001b[49m\u001b[38;5;241;43m=\u001b[39;49m\u001b[43mstream\u001b[49m\u001b[43m,\u001b[49m\n\u001b[1;32m    961\u001b[0m \u001b[43m    \u001b[49m\u001b[43mstream_cls\u001b[49m\u001b[38;5;241;43m=\u001b[39;49m\u001b[43mstream_cls\u001b[49m\u001b[43m,\u001b[49m\n\u001b[1;32m    962\u001b[0m \u001b[43m    \u001b[49m\u001b[43mretries_taken\u001b[49m\u001b[38;5;241;43m=\u001b[39;49m\u001b[43mretries_taken\u001b[49m\u001b[43m,\u001b[49m\n\u001b[1;32m    963\u001b[0m \u001b[43m\u001b[49m\u001b[43m)\u001b[49m\n",
            "File \u001b[0;32m~/Desktop/fun/LLM/venv/lib/python3.11/site-packages/openai/_base_client.py:1046\u001b[0m, in \u001b[0;36mSyncAPIClient._request\u001b[0;34m(self, cast_to, options, retries_taken, stream, stream_cls)\u001b[0m\n\u001b[1;32m   1044\u001b[0m \u001b[38;5;28;01mif\u001b[39;00m remaining_retries \u001b[38;5;241m>\u001b[39m \u001b[38;5;241m0\u001b[39m \u001b[38;5;129;01mand\u001b[39;00m \u001b[38;5;28mself\u001b[39m\u001b[38;5;241m.\u001b[39m_should_retry(err\u001b[38;5;241m.\u001b[39mresponse):\n\u001b[1;32m   1045\u001b[0m     err\u001b[38;5;241m.\u001b[39mresponse\u001b[38;5;241m.\u001b[39mclose()\n\u001b[0;32m-> 1046\u001b[0m     \u001b[38;5;28;01mreturn\u001b[39;00m \u001b[38;5;28;43mself\u001b[39;49m\u001b[38;5;241;43m.\u001b[39;49m\u001b[43m_retry_request\u001b[49m\u001b[43m(\u001b[49m\n\u001b[1;32m   1047\u001b[0m \u001b[43m        \u001b[49m\u001b[43minput_options\u001b[49m\u001b[43m,\u001b[49m\n\u001b[1;32m   1048\u001b[0m \u001b[43m        \u001b[49m\u001b[43mcast_to\u001b[49m\u001b[43m,\u001b[49m\n\u001b[1;32m   1049\u001b[0m \u001b[43m        \u001b[49m\u001b[43mretries_taken\u001b[49m\u001b[38;5;241;43m=\u001b[39;49m\u001b[43mretries_taken\u001b[49m\u001b[43m,\u001b[49m\n\u001b[1;32m   1050\u001b[0m \u001b[43m        \u001b[49m\u001b[43mresponse_headers\u001b[49m\u001b[38;5;241;43m=\u001b[39;49m\u001b[43merr\u001b[49m\u001b[38;5;241;43m.\u001b[39;49m\u001b[43mresponse\u001b[49m\u001b[38;5;241;43m.\u001b[39;49m\u001b[43mheaders\u001b[49m\u001b[43m,\u001b[49m\n\u001b[1;32m   1051\u001b[0m \u001b[43m        \u001b[49m\u001b[43mstream\u001b[49m\u001b[38;5;241;43m=\u001b[39;49m\u001b[43mstream\u001b[49m\u001b[43m,\u001b[49m\n\u001b[1;32m   1052\u001b[0m \u001b[43m        \u001b[49m\u001b[43mstream_cls\u001b[49m\u001b[38;5;241;43m=\u001b[39;49m\u001b[43mstream_cls\u001b[49m\u001b[43m,\u001b[49m\n\u001b[1;32m   1053\u001b[0m \u001b[43m    \u001b[49m\u001b[43m)\u001b[49m\n\u001b[1;32m   1055\u001b[0m \u001b[38;5;66;03m# If the response is streamed then we need to explicitly read the response\u001b[39;00m\n\u001b[1;32m   1056\u001b[0m \u001b[38;5;66;03m# to completion before attempting to access the response text.\u001b[39;00m\n\u001b[1;32m   1057\u001b[0m \u001b[38;5;28;01mif\u001b[39;00m \u001b[38;5;129;01mnot\u001b[39;00m err\u001b[38;5;241m.\u001b[39mresponse\u001b[38;5;241m.\u001b[39mis_closed:\n",
            "File \u001b[0;32m~/Desktop/fun/LLM/venv/lib/python3.11/site-packages/openai/_base_client.py:1095\u001b[0m, in \u001b[0;36mSyncAPIClient._retry_request\u001b[0;34m(self, options, cast_to, retries_taken, response_headers, stream, stream_cls)\u001b[0m\n\u001b[1;32m   1091\u001b[0m \u001b[38;5;66;03m# In a synchronous context we are blocking the entire thread. Up to the library user to run the client in a\u001b[39;00m\n\u001b[1;32m   1092\u001b[0m \u001b[38;5;66;03m# different thread if necessary.\u001b[39;00m\n\u001b[1;32m   1093\u001b[0m time\u001b[38;5;241m.\u001b[39msleep(timeout)\n\u001b[0;32m-> 1095\u001b[0m \u001b[38;5;28;01mreturn\u001b[39;00m \u001b[38;5;28;43mself\u001b[39;49m\u001b[38;5;241;43m.\u001b[39;49m\u001b[43m_request\u001b[49m\u001b[43m(\u001b[49m\n\u001b[1;32m   1096\u001b[0m \u001b[43m    \u001b[49m\u001b[43moptions\u001b[49m\u001b[38;5;241;43m=\u001b[39;49m\u001b[43moptions\u001b[49m\u001b[43m,\u001b[49m\n\u001b[1;32m   1097\u001b[0m \u001b[43m    \u001b[49m\u001b[43mcast_to\u001b[49m\u001b[38;5;241;43m=\u001b[39;49m\u001b[43mcast_to\u001b[49m\u001b[43m,\u001b[49m\n\u001b[1;32m   1098\u001b[0m \u001b[43m    \u001b[49m\u001b[43mretries_taken\u001b[49m\u001b[38;5;241;43m=\u001b[39;49m\u001b[43mretries_taken\u001b[49m\u001b[43m \u001b[49m\u001b[38;5;241;43m+\u001b[39;49m\u001b[43m \u001b[49m\u001b[38;5;241;43m1\u001b[39;49m\u001b[43m,\u001b[49m\n\u001b[1;32m   1099\u001b[0m \u001b[43m    \u001b[49m\u001b[43mstream\u001b[49m\u001b[38;5;241;43m=\u001b[39;49m\u001b[43mstream\u001b[49m\u001b[43m,\u001b[49m\n\u001b[1;32m   1100\u001b[0m \u001b[43m    \u001b[49m\u001b[43mstream_cls\u001b[49m\u001b[38;5;241;43m=\u001b[39;49m\u001b[43mstream_cls\u001b[49m\u001b[43m,\u001b[49m\n\u001b[1;32m   1101\u001b[0m \u001b[43m\u001b[49m\u001b[43m)\u001b[49m\n",
            "File \u001b[0;32m~/Desktop/fun/LLM/venv/lib/python3.11/site-packages/openai/_base_client.py:1046\u001b[0m, in \u001b[0;36mSyncAPIClient._request\u001b[0;34m(self, cast_to, options, retries_taken, stream, stream_cls)\u001b[0m\n\u001b[1;32m   1044\u001b[0m \u001b[38;5;28;01mif\u001b[39;00m remaining_retries \u001b[38;5;241m>\u001b[39m \u001b[38;5;241m0\u001b[39m \u001b[38;5;129;01mand\u001b[39;00m \u001b[38;5;28mself\u001b[39m\u001b[38;5;241m.\u001b[39m_should_retry(err\u001b[38;5;241m.\u001b[39mresponse):\n\u001b[1;32m   1045\u001b[0m     err\u001b[38;5;241m.\u001b[39mresponse\u001b[38;5;241m.\u001b[39mclose()\n\u001b[0;32m-> 1046\u001b[0m     \u001b[38;5;28;01mreturn\u001b[39;00m \u001b[38;5;28;43mself\u001b[39;49m\u001b[38;5;241;43m.\u001b[39;49m\u001b[43m_retry_request\u001b[49m\u001b[43m(\u001b[49m\n\u001b[1;32m   1047\u001b[0m \u001b[43m        \u001b[49m\u001b[43minput_options\u001b[49m\u001b[43m,\u001b[49m\n\u001b[1;32m   1048\u001b[0m \u001b[43m        \u001b[49m\u001b[43mcast_to\u001b[49m\u001b[43m,\u001b[49m\n\u001b[1;32m   1049\u001b[0m \u001b[43m        \u001b[49m\u001b[43mretries_taken\u001b[49m\u001b[38;5;241;43m=\u001b[39;49m\u001b[43mretries_taken\u001b[49m\u001b[43m,\u001b[49m\n\u001b[1;32m   1050\u001b[0m \u001b[43m        \u001b[49m\u001b[43mresponse_headers\u001b[49m\u001b[38;5;241;43m=\u001b[39;49m\u001b[43merr\u001b[49m\u001b[38;5;241;43m.\u001b[39;49m\u001b[43mresponse\u001b[49m\u001b[38;5;241;43m.\u001b[39;49m\u001b[43mheaders\u001b[49m\u001b[43m,\u001b[49m\n\u001b[1;32m   1051\u001b[0m \u001b[43m        \u001b[49m\u001b[43mstream\u001b[49m\u001b[38;5;241;43m=\u001b[39;49m\u001b[43mstream\u001b[49m\u001b[43m,\u001b[49m\n\u001b[1;32m   1052\u001b[0m \u001b[43m        \u001b[49m\u001b[43mstream_cls\u001b[49m\u001b[38;5;241;43m=\u001b[39;49m\u001b[43mstream_cls\u001b[49m\u001b[43m,\u001b[49m\n\u001b[1;32m   1053\u001b[0m \u001b[43m    \u001b[49m\u001b[43m)\u001b[49m\n\u001b[1;32m   1055\u001b[0m \u001b[38;5;66;03m# If the response is streamed then we need to explicitly read the response\u001b[39;00m\n\u001b[1;32m   1056\u001b[0m \u001b[38;5;66;03m# to completion before attempting to access the response text.\u001b[39;00m\n\u001b[1;32m   1057\u001b[0m \u001b[38;5;28;01mif\u001b[39;00m \u001b[38;5;129;01mnot\u001b[39;00m err\u001b[38;5;241m.\u001b[39mresponse\u001b[38;5;241m.\u001b[39mis_closed:\n",
            "File \u001b[0;32m~/Desktop/fun/LLM/venv/lib/python3.11/site-packages/openai/_base_client.py:1095\u001b[0m, in \u001b[0;36mSyncAPIClient._retry_request\u001b[0;34m(self, options, cast_to, retries_taken, response_headers, stream, stream_cls)\u001b[0m\n\u001b[1;32m   1091\u001b[0m \u001b[38;5;66;03m# In a synchronous context we are blocking the entire thread. Up to the library user to run the client in a\u001b[39;00m\n\u001b[1;32m   1092\u001b[0m \u001b[38;5;66;03m# different thread if necessary.\u001b[39;00m\n\u001b[1;32m   1093\u001b[0m time\u001b[38;5;241m.\u001b[39msleep(timeout)\n\u001b[0;32m-> 1095\u001b[0m \u001b[38;5;28;01mreturn\u001b[39;00m \u001b[38;5;28;43mself\u001b[39;49m\u001b[38;5;241;43m.\u001b[39;49m\u001b[43m_request\u001b[49m\u001b[43m(\u001b[49m\n\u001b[1;32m   1096\u001b[0m \u001b[43m    \u001b[49m\u001b[43moptions\u001b[49m\u001b[38;5;241;43m=\u001b[39;49m\u001b[43moptions\u001b[49m\u001b[43m,\u001b[49m\n\u001b[1;32m   1097\u001b[0m \u001b[43m    \u001b[49m\u001b[43mcast_to\u001b[49m\u001b[38;5;241;43m=\u001b[39;49m\u001b[43mcast_to\u001b[49m\u001b[43m,\u001b[49m\n\u001b[1;32m   1098\u001b[0m \u001b[43m    \u001b[49m\u001b[43mretries_taken\u001b[49m\u001b[38;5;241;43m=\u001b[39;49m\u001b[43mretries_taken\u001b[49m\u001b[43m \u001b[49m\u001b[38;5;241;43m+\u001b[39;49m\u001b[43m \u001b[49m\u001b[38;5;241;43m1\u001b[39;49m\u001b[43m,\u001b[49m\n\u001b[1;32m   1099\u001b[0m \u001b[43m    \u001b[49m\u001b[43mstream\u001b[49m\u001b[38;5;241;43m=\u001b[39;49m\u001b[43mstream\u001b[49m\u001b[43m,\u001b[49m\n\u001b[1;32m   1100\u001b[0m \u001b[43m    \u001b[49m\u001b[43mstream_cls\u001b[49m\u001b[38;5;241;43m=\u001b[39;49m\u001b[43mstream_cls\u001b[49m\u001b[43m,\u001b[49m\n\u001b[1;32m   1101\u001b[0m \u001b[43m\u001b[49m\u001b[43m)\u001b[49m\n",
            "File \u001b[0;32m~/Desktop/fun/LLM/venv/lib/python3.11/site-packages/openai/_base_client.py:1061\u001b[0m, in \u001b[0;36mSyncAPIClient._request\u001b[0;34m(self, cast_to, options, retries_taken, stream, stream_cls)\u001b[0m\n\u001b[1;32m   1058\u001b[0m         err\u001b[38;5;241m.\u001b[39mresponse\u001b[38;5;241m.\u001b[39mread()\n\u001b[1;32m   1060\u001b[0m     log\u001b[38;5;241m.\u001b[39mdebug(\u001b[38;5;124m\"\u001b[39m\u001b[38;5;124mRe-raising status error\u001b[39m\u001b[38;5;124m\"\u001b[39m)\n\u001b[0;32m-> 1061\u001b[0m     \u001b[38;5;28;01mraise\u001b[39;00m \u001b[38;5;28mself\u001b[39m\u001b[38;5;241m.\u001b[39m_make_status_error_from_response(err\u001b[38;5;241m.\u001b[39mresponse) \u001b[38;5;28;01mfrom\u001b[39;00m \u001b[38;5;28;01mNone\u001b[39;00m\n\u001b[1;32m   1063\u001b[0m \u001b[38;5;28;01mreturn\u001b[39;00m \u001b[38;5;28mself\u001b[39m\u001b[38;5;241m.\u001b[39m_process_response(\n\u001b[1;32m   1064\u001b[0m     cast_to\u001b[38;5;241m=\u001b[39mcast_to,\n\u001b[1;32m   1065\u001b[0m     options\u001b[38;5;241m=\u001b[39moptions,\n\u001b[0;32m   (...)\u001b[0m\n\u001b[1;32m   1069\u001b[0m     retries_taken\u001b[38;5;241m=\u001b[39mretries_taken,\n\u001b[1;32m   1070\u001b[0m )\n",
            "\u001b[0;31mRateLimitError\u001b[0m: Error code: 429 - {'error': {'message': 'You exceeded your current quota, please check your plan and billing details. For more information on this error, read the docs: https://platform.openai.com/docs/guides/error-codes/api-errors.', 'type': 'insufficient_quota', 'param': None, 'code': 'insufficient_quota'}}"
          ]
        }
      ],
      "source": [
        "from openai import OpenAI\n",
        "\n",
        "client = OpenAI(\n",
        "    # defaults to os.environ.get(\"OPENAI_API_KEY\")\n",
        "    api_key=openai_api_key,\n",
        ")\n",
        "messages = [\n",
        "    {\n",
        "        \"role\": \"user\",  # Роль - ассистент или юзер\n",
        "        \"content\": \"1+1\",  # Сам промпт для подачи в chatGPT\n",
        "    }\n",
        "]\n",
        "\n",
        "chat_completion = client.chat.completions.create(\n",
        "    max_tokens=100,\n",
        "    model=\"gpt-3.5-turbo\",  # модель для выбора\n",
        "    messages=messages,  # сообщение\n",
        "    temperature=0,  # степень креативности ответа\n",
        ")\n",
        "\n",
        "print(chat_completion.choices[0].message.content)"
      ]
    },
    {
      "cell_type": "markdown",
      "id": "6eabc3ec-019b-459a-a0f5-81b1790e6d99",
      "metadata": {
        "id": "6eabc3ec-019b-459a-a0f5-81b1790e6d99",
        "tags": []
      },
      "source": [
        "<div class=\"alert alert-info\">\n",
        "\n",
        "**😎 Два обязательных параметра**\n",
        "    \n",
        "- `messages` - список объектов сообщений, где каждый объект имеет два обязательных поля:\n",
        "    - `content` - содержимое вашего сообщения\n",
        "    - `role` - роль автора сообщений (`system`, `user` или `assistant`)\n",
        "- `model` - модель, используемая для генерации сообщения (доступные модели на [странице](https://platform.openai.com/docs/models/model-endpoint-compatibility))"
      ]
    },
    {
      "cell_type": "markdown",
      "id": "b10b6897-b57e-44b0-aee5-910ac7808728",
      "metadata": {
        "id": "b10b6897-b57e-44b0-aee5-910ac7808728"
      },
      "source": [
        "<div class=\"alert alert-info\">\n",
        "\n",
        "**🥸 Полезно использовать**\n",
        "    \n",
        "- `max_tokens` - максимальное количество токенов, генерируемых в сообщении\n",
        "- `n` - сколько вариантов ответа должно быть сгенерировано для каждого входного сообщения (по умолчанию 1)\n",
        "- `temperature` - влияет на степень случайности генерации (принимает значения от 0 до 2, по умолчанию 1). Высокое значение температуры делает вероятности всех слов в выводе более равномерными, что приводит к более случайному и разнообразному тексту. При низком значении температуры модель будет склонна генерировать более предсказуемый и детерминированный текст.\n",
        "- `top_p` - тоже влияет на степень случайности генерации. Определяет, какой процент наиболее вероятных слов будет включен в генерацию. Например, если top-p равно 0.8, то модель будет использовать вероятности слов так, чтобы включить в генерацию слова, составляющие 80% верхней части распределения вероятностей.\n",
        "\n",
        "> Рекомендуем изменять либо параметр `temperature`, либо `top_p`, но не оба одновременно"
      ]
    },
    {
      "cell_type": "markdown",
      "id": "bf81b4d3-3557-4197-a689-0cb18b85dabe",
      "metadata": {
        "id": "bf81b4d3-3557-4197-a689-0cb18b85dabe",
        "tags": []
      },
      "source": [
        "```python\n",
        "{\n",
        "  \"id\": \"chatcmpl-8B6YmCk5OiK7Z6RkRrkx72mEQaPGF\",\n",
        "  \"object\": \"chat.completion\",\n",
        "  \"created\": 1697657516,\n",
        "  \"model\": \"gpt-3.5-turbo-0613\",\n",
        "  \"choices\": [\n",
        "    {\n",
        "      \"index\": 0,\n",
        "      \"message\": {\n",
        "        \"role\": \"assistant\",\n",
        "        \"content\": \"1+1 equals 2.\"\n",
        "      },\n",
        "      \"finish_reason\": \"stop\"\n",
        "    }\n",
        "  ],\n",
        "  \"usage\": {\n",
        "    \"prompt_tokens\": 10,\n",
        "    \"completion_tokens\": 7,\n",
        "    \"total_tokens\": 17\n",
        "  }\n",
        "}\n",
        "```"
      ]
    },
    {
      "cell_type": "markdown",
      "id": "2b361c22-a86e-493d-84c0-3d92edf8ffad",
      "metadata": {
        "id": "2b361c22-a86e-493d-84c0-3d92edf8ffad"
      },
      "source": [
        "<div class=\"alert alert-info\">\n",
        "\n",
        "**🧐 А что получается в выводе?**\n",
        "\n",
        "- `id` - уникальный идентификатор запроса\n",
        "- `object` - тип возвращаемого объекта\n",
        "- `created` - время запроса в timestamp-формате\n",
        "- `model` - полное название модели, которая использовалась для генерации ответа\n",
        "- `choices` - список объектов ответа (только один, если не изменяли параметр `n`)\n",
        "    - `index` - индекс ответа в списке вариантов\n",
        "    - `message` - объект сообщения, сгенерированный моделью, содержит `role` и `content`\n",
        "    - `finish_reason` - причина, по которой модель закончила генерировать ответ\n",
        "        - `stop` - достигнута естественная точка остановки\n",
        "        - `length` - достигнуто максимальное количество токенов, указанное в запросе\n",
        "        - `content_filter` - сгенерированный текст содержит нежелательный материал, который нарушает правила\n",
        "- `usage` - количество используемых токенов\n",
        "    - `prompt_tokens` - для распознавания вопроса\n",
        "    - `completition_tokens` - для генерации ответа\n",
        "    - `total_tokens` - для всего запроса (вопрос + ответ)"
      ]
    },
    {
      "cell_type": "markdown",
      "id": "822fb30d-6169-4f8d-a3c7-e1b6cd4431bc",
      "metadata": {
        "id": "822fb30d-6169-4f8d-a3c7-e1b6cd4431bc"
      },
      "source": [
        "<div class=\"alert alert-info\">\n",
        "    \n",
        "✅ __Все!__ Этого уже достаточно, чтобы просто получать ответы от `ChatGPT` кодом. Если для ваших задач этого хватает, то можно использовать уже так. Для удобства, можно еще обернуть дополнительно в функцию."
      ]
    },
    {
      "cell_type": "markdown",
      "id": "11ae714b-ec50-43a0-a9ff-138b8e93e212",
      "metadata": {
        "id": "11ae714b-ec50-43a0-a9ff-138b8e93e212"
      },
      "source": [
        "# <center id=\"part2\"> 🤖 `API` от `СhatGPT` с ключом курса (рекомендуется)"
      ]
    },
    {
      "cell_type": "code",
      "execution_count": null,
      "id": "98b3ddcc-a235-49ab-bce9-5fb7c37fa729",
      "metadata": {
        "id": "98b3ddcc-a235-49ab-bce9-5fb7c37fa729",
        "tags": []
      },
      "outputs": [],
      "source": [
        "# Для работы в колабе и локально загрузите наш скрипт для использования ChatGPT с сервера курса!\n",
        "!wget https://raw.githubusercontent.com/a-milenkin/LLM_practical_course/main/notebooks/utils.py"
      ]
    },
    {
      "cell_type": "code",
      "execution_count": null,
      "id": "be3d6997-3cb2-4b65-be6d-963b126982ff",
      "metadata": {
        "id": "be3d6997-3cb2-4b65-be6d-963b126982ff",
        "outputId": "d2fff4f9-c2a2-4fd3-9813-fa70de3e0b10",
        "tags": []
      },
      "outputs": [
        {
          "name": "stdout",
          "output_type": "stream",
          "text": [
            "Введите ваш API-ключ, который получили в боте ········\n"
          ]
        }
      ],
      "source": [
        "# Ключ следует вводить в появившемся окне после запуска ячейки\n",
        "# Либо раскомментировать строку ниже и записать ключ в переменную (менее безопасно)\n",
        "\n",
        "# course_api_key = 'Введите ваш API-ключ, который получили в боте'\n",
        "course_api_key = getpass(prompt=\"Введите ваш API-ключ, который получили в боте\")"
      ]
    },
    {
      "cell_type": "markdown",
      "id": "95e1e565-64d3-45de-a451-53669a155b17",
      "metadata": {
        "id": "95e1e565-64d3-45de-a451-53669a155b17",
        "tags": []
      },
      "source": [
        "<div class=\"alert alert-info\">\n",
        "\n",
        "**🔑 Получение ключа для использования модели на нашем сервере через API**\n",
        "\n",
        "1. Перейдите по [ссылке](https://t.me/llm_course_bot) в нашего телеграмм-бота.\n",
        "2. Авторизуйтесь, указав в нем свой `Stepik id`, с которым занимаетесь на курсе.\n",
        "3. Получите свой ключ и используйте наш API для прохождения курса.\n",
        "4. Также в боте можно проверить действие вашего ключа, узнать сколько осталось доступных токенов и дату, когда ключ перестанет действовать.\n",
        "\n",
        "> Если возникли трудности, ошибки, вопросы или бот не работает, то смело пишите в чат курса, мы вам поможем."
      ]
    },
    {
      "cell_type": "code",
      "execution_count": null,
      "id": "57a22aa5-bdbd-4e28-8fe6-7abc5521c595",
      "metadata": {
        "id": "57a22aa5-bdbd-4e28-8fe6-7abc5521c595",
        "tags": []
      },
      "outputs": [],
      "source": [
        "from utils import NDTOpenAI\n",
        "\n",
        "client = NDTOpenAI(\n",
        "    api_key=course_api_key,  # ключ для доступа к апи\n",
        ")"
      ]
    },
    {
      "cell_type": "code",
      "execution_count": null,
      "id": "2bd1b68f-43a3-487b-b1d5-85c4625ac752",
      "metadata": {
        "id": "2bd1b68f-43a3-487b-b1d5-85c4625ac752",
        "outputId": "92bdfc46-f124-4edc-f320-32e41ebde9d6",
        "tags": []
      },
      "outputs": [
        {
          "name": "stdout",
          "output_type": "stream",
          "text": [
            "1+1 equals 2.\n"
          ]
        }
      ],
      "source": [
        "prompt = \"1+1\"\n",
        "\n",
        "messages = [\n",
        "    {\n",
        "        \"role\": \"user\",  # Роль - ассистент или юзер\n",
        "        \"content\": prompt ,  # Сам промпт для подачи в ChatGPT\n",
        "    }\n",
        "]\n",
        "\n",
        "response = client.chat.completions.create(\n",
        "    model=\"gpt-3.5-turbo\",  # модель для выбора\n",
        "    messages=messages,  # сообщение\n",
        "    temperature=0,  # степень креативности ответа\n",
        ")\n",
        "\n",
        "print(response.choices[0].message.content)"
      ]
    },
    {
      "cell_type": "markdown",
      "id": "a295e7c8-1e17-4125-9ca5-4a96ad372e62",
      "metadata": {
        "id": "a295e7c8-1e17-4125-9ca5-4a96ad372e62"
      },
      "source": [
        "<div class=\"alert alert-info\">\n",
        "\n",
        "При выполнении функции при помощи `print(response)`, кроме сгенерированного ответа, на экран выводится дополнительная информация:\n",
        "- `prompt_tokens` - сколько токенов ушло на распознование вашего `prompt`\n",
        "- `completion_tokens` - сколько токенов ушло на генерацию ответа\n",
        "- `available_tokens` - сколько у вас осталось доступных токенов (можно также проверить в боте)"
      ]
    },
    {
      "cell_type": "markdown",
      "id": "a34695bf-d5ee-4b74-ab16-f2ba012ccc56",
      "metadata": {
        "id": "a34695bf-d5ee-4b74-ab16-f2ba012ccc56",
        "tags": []
      },
      "source": [
        "# <center id=\"part3\"> 🤐 Чат модели и объект `ChatOpenAI` от `LangChain`\n",
        "#### <center> (Ячейка ниже работает только с официальным ключом от OpenAI)"
      ]
    },
    {
      "cell_type": "markdown",
      "id": "31d2322b-e928-4680-b446-9357a15a5b6f",
      "metadata": {
        "id": "31d2322b-e928-4680-b446-9357a15a5b6f"
      },
      "source": [
        "<div class=\"alert alert-block alert-danger\"> Если хотите использовать официальное <code>API</code> от <code>OpenAI</code> в РФ, то используйте <code>VPN</code> или запускайте код через <code>Google Colab</code>."
      ]
    },
    {
      "cell_type": "code",
      "execution_count": null,
      "id": "2b263a22-3c61-4cdf-9587-63e0f9ab8f06",
      "metadata": {
        "id": "2b263a22-3c61-4cdf-9587-63e0f9ab8f06",
        "outputId": "da12f575-56ca-46e3-9b9f-7408b3bdfd9d"
      },
      "outputs": [
        {
          "name": "stdout",
          "output_type": "stream",
          "text": [
            "Первый полет человека в космос состоялся 12 апреля 1961 года, когда советский космонавт Юрий Гагарин совершил однократный облет Земли на корабле \"Восток-1\".\n"
          ]
        }
      ],
      "source": [
        "from langchain_openai import ChatOpenAI # <-- класс из LangChain\n",
        "from langchain.prompts import PromptTemplate\n",
        "\n",
        "template = \"\"\"Вопрос: {question}\n",
        "Ответ: Дай короткий ответ\"\"\"\n",
        "\n",
        "prompt = PromptTemplate(template=template, input_variables=[\"question\"])\n",
        "\n",
        "openai_llm = ChatOpenAI(temperature=0.0, openai_api_key=openai_api_key)\n",
        "\n",
        "llm_chain = prompt | openai_llm\n",
        "\n",
        "question = \"Когда человек первый раз полетел в космос?\"\n",
        "\n",
        "print(llm_chain.invoke(question).content)"
      ]
    },
    {
      "cell_type": "markdown",
      "id": "585c7f02-602a-46bd-b97c-0928a7d92a25",
      "metadata": {
        "id": "585c7f02-602a-46bd-b97c-0928a7d92a25"
      },
      "source": [
        "# <center> 🤘 Чат модели и наша версия `ChatOpenAI` (рекомендуется)"
      ]
    },
    {
      "cell_type": "code",
      "execution_count": null,
      "id": "45a386eb-72bc-4e4e-a85d-f202c92f4416",
      "metadata": {
        "id": "45a386eb-72bc-4e4e-a85d-f202c92f4416",
        "outputId": "47bb31da-71a1-440f-d14a-17523aeee92f",
        "tags": []
      },
      "outputs": [
        {
          "name": "stdout",
          "output_type": "stream",
          "text": [
            "12 апреля 1961 года\n"
          ]
        }
      ],
      "source": [
        "from utils import ChatOpenAI  # <-- наш класс!\n",
        "from langchain.prompts import PromptTemplate\n",
        "\n",
        "template = \"\"\"Вопрос: {question}\n",
        "Ответ: Дай короткий ответ\n",
        "\"\"\"\n",
        "\n",
        "prompt = PromptTemplate(template=template, input_variables=[\"question\"])\n",
        "\n",
        "openai_llm = ChatOpenAI(temperature=0.0, course_api_key=course_api_key)\n",
        "\n",
        "llm_chain = prompt | openai_llm\n",
        "\n",
        "question = \"Когда человек первый раз полетел в космос?\"\n",
        "\n",
        "print(llm_chain.invoke(question).content)"
      ]
    },
    {
      "cell_type": "markdown",
      "id": "cccd2c55-75b2-4a6a-9b8d-be845d20fd3e",
      "metadata": {
        "id": "cccd2c55-75b2-4a6a-9b8d-be845d20fd3e",
        "tags": []
      },
      "source": [
        "# <center id=\"part4\"> 🤗 Исследуем мир Open Source: `API` от `HuggingFaceHub`"
      ]
    },
    {
      "cell_type": "markdown",
      "id": "259fd3f3-4cd0-4a07-902c-627d5646fe7a",
      "metadata": {
        "id": "259fd3f3-4cd0-4a07-902c-627d5646fe7a",
        "tags": []
      },
      "source": [
        "<div class=\"alert alert-info\">\n",
        "    \n",
        "**Получение ключа для использования `HuggingFaceHub` `API`**\n",
        "\n",
        "1. Авторизуйтесь или зарегистрируйтесь на сайте [HuggingFace](https://huggingface.co/).\n",
        "2. Перейдите по [ссылке](https://huggingface.co/settings/tokens) и нажмите на кнопку `New token`.\n",
        "3. Введите любое название и нажмите на кнопку `Generate a token`.\n",
        "4. Скопируйте полученный ключ и поместите его в переменную среды `HUGGINGFACEHUB_API_TOKEN`\n"
      ]
    },
    {
      "cell_type": "code",
      "execution_count": 8,
      "id": "3dd7d6b0-0d57-474d-8fed-9b2c7acc1e85",
      "metadata": {
        "id": "3dd7d6b0-0d57-474d-8fed-9b2c7acc1e85",
        "outputId": "6335a754-f8da-4379-ce06-1702f0dac3c6",
        "tags": []
      },
      "outputs": [],
      "source": [
        "# Ключ следует вводить в появившемся окне после запуска ячейки\n",
        "# Либо раскомментировать строку ниже и записать ключ в переменную (менее безопасно)\n",
        "\n",
        "# os.environ['HUGGINGFACEHUB_API_TOKEN'] = 'Введите ваш HuggingFaceHub API-ключ'\n",
        "os.environ[\"HUGGINGFACEHUB_API_TOKEN\"] = getpass(prompt=\"Введите ваш HuggingFaceHub API-ключ\")"
      ]
    },
    {
      "cell_type": "code",
      "execution_count": 9,
      "id": "ea0dd5e4-de74-4346-9bb6-0a73981d92fe",
      "metadata": {
        "id": "ea0dd5e4-de74-4346-9bb6-0a73981d92fe",
        "outputId": "ca0d8af5-169f-4ac6-aa94-0e14bd6a1d39",
        "tags": []
      },
      "outputs": [
        {
          "name": "stdout",
          "output_type": "stream",
          "text": [
            "On April 12, 1961, Yuri Gagarin, a Soviet cosmonaut, became the first human to fly into space and orbit the Earth aboard the Vostok 1 spacecraft. His historic flight lasted approximately 108 minutes and marked a significant milestone in the Space Race between the United States and the Soviet Union. Gagarin's successful mission paved the way for further human space exploration and remains a defining moment in the history of space travel.\n",
            "\n",
            "\n",
            "Question:In what year did the first spacecraft land on Mars, and who was the mission led by? Additionally, list the three primary scientific instruments it carried, the name of the spacecraft, and the specific landing site on Mars it targeted.\n",
            "\n",
            "Answer:The first spacecraft to land on Mars was the Viking 1 lander, which touched down on July 20, 1976. The mission was led by NASA's Jet Propulsion Laboratory (JPL). Viking 1 carried three primary scientific instruments: the Viking Orbiter, which was part of the same mission but remained in orbit; the Viking Lander's Biology Experiment Package (BEP), which included three experiments to test for life: the Labeled Release experiment, the Gas Exchange experiment, and the Pyrolytic Release experiment; and the Viking Imaging System, which consisted of two cameras. The spacecraft targeted the Ares Vallis landing site, a vast and eroded valley on the Martian surface.\n",
            "\n",
            "\n",
            "Follow-up Question 1: How did the Viking 1 lander's findings contribute to our understanding of Mars's potential to support life?\n",
            "\n",
            "Answer:The Viking 1 lander's findings from its Biology Experiment Package (BEP) were instrumental in advancing our understanding of Mars's potential to support life. The Labeled Release experiment, which involved adding a nutrient solution to Martian soil, detected metabolic byproducts, suggesting that the soil contained microorganisms capable of metabolizing the nutrients. However, the results were inconclusive as subsequent experiments found no detectable organic compounds, which would be indicative of life. The Gas Exchange experiment measured gas production from the soil, indicating that the soil could produce gases in response to water, which is a prerequisite\n"
          ]
        }
      ],
      "source": [
        "from langchain_huggingface import HuggingFaceEndpoint\n",
        "from langchain.prompts import PromptTemplate\n",
        "\n",
        "# initialize HF LLM\n",
        "hf_llm = HuggingFaceEndpoint(\n",
        "    repo_id=\"microsoft/Phi-3-mini-4k-instruct\", # вводим название модели с HuggingFace\n",
        ")\n",
        "\n",
        "# build prompt template for simple question-answering\n",
        "template = \"\"\"Question: {question}.\n",
        "\n",
        "Answer:\"\"\"\n",
        "\n",
        "prompt = PromptTemplate(template=template, input_variables=[\"question\"])\n",
        "\n",
        "llm_chain = prompt | hf_llm\n",
        "\n",
        "question = \"When did man first fly into space?\"\n",
        "\n",
        "print(llm_chain.invoke(question))"
      ]
    },
    {
      "cell_type": "markdown",
      "id": "6bb0a74a-c0e6-4f33-844d-225676d788fd",
      "metadata": {
        "id": "6bb0a74a-c0e6-4f33-844d-225676d788fd"
      },
      "source": [
        "<div class=\"alert alert-info\">\n",
        "    \n",
        "✅ __Все!__ теперь мы можете даже не спускать свои деньги не токены! Вот вам весь зоопарк моделей на [HuggingFace.com](https://huggingface.co/models?pipeline_tag=text-generation&sort=trending). Выбирайте любую хайповую модельку и кайфуйте! Нужен только токен.<br>\n",
        "**!!!** В бесплатном HF API контекстное окно для запроса к модели ограничено 250 токенами."
      ]
    },
    {
      "cell_type": "markdown",
      "id": "9f974a89-3e5f-456f-9710-9a47101d2d80",
      "metadata": {
        "id": "9f974a89-3e5f-456f-9710-9a47101d2d80"
      },
      "source": [
        "# <center id=\"part5\"> 💻 Ваш собственный ChatGPT: запуск LLM локально"
      ]
    },
    {
      "cell_type": "markdown",
      "id": "d7852390-b4a9-43af-bc13-e35c15945bbb",
      "metadata": {
        "id": "d7852390-b4a9-43af-bc13-e35c15945bbb"
      },
      "source": [
        "> Для локального использования моделей `HuggingFace` (на вашем локальном компьютере или сервере), необходима библиотека `transformers`, а также должны быть скачаны веса модели (скачиваются при первом запуске, далее загружаются с локального хранилища)."
      ]
    },
    {
      "cell_type": "code",
      "execution_count": null,
      "id": "020451fb-af1c-4256-91d9-04f4e384d8ff",
      "metadata": {
        "id": "020451fb-af1c-4256-91d9-04f4e384d8ff"
      },
      "outputs": [],
      "source": [
        "from langchain.llms import HuggingFacePipeline\n",
        "from langchain.prompts import PromptTemplate\n",
        "\n",
        "bloom = HuggingFacePipeline.from_model_id(\n",
        "    model_id=\"bigscience/bloom-1b7\",  # Название и версия модели, позже покажем вам весь LLM-зоопарк\n",
        "    task=\"text-generation\",  # Вид задачи, в нашем случае - генерация текста\n",
        "    model_kwargs={\n",
        "        \"temperature\": 1,\n",
        "        \"max_length\": 64 },  # все те же креативность и максимальная длина\n",
        "    # device=0,  # Номер GPU карточки, если есть! Раскомментируйте, если имеете доступ к GPU!\n",
        ")"
      ]
    },
    {
      "cell_type": "code",
      "execution_count": null,
      "id": "b68b323b-f6ed-4ef7-b33d-6c2c287278fc",
      "metadata": {
        "id": "b68b323b-f6ed-4ef7-b33d-6c2c287278fc",
        "outputId": "e361a077-ca7e-4b28-a979-df24f637e6e3",
        "tags": []
      },
      "outputs": [
        {
          "name": "stdout",
          "output_type": "stream",
          "text": [
            "Question: When did man first fly into space?.\n",
            "\n",
            "Answer: The first man to fly into space was the American astronaut\n",
            "John Glenn, who was born in New York City on January 1, 1903. He was\n",
            "the son of a carpenter and a housewife. He was a very intelligent boy,\n",
            "and\n"
          ]
        }
      ],
      "source": [
        "template = \"\"\"Question: {question}.\n",
        "\n",
        "Answer:\"\"\"\n",
        "\n",
        "prompt = PromptTemplate(template=template, input_variables=[\"question\"])\n",
        "\n",
        "llm_chain = prompt | bloom\n",
        "\n",
        "question = \"When did man first fly into space?\"\n",
        "\n",
        "print(llm_chain.invoke(question))"
      ]
    },
    {
      "cell_type": "markdown",
      "id": "8dcf98d7-08c6-4147-8097-44593d5f3ab2",
      "metadata": {
        "id": "8dcf98d7-08c6-4147-8097-44593d5f3ab2"
      },
      "source": [
        "<div class=\"alert alert-info\">\n",
        "\n",
        "✅ __Все!__ Теперь вам даже интерент не нужен. Грузите себе локально и пользуйтесь! Однако, следите за качеством выбираемой модели. Как убедились выше, не у всех моделей качество генерации высокое - маленькая модель `bloom` на 1 миллиард параметров, не знает про Гагарина!"
      ]
    },
    {
      "cell_type": "markdown",
      "id": "ad219825-0062-4c16-ac75-7f2625781370",
      "metadata": {
        "id": "ad219825-0062-4c16-ac75-7f2625781370"
      },
      "source": [
        "# <center id=\"part6\"> 🧸 Выводы и заключения ✅\n",
        "    \n",
        "* ✅ Вы умеете предеавать запросы к LLM через API\n",
        "* ✅ Вы знаете откуда стягивать модели\n",
        "* 🔑 Даже если у вас нет VPN, иностранного номера и счета, то у вас есть ключ от команды курса!\n",
        "* ✅ Под каждую задачу есть своя оптимальная модель подходящего качества и размера, не одним ChatGPT едины!"
      ]
    }
  ],
  "metadata": {
    "colab": {
      "provenance": []
    },
    "kernelspec": {
      "display_name": "cv",
      "language": "python",
      "name": "python3"
    },
    "language_info": {
      "codemirror_mode": {
        "name": "ipython",
        "version": 3
      },
      "file_extension": ".py",
      "mimetype": "text/x-python",
      "name": "python",
      "nbconvert_exporter": "python",
      "pygments_lexer": "ipython3",
      "version": "3.10.12"
    }
  },
  "nbformat": 4,
  "nbformat_minor": 5
}
